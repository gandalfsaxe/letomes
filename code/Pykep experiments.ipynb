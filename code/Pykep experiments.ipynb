{
 "cells": [
  {
   "cell_type": "code",
   "execution_count": null,
   "metadata": {},
   "outputs": [],
   "source": [
    "import pixiedust\n",
    "import pygmo as pg\n",
    "from pykep import epoch, util\n",
    "from pykep.planet import jpl_lp\n",
    "from pykep.planet import spice\n",
    "from pykep.trajopt import mga_1dsm\n",
    "util.load_spice_kernel('de430.bsp')"
   ]
  },
  {
   "cell_type": "code",
   "execution_count": null,
   "metadata": {},
   "outputs": [],
   "source": [
    "def goto_mars():\n",
    "    # We define an Earth-Mars problem (single-objective)\n",
    "    seq = [jpl_lp('earth'),jpl_lp('mars')]\n",
    "    udp = mga_1dsm(\n",
    "        seq=seq,\n",
    "        t0=[epoch(18*365.25 + 1), epoch(25*365.25 + 1)],\n",
    "        tof=[0.7 * 365.25, 7 * 365.25],\n",
    "        vinf=[0.5, 5],\n",
    "        add_vinf_dep=False,\n",
    "        add_vinf_arr=True,\n",
    "        multi_objective=False\n",
    "    )\n",
    "\n",
    "    pg.problem(udp)\n",
    "    # We solve it!!\n",
    "    uda = pg.sade(gen=200)\n",
    "    archi = pg.archipelago(algo=uda, prob=udp, n=12, pop_size=30)\n",
    "    print(\n",
    "        \"Running a Self-Adaptive Differential Evolution Algorithm .... on 12 parallel islands\")\n",
    "    archi.evolve(10)\n",
    "    archi.wait()\n",
    "    sols = archi.get_champions_f()\n",
    "    idx = sols.index(min(sols))\n",
    "    print(\"Done!! Solutions found are: \", archi.get_champions_f())\n",
    "    print(f\"\\nThe best solution with Dv = {min(sols)[0]}:\\n\")\n",
    "    udp.pretty(archi.get_champions_x()[idx])\n",
    "    udp.plot(archi.get_champions_x()[idx])"
   ]
  },
  {
   "cell_type": "code",
   "execution_count": null,
   "metadata": {
    "pixiedust": {
     "displayParams": {}
    }
   },
   "outputs": [],
   "source": [
    "goto_mars()"
   ]
  },
  {
   "cell_type": "code",
   "execution_count": null,
   "metadata": {
    "pixiedust": {
     "displayParams": {}
    }
   },
   "outputs": [],
   "source": [
    "def goto_moon():\n",
    "    # We define an Earth-Mars problem (single-objective)\n",
    "    seq = [spice('EARTH'),spice('MOON','EARTH')]\n",
    "    udp = mga_1dsm(\n",
    "        seq=seq,\n",
    "        t0=[epoch(18*365.25 + 1), epoch(25*365.25 + 1)],\n",
    "        tof=[0.7 * 365.25, 7 * 365.25],\n",
    "        vinf=[0.5, 5],\n",
    "        add_vinf_dep=False,\n",
    "        add_vinf_arr=True,\n",
    "        multi_objective=False\n",
    "    )\n",
    "\n",
    "    pg.problem(udp)\n",
    "    # We solve it!!\n",
    "    uda = pg.sade(gen=200)\n",
    "    archi = pg.archipelago(algo=uda, prob=udp, n=12, pop_size=30)\n",
    "    print(\n",
    "        \"Running a Self-Adaptive Differential Evolution Algorithm .... on 12 parallel islands\")\n",
    "    archi.evolve(10)\n",
    "    archi.wait()\n",
    "    sols = archi.get_champions_f()\n",
    "    idx = sols.index(min(sols))\n",
    "    print(\"Done!! Solutions found are: \", archi.get_champions_f())\n",
    "    print(f\"\\nThe best solution with Dv = {min(sols)[0]}:\\n\")\n",
    "    udp.pretty(archi.get_champions_x()[idx])\n",
    "    udp.plot(archi.get_champions_x()[idx])"
   ]
  },
  {
   "cell_type": "code",
   "execution_count": null,
   "metadata": {},
   "outputs": [],
   "source": [
    "%%pixie_debugger\n",
    "goto_moon()"
   ]
  },
  {
   "cell_type": "code",
   "execution_count": null,
   "metadata": {},
   "outputs": [],
   "source": []
  },
  {
   "cell_type": "code",
   "execution_count": null,
   "metadata": {},
   "outputs": [],
   "source": []
  }
 ],
 "metadata": {
  "kernelspec": {
   "display_name": "Python 3",
   "language": "python",
   "name": "python3"
  },
  "language_info": {
   "codemirror_mode": {
    "name": "ipython",
    "version": 3
   },
   "file_extension": ".py",
   "mimetype": "text/x-python",
   "name": "python",
   "nbconvert_exporter": "python",
   "pygments_lexer": "ipython3",
   "version": "3.6.4"
  }
 },
 "nbformat": 4,
 "nbformat_minor": 2
}
