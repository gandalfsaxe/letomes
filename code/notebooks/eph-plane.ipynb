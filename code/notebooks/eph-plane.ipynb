{
 "cells": [
  {
   "cell_type": "code",
   "execution_count": 1,
   "metadata": {},
   "outputs": [],
   "source": [
    "import pandas as pd\n",
    "\n",
    "import numpy as np\n",
    "\n",
    "import os\n",
    "\n",
    "from math import ceil, floor\n",
    "\n",
    "from pprint import pprint"
   ]
  },
  {
   "cell_type": "code",
   "execution_count": 2,
   "metadata": {},
   "outputs": [],
   "source": [
    "# Script inputs\n",
    "    \n",
    "FILE_PATH = \"../orbsim/r4b_3d/ephemerides/\"\n",
    "\n",
    "PLANETS = [\"earth\",\n",
    "           \"mars\"]\n",
    "\n",
    "END_YEAR = \"2020\""
   ]
  },
  {
   "cell_type": "code",
   "execution_count": 3,
   "metadata": {},
   "outputs": [
    {
     "data": {
      "text/plain": [
       "{'earth': 'earth_2019-2020.csv', 'mars': 'mars_2019-2020.csv'}"
      ]
     },
     "execution_count": 3,
     "metadata": {},
     "output_type": "execute_result"
    }
   ],
   "source": [
    "ephemerides_filename_dict = {}\n",
    "\n",
    "for planet in PLANETS:\n",
    "    ephemerides_filename_dict[planet] = \"{}_2019-{}.csv\".format(planet, END_YEAR)\n",
    "\n",
    "ephemerides_filename_dict"
   ]
  },
  {
   "cell_type": "code",
   "execution_count": 4,
   "metadata": {},
   "outputs": [
    {
     "name": "stdout",
     "output_type": "stream",
     "text": [
      "/Users/gandalf/Dropbox/repositories/letomes/code/orbsim/r4b_3d/ephemerides\n"
     ]
    }
   ],
   "source": [
    "# Change CWD of necessary\n",
    "cwd = os.getcwd()\n",
    "in_correct_cwd = 'code' + FILE_PATH[2:-1] == cwd[-30:] # Check if last part of cwd is '/code/orbsim/r4b_3d'\n",
    "\n",
    "if not in_correct_cwd:    \n",
    "    os.chdir(FILE_PATH)\n",
    "    cwd = os.getcwd()\n",
    "\n",
    "print(cwd)"
   ]
  },
  {
   "cell_type": "code",
   "execution_count": 5,
   "metadata": {},
   "outputs": [
    {
     "data": {
      "text/plain": [
       "{'earth':        day      MJD       date         r      theta         phi         x  \\\n",
       " 0      0.0  58484.0 2019-01-01  0.983311  66.939900  100.873526 -0.170672   \n",
       " 1      1.0  58485.0 2019-01-02  0.983304  67.020209  101.977771 -0.187873   \n",
       " ..     ...      ...        ...       ...        ...         ...       ...   \n",
       " 364  364.0  58848.0 2019-12-31  0.983318  66.849649   99.485272 -0.148996   \n",
       " 365  365.0  58849.0 2020-01-01  0.983293  66.920303  100.591037 -0.166262   \n",
       " \n",
       "             y         z  \n",
       " 0    0.888496  0.385160  \n",
       " 1    0.885562  0.383888  \n",
       " ..        ...       ...  \n",
       " 364  0.891776  0.386587  \n",
       " 365  0.889180  0.385462  \n",
       " \n",
       " [366 rows x 9 columns],\n",
       " 'mars':        day      MJD       date         r       theta         phi         x  \\\n",
       " 0      0.0  58484.0 2019-01-01  1.453495   74.996659   39.051247  1.090280   \n",
       " 1      1.0  58485.0 2019-01-02  1.454684   74.803063   39.609720  1.081506   \n",
       " ..     ...      ...        ...       ...         ...         ...       ...   \n",
       " 364  364.0  58848.0 2019-12-31  1.590905  102.158151  211.330034 -1.328449   \n",
       " 365  365.0  58849.0 2020-01-01  1.589802  102.334380  211.785707 -1.320177   \n",
       " \n",
       "             y         z  \n",
       " 0    0.884507  0.376274  \n",
       " 1    0.895008  0.381327  \n",
       " ..        ...       ...  \n",
       " 364 -0.808664 -0.335062  \n",
       " 365 -0.818089 -0.339608  \n",
       " \n",
       " [366 rows x 9 columns]}"
      ]
     },
     "execution_count": 5,
     "metadata": {},
     "output_type": "execute_result"
    }
   ],
   "source": [
    "# Read CSV files into dict\n",
    "ephemerides = {}\n",
    "for body, csv_filename in ephemerides_filename_dict.items():\n",
    "    ephemerides[body] = pd.read_csv(csv_filename, parse_dates=['date'])\n",
    "\n",
    "pd.set_option(\"max_row\", 5)\n",
    "ephemerides    "
   ]
  },
  {
   "cell_type": "code",
   "execution_count": 6,
   "metadata": {},
   "outputs": [
    {
     "data": {
      "text/plain": [
       "day           0\n",
       "MJD       58484\n",
       "         ...   \n",
       "y      0.888496\n",
       "z       0.38516\n",
       "Name: 0, Length: 9, dtype: object"
      ]
     },
     "execution_count": 6,
     "metadata": {},
     "output_type": "execute_result"
    }
   ],
   "source": [
    "eph_0 = ephemerides['earth'].iloc[0]\n",
    "eph_0"
   ]
  },
  {
   "cell_type": "code",
   "execution_count": 7,
   "metadata": {},
   "outputs": [
    {
     "data": {
      "text/plain": [
       "day           90\n",
       "MJD        58574\n",
       "         ...    \n",
       "y      -0.170402\n",
       "z     -0.0738647\n",
       "Name: 90, Length: 9, dtype: object"
      ]
     },
     "execution_count": 7,
     "metadata": {},
     "output_type": "execute_result"
    }
   ],
   "source": [
    "eph_90 = ephemerides['earth'].iloc[90]\n",
    "eph_90"
   ]
  },
  {
   "cell_type": "code",
   "execution_count": 8,
   "metadata": {},
   "outputs": [
    {
     "data": {
      "text/plain": [
       "[-0.17067156908935588, 0.8884956572544115, 0.38515958052044585]"
      ]
     },
     "execution_count": 8,
     "metadata": {},
     "output_type": "execute_result"
    }
   ],
   "source": [
    "earth_position_0 = [eph_0['x'], eph_0['y'], eph_0['z']]\n",
    "earth_position_0"
   ]
  },
  {
   "cell_type": "code",
   "execution_count": 9,
   "metadata": {},
   "outputs": [
    {
     "data": {
      "text/plain": [
       "[-0.9816624685415865, -0.1704024175360441, -0.07386473004438637]"
      ]
     },
     "execution_count": 9,
     "metadata": {},
     "output_type": "execute_result"
    }
   ],
   "source": [
    "earth_position_90 = [eph_90['x'], eph_90['y'], eph_90['z']]\n",
    "earth_position_90"
   ]
  },
  {
   "cell_type": "code",
   "execution_count": 10,
   "metadata": {},
   "outputs": [
    {
     "data": {
      "text/plain": [
       "array([ 3.63178915e-06, -3.90703314e-01,  9.01285688e-01])"
      ]
     },
     "execution_count": 10,
     "metadata": {},
     "output_type": "execute_result"
    }
   ],
   "source": [
    "eccliptic = np.cross(earth_position_0, earth_position_90)\n",
    "eccliptic"
   ]
  },
  {
   "cell_type": "code",
   "execution_count": 11,
   "metadata": {},
   "outputs": [
    {
     "data": {
      "text/plain": [
       "array([ 3.69713111e-06, -3.97732720e-01,  9.17501326e-01])"
      ]
     },
     "execution_count": 11,
     "metadata": {},
     "output_type": "execute_result"
    }
   ],
   "source": [
    "eccliptic /= np.linalg.norm(eccliptic)\n",
    "eccliptic"
   ]
  },
  {
   "cell_type": "code",
   "execution_count": null,
   "metadata": {},
   "outputs": [],
   "source": []
  }
 ],
 "metadata": {
  "kernelspec": {
   "display_name": "Python 3",
   "language": "python",
   "name": "python3"
  },
  "language_info": {
   "codemirror_mode": {
    "name": "ipython",
    "version": 3
   },
   "file_extension": ".py",
   "mimetype": "text/x-python",
   "name": "python",
   "nbconvert_exporter": "python",
   "pygments_lexer": "ipython3",
   "version": "3.6.6"
  }
 },
 "nbformat": 4,
 "nbformat_minor": 2
}
