{
 "cells": [
  {
   "cell_type": "code",
   "execution_count": 67,
   "metadata": {},
   "outputs": [],
   "source": [
    "import pandas as pd\n",
    "\n",
    "import numpy as np\n",
    "\n",
    "import os\n",
    "\n",
    "from math import ceil, floor\n",
    "\n",
    "from pprint import pprint"
   ]
  },
  {
   "cell_type": "code",
   "execution_count": 3,
   "metadata": {},
   "outputs": [],
   "source": [
    "# Script inputs\n",
    "    \n",
    "FILE_PATH = \"../orbsim/r4b_3d/ephemerides/\"\n",
    "\n",
    "PLANETS = [\"earth\",\n",
    "           \"mars\"]\n",
    "\n",
    "END_YEAR = \"2020\""
   ]
  },
  {
   "cell_type": "code",
   "execution_count": 4,
   "metadata": {},
   "outputs": [
    {
     "data": {
      "text/plain": [
       "{'earth': 'earth_2019-2020.csv', 'mars': 'mars_2019-2020.csv'}"
      ]
     },
     "execution_count": 4,
     "metadata": {},
     "output_type": "execute_result"
    }
   ],
   "source": [
    "ephemerides_filename_dict = {}\n",
    "\n",
    "for planet in PLANETS:\n",
    "    ephemerides_filename_dict[planet] = \"{}_2019-{}.csv\".format(planet, END_YEAR)\n",
    "\n",
    "ephemerides_filename_dict"
   ]
  },
  {
   "cell_type": "code",
   "execution_count": 5,
   "metadata": {},
   "outputs": [
    {
     "name": "stdout",
     "output_type": "stream",
     "text": [
      "/Users/gandalf/Dropbox/repositories/letomes/code/orbsim/r4b_3d/ephemerides\n"
     ]
    }
   ],
   "source": [
    "# Change CWD of necessary\n",
    "cwd = os.getcwd()\n",
    "in_correct_cwd = 'code' + FILE_PATH[2:-1] == cwd[-30:] # Check if last part of cwd is '/code/orbsim/r4b_3d'\n",
    "\n",
    "if not in_correct_cwd:    \n",
    "    os.chdir(FILE_PATH)\n",
    "    cwd = os.getcwd()\n",
    "\n",
    "print(cwd)"
   ]
  },
  {
   "cell_type": "code",
   "execution_count": 6,
   "metadata": {},
   "outputs": [
    {
     "data": {
      "text/plain": [
       "{'earth':        day      MJD       date         r      theta         phi         x  \\\n",
       " 0      0.0  58484.0 2019-01-01  0.983311  66.939900  100.873526 -0.170672   \n",
       " 1      1.0  58485.0 2019-01-02  0.983304  67.020209  101.977771 -0.187873   \n",
       " ..     ...      ...        ...       ...        ...         ...       ...   \n",
       " 364  364.0  58848.0 2019-12-31  0.983318  66.849649   99.485272 -0.148996   \n",
       " 365  365.0  58849.0 2020-01-01  0.983293  66.920303  100.591037 -0.166262   \n",
       " \n",
       "             y         z  \n",
       " 0    0.888496  0.385160  \n",
       " 1    0.885562  0.383888  \n",
       " ..        ...       ...  \n",
       " 364  0.891776  0.386587  \n",
       " 365  0.889180  0.385462  \n",
       " \n",
       " [366 rows x 9 columns],\n",
       " 'mars':        day      MJD       date         r       theta         phi         x  \\\n",
       " 0      0.0  58484.0 2019-01-01  1.453495   74.996659   39.051247  1.090280   \n",
       " 1      1.0  58485.0 2019-01-02  1.454684   74.803063   39.609720  1.081506   \n",
       " ..     ...      ...        ...       ...         ...         ...       ...   \n",
       " 364  364.0  58848.0 2019-12-31  1.590905  102.158151  211.330034 -1.328449   \n",
       " 365  365.0  58849.0 2020-01-01  1.589802  102.334380  211.785707 -1.320177   \n",
       " \n",
       "             y         z  \n",
       " 0    0.884507  0.376274  \n",
       " 1    0.895008  0.381327  \n",
       " ..        ...       ...  \n",
       " 364 -0.808664 -0.335062  \n",
       " 365 -0.818089 -0.339608  \n",
       " \n",
       " [366 rows x 9 columns]}"
      ]
     },
     "execution_count": 6,
     "metadata": {},
     "output_type": "execute_result"
    }
   ],
   "source": [
    "# Read CSV files into dict\n",
    "ephemerides = {}\n",
    "for body, csv_filename in ephemerides_filename_dict.items():\n",
    "    ephemerides[body] = pd.read_csv(csv_filename, parse_dates=['date'])\n",
    "\n",
    "pd.set_option(\"max_row\", 5)\n",
    "ephemerides    "
   ]
  },
  {
   "cell_type": "code",
   "execution_count": 19,
   "metadata": {},
   "outputs": [],
   "source": [
    "import math"
   ]
  },
  {
   "cell_type": "code",
   "execution_count": 48,
   "metadata": {},
   "outputs": [
    {
     "name": "stdout",
     "output_type": "stream",
     "text": [
      "4 5 0.7000000000000002\n"
     ]
    }
   ],
   "source": [
    "day = 4.7\n",
    "day_lower = floor(day)\n",
    "day_upper = day_lower + 1\n",
    "day_increment = day % 1\n",
    "\n",
    "print(day_lower, day_upper, day_increment)"
   ]
  },
  {
   "cell_type": "code",
   "execution_count": 54,
   "metadata": {},
   "outputs": [],
   "source": [
    "# Linear continuous interpolation of all planet positions\n",
    "\n",
    "interpolated_dict = {}\n",
    "\n",
    "for body, eph in ephemerides.items():\n",
    "\n",
    "    start_position_df = eph.iloc[[day_lower]]\n",
    "    end_position_df = eph.iloc[[day_upper]]\n",
    "    \n",
    "    start_position_series = start_position_df.iloc[0]\n",
    "    end_position_series = end_position_df.iloc[0]\n",
    "    \n",
    "    diff_position_series = end_position_series - start_position_series\n",
    "    \n",
    "    interpolated_position = start_position_series + day_increment * diff_position_series\n",
    "\n",
    "    interpolated_dict[body] = interpolated_position"
   ]
  },
  {
   "cell_type": "code",
   "execution_count": 68,
   "metadata": {},
   "outputs": [
    {
     "name": "stdout",
     "output_type": "stream",
     "text": [
      "{'earth': day         4.7\n",
      "MJD     58488.7\n",
      "         ...   \n",
      "y       0.87228\n",
      "z      0.378133\n",
      "Length: 9, dtype: object,\n",
      " 'mars': day         4.7\n",
      "MJD     58488.7\n",
      "         ...   \n",
      "y      0.933098\n",
      "z      0.399699\n",
      "Length: 9, dtype: object}\n"
     ]
    }
   ],
   "source": [
    "pprint(interpolated_dict)"
   ]
  }
 ],
 "metadata": {
  "kernelspec": {
   "display_name": "Python 3",
   "language": "python",
   "name": "python3"
  },
  "language_info": {
   "codemirror_mode": {
    "name": "ipython",
    "version": 3
   },
   "file_extension": ".py",
   "mimetype": "text/x-python",
   "name": "python",
   "nbconvert_exporter": "python",
   "pygments_lexer": "ipython3",
   "version": "3.6.6"
  }
 },
 "nbformat": 4,
 "nbformat_minor": 2
}
