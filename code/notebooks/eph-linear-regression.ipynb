{
 "cells": [
  {
   "cell_type": "code",
   "execution_count": 1,
   "metadata": {},
   "outputs": [],
   "source": [
    "import pandas as pd\n",
    "\n",
    "from mpl_toolkits.mplot3d import Axes3D\n",
    "import matplotlib.pyplot as plt\n",
    "import numpy as np\n",
    "\n",
    "import os\n",
    "\n",
    "import pdir"
   ]
  },
  {
   "cell_type": "code",
   "execution_count": 2,
   "metadata": {},
   "outputs": [],
   "source": [
    "# Script inputs\n",
    "\n",
    "EXTRAPOLATION_POINTS = 9  # number of extrapolated points on line segnment between two table position values.\n",
    "                          # e.g. 9 will give 0.1, 0.2, ..., 0.8, 0.9 on the segment between 0 and 1.\n",
    "    \n",
    "FILE_PATH = \"../orbsim/r4b_3d/ephemerides/\"\n",
    "\n",
    "PLANETS = [\"earth\",\n",
    "           \"mars\"]\n",
    "\n",
    "END_YEAR = \"2020\""
   ]
  },
  {
   "cell_type": "code",
   "execution_count": 3,
   "metadata": {},
   "outputs": [
    {
     "data": {
      "text/plain": [
       "{'earth': 'earth_2019-2020.csv', 'mars': 'mars_2019-2020.csv'}"
      ]
     },
     "execution_count": 3,
     "metadata": {},
     "output_type": "execute_result"
    }
   ],
   "source": [
    "ephemerides_filename_dict = {}\n",
    "\n",
    "for planet in PLANETS:\n",
    "    ephemerides_filename_dict[planet] = \"{}_2019-{}.csv\".format(planet, END_YEAR)\n",
    "\n",
    "ephemerides_filename_dict"
   ]
  },
  {
   "cell_type": "code",
   "execution_count": 4,
   "metadata": {},
   "outputs": [
    {
     "name": "stdout",
     "output_type": "stream",
     "text": [
      "/Users/gandalf/Dropbox/repositories/letomes/code/orbsim/r4b_3d/ephemerides\n"
     ]
    }
   ],
   "source": [
    "# Change CWD of necessary\n",
    "cwd = os.getcwd()\n",
    "in_correct_cwd = 'code' + FILE_PATH[2:-1] == cwd[-30:] # Check if last part of cwd is '/code/orbsim/r4b_3d'\n",
    "\n",
    "if not in_correct_cwd:    \n",
    "    os.chdir(FILE_PATH)\n",
    "    cwd = os.getcwd()\n",
    "\n",
    "print(cwd)"
   ]
  },
  {
   "cell_type": "code",
   "execution_count": 5,
   "metadata": {},
   "outputs": [
    {
     "data": {
      "text/plain": [
       "{'earth':        day      MJD       date         r      theta         phi         x  \\\n",
       " 0      0.0  58484.0 2019-01-01  0.983311  66.939900  100.873526 -0.170672   \n",
       " 1      1.0  58485.0 2019-01-02  0.983304  67.020209  101.977771 -0.187873   \n",
       " ..     ...      ...        ...       ...        ...         ...       ...   \n",
       " 364  364.0  58848.0 2019-12-31  0.983318  66.849649   99.485272 -0.148996   \n",
       " 365  365.0  58849.0 2020-01-01  0.983293  66.920303  100.591037 -0.166262   \n",
       " \n",
       "             y         z  \n",
       " 0    0.888496  0.385160  \n",
       " 1    0.885562  0.383888  \n",
       " ..        ...       ...  \n",
       " 364  0.891776  0.386587  \n",
       " 365  0.889180  0.385462  \n",
       " \n",
       " [366 rows x 9 columns],\n",
       " 'mars':        day      MJD       date         r       theta         phi         x  \\\n",
       " 0      0.0  58484.0 2019-01-01  1.453495   74.996659   39.051247  1.090280   \n",
       " 1      1.0  58485.0 2019-01-02  1.454684   74.803063   39.609720  1.081506   \n",
       " ..     ...      ...        ...       ...         ...         ...       ...   \n",
       " 364  364.0  58848.0 2019-12-31  1.590905  102.158151  211.330034 -1.328449   \n",
       " 365  365.0  58849.0 2020-01-01  1.589802  102.334380  211.785707 -1.320177   \n",
       " \n",
       "             y         z  \n",
       " 0    0.884507  0.376274  \n",
       " 1    0.895008  0.381327  \n",
       " ..        ...       ...  \n",
       " 364 -0.808664 -0.335062  \n",
       " 365 -0.818089 -0.339608  \n",
       " \n",
       " [366 rows x 9 columns]}"
      ]
     },
     "execution_count": 5,
     "metadata": {},
     "output_type": "execute_result"
    }
   ],
   "source": [
    "# Read CSV files into dict\n",
    "ephemerides = {}\n",
    "for body, csv_filename in ephemerides_filename_dict.items():\n",
    "    ephemerides[body] = pd.read_csv(csv_filename, parse_dates=['date'])\n",
    "\n",
    "pd.set_option(\"max_row\", 5)\n",
    "ephemerides    "
   ]
  },
  {
   "cell_type": "code",
   "execution_count": 6,
   "metadata": {},
   "outputs": [],
   "source": [
    "# Linear extrapolation of all planet positions\n",
    "\n",
    "extrapolated_ephemerides = {}\n",
    "\n",
    "for body, eph in ephemerides.items():\n",
    "    cols = eph.columns\n",
    "    extrapolated_body = pd.DataFrame(columns=cols)\n",
    "    extrapolated_body = extrapolated_body.append(eph.iloc[[0]])  # Add initial point\n",
    "\n",
    "    N = len(eph) - 1  # number of intervals that needs extrapolation (0->1, 1->2, ...,)\n",
    "\n",
    "    for n in range(N):  # add all points for day ]n, n+1]\n",
    "\n",
    "        start_position_df = eph.iloc[[n]]\n",
    "        end_position_df = eph.iloc[[n+1]]\n",
    "\n",
    "        start_position_series = start_position_df.iloc[0]\n",
    "        end_position_series = end_position_df.iloc[0]\n",
    "\n",
    "        position_difference_series = end_position_series - start_position_series\n",
    "\n",
    "        start_day = int(start_position_df['day'])\n",
    "\n",
    "        for i in range(1,EXTRAPOLATION_POINTS+1):\n",
    "            extrapolated_position_series = start_position_series + i / (EXTRAPOLATION_POINTS + 1) * position_difference_series\n",
    "            extrapolated_position_df = pd.DataFrame(data=[extrapolated_position_series.values], columns=cols)\n",
    "            extrapolated_body = extrapolated_body.append(extrapolated_position_df)\n",
    "\n",
    "        extrapolated_body = extrapolated_body.append(end_position_df) # Add upper bound in current interval\n",
    "\n",
    "    extrapolated_body.set_index('day', inplace=True)\n",
    "\n",
    "    extrapolated_ephemerides[body] = extrapolated_body"
   ]
  },
  {
   "cell_type": "code",
   "execution_count": 7,
   "metadata": {},
   "outputs": [
    {
     "data": {
      "text/plain": [
       "{'earth':            MJD                date         r      theta         phi         x  \\\n",
       " day                                                                             \n",
       " 0.0    58484.0 2019-01-01 00:00:00  0.983311  66.939900  100.873526 -0.170672   \n",
       " 0.1    58484.1 2019-01-01 02:24:00  0.983311  66.947931  100.983950 -0.172392   \n",
       " ...        ...                 ...       ...        ...         ...       ...   \n",
       " 364.9  58848.9 2019-12-31 21:36:00  0.983296  66.913238  100.480461 -0.164535   \n",
       " 365.0  58849.0 2020-01-01 00:00:00  0.983293  66.920303  100.591037 -0.166262   \n",
       " \n",
       "               y         z  \n",
       " day                        \n",
       " 0.0    0.888496  0.385160  \n",
       " 0.1    0.888202  0.385032  \n",
       " ...         ...       ...  \n",
       " 364.9  0.889440  0.385574  \n",
       " 365.0  0.889180  0.385462  \n",
       " \n",
       " [3651 rows x 8 columns],\n",
       " 'mars':            MJD                date         r       theta         phi  \\\n",
       " day                                                                    \n",
       " 0.0    58484.0 2019-01-01 00:00:00  1.453495   74.996659   39.051247   \n",
       " 0.1    58484.1 2019-01-01 02:24:00  1.453614   74.977299   39.107094   \n",
       " ...        ...                 ...       ...         ...         ...   \n",
       " 364.9  58848.9 2019-12-31 21:36:00  1.589912  102.316757  211.740140   \n",
       " 365.0  58849.0 2020-01-01 00:00:00  1.589802  102.334380  211.785707   \n",
       " \n",
       "               x         y         z  \n",
       " day                                  \n",
       " 0.0    1.090280  0.884507  0.376274  \n",
       " 0.1    1.089403  0.885558  0.376779  \n",
       " ...         ...       ...       ...  \n",
       " 364.9 -1.321004 -0.817146 -0.339154  \n",
       " 365.0 -1.320177 -0.818089 -0.339608  \n",
       " \n",
       " [3651 rows x 8 columns]}"
      ]
     },
     "execution_count": 7,
     "metadata": {},
     "output_type": "execute_result"
    }
   ],
   "source": [
    "extrapolated_ephemerides"
   ]
  },
  {
   "cell_type": "code",
   "execution_count": 23,
   "metadata": {},
   "outputs": [],
   "source": [
    "# Write dicts to CSV files\n",
    "\n",
    "for body, filename in ephemerides_filename_dict.items():\n",
    "    basename, extension = filename.split('.')\n",
    "    extended_filename = \"{}_extrapolated-{}.csv\".format(basename,EXTRAPOLATION_POINTS)\n",
    "    extrapolated_ephemerides[body].to_csv(extended_filename)"
   ]
  },
  {
   "cell_type": "code",
   "execution_count": null,
   "metadata": {},
   "outputs": [],
   "source": []
  }
 ],
 "metadata": {
  "kernelspec": {
   "display_name": "Python 3",
   "language": "python",
   "name": "python3"
  },
  "language_info": {
   "codemirror_mode": {
    "name": "ipython",
    "version": 3
   },
   "file_extension": ".py",
   "mimetype": "text/x-python",
   "name": "python",
   "nbconvert_exporter": "python",
   "pygments_lexer": "ipython3",
   "version": "3.6.6"
  }
 },
 "nbformat": 4,
 "nbformat_minor": 2
}
