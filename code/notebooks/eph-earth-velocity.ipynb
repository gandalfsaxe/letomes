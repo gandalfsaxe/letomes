{
 "cells": [
  {
   "cell_type": "code",
   "execution_count": 18,
   "metadata": {},
   "outputs": [],
   "source": [
    "import pandas as pd\n",
    "\n",
    "import numpy as np\n",
    "\n",
    "import os\n",
    "\n",
    "from math import sqrt"
   ]
  },
  {
   "cell_type": "code",
   "execution_count": 19,
   "metadata": {},
   "outputs": [],
   "source": [
    "# Script inputs\n",
    "    \n",
    "FILE_PATH = \"../orbsim/r4b_3d/ephemerides/\"\n",
    "\n",
    "PLANETS = [\"earth\",\n",
    "           \"mars\"]\n",
    "\n",
    "END_YEAR = \"2020\""
   ]
  },
  {
   "cell_type": "code",
   "execution_count": 20,
   "metadata": {},
   "outputs": [
    {
     "data": {
      "text/plain": [
       "{'earth': 'earth_2019-2020.csv', 'mars': 'mars_2019-2020.csv'}"
      ]
     },
     "execution_count": 20,
     "metadata": {},
     "output_type": "execute_result"
    }
   ],
   "source": [
    "ephemerides_filename_dict = {}\n",
    "\n",
    "for planet in PLANETS:\n",
    "    ephemerides_filename_dict[planet] = \"{}_2019-{}.csv\".format(planet, END_YEAR)\n",
    "\n",
    "ephemerides_filename_dict"
   ]
  },
  {
   "cell_type": "code",
   "execution_count": 21,
   "metadata": {},
   "outputs": [
    {
     "name": "stdout",
     "output_type": "stream",
     "text": [
      "/Users/gandalf/Dropbox/repositories/letomes/code/orbsim/r4b_3d/ephemerides\n"
     ]
    }
   ],
   "source": [
    "# Change CWD of necessary\n",
    "cwd = os.getcwd()\n",
    "in_correct_cwd = 'code' + FILE_PATH[2:-1] == cwd[-30:] # Check if last part of cwd is '/code/orbsim/r4b_3d'\n",
    "\n",
    "if not in_correct_cwd:    \n",
    "    os.chdir(FILE_PATH)\n",
    "    cwd = os.getcwd()\n",
    "\n",
    "print(cwd)"
   ]
  },
  {
   "cell_type": "code",
   "execution_count": 22,
   "metadata": {},
   "outputs": [
    {
     "data": {
      "text/plain": [
       "{'earth':        day      MJD       date         r      theta         phi         x  \\\n",
       " 0      0.0  58484.0 2019-01-01  0.983311  66.939900  100.873526 -0.170672   \n",
       " 1      1.0  58485.0 2019-01-02  0.983304  67.020209  101.977771 -0.187873   \n",
       " 2      2.0  58486.0 2019-01-03  0.983301  67.108157  103.080725 -0.205017   \n",
       " 3      3.0  58487.0 2019-01-04  0.983302  67.203702  104.182248 -0.222098   \n",
       " 4      4.0  58488.0 2019-01-05  0.983307  67.306798  105.282199 -0.239109   \n",
       " 5      5.0  58489.0 2019-01-06  0.983316  67.417396  106.380440 -0.256047   \n",
       " 6      6.0  58490.0 2019-01-07  0.983329  67.535441  107.476837 -0.272904   \n",
       " ..     ...      ...        ...       ...        ...         ...       ...   \n",
       " 359  359.0  58843.0 2019-12-26  0.983502  66.612850   93.942587 -0.062067   \n",
       " 360  360.0  58844.0 2019-12-27  0.983458  66.644599   95.052467 -0.079514   \n",
       " 361  361.0  58845.0 2019-12-28  0.983417  66.684174   96.161832 -0.096937   \n",
       " 362  362.0  58846.0 2019-12-29  0.983380  66.731556   97.270522 -0.114329   \n",
       " 363  363.0  58847.0 2019-12-30  0.983346  66.786723   98.378385 -0.131684   \n",
       " 364  364.0  58848.0 2019-12-31  0.983318  66.849649   99.485272 -0.148996   \n",
       " 365  365.0  58849.0 2020-01-01  0.983293  66.920303  100.591037 -0.166262   \n",
       " \n",
       "             y         z  \n",
       " 0    0.888496  0.385160  \n",
       " 1    0.885562  0.383888  \n",
       " 2    0.882352  0.382497  \n",
       " 3    0.878866  0.380986  \n",
       " 4    0.875105  0.379357  \n",
       " 5    0.871070  0.377608  \n",
       " 6    0.866763  0.375742  \n",
       " ..        ...       ...  \n",
       " 359  0.900565  0.390393  \n",
       " 360  0.899368  0.389875  \n",
       " 361  0.897890  0.389235  \n",
       " 362  0.896132  0.388474  \n",
       " 363  0.894093  0.387591  \n",
       " 364  0.891776  0.386587  \n",
       " 365  0.889180  0.385462  \n",
       " \n",
       " [366 rows x 9 columns],\n",
       " 'mars':        day      MJD       date         r       theta         phi         x  \\\n",
       " 0      0.0  58484.0 2019-01-01  1.453495   74.996659   39.051247  1.090280   \n",
       " 1      1.0  58485.0 2019-01-02  1.454684   74.803063   39.609720  1.081506   \n",
       " 2      2.0  58486.0 2019-01-03  1.455878   74.611161   40.168299  1.072627   \n",
       " 3      3.0  58487.0 2019-01-04  1.457078   74.420966   40.726984  1.063645   \n",
       " 4      4.0  58488.0 2019-01-05  1.458282   74.232493   41.285777  1.054562   \n",
       " 5      5.0  58489.0 2019-01-06  1.459492   74.045756   41.844679  1.045378   \n",
       " 6      6.0  58490.0 2019-01-07  1.460707   73.860769   42.403688  1.036095   \n",
       " ..     ...      ...        ...       ...         ...         ...       ...   \n",
       " 359  359.0  58843.0 2019-12-26  1.596330  101.269768  209.069876 -1.368333   \n",
       " 360  360.0  58844.0 2019-12-27  1.595257  101.448366  209.519528 -1.360554   \n",
       " 361  361.0  58845.0 2019-12-28  1.594178  101.626516  209.970356 -1.352676   \n",
       " 362  362.0  58846.0 2019-12-29  1.593093  101.804206  210.422372 -1.344698   \n",
       " 363  363.0  58847.0 2019-12-30  1.592002  101.981421  210.875594 -1.336622   \n",
       " 364  364.0  58848.0 2019-12-31  1.590905  102.158151  211.330034 -1.328449   \n",
       " 365  365.0  58849.0 2020-01-01  1.589802  102.334380  211.785707 -1.320177   \n",
       " \n",
       "             y         z  \n",
       " 0    0.884507  0.376274  \n",
       " 1    0.895008  0.381327  \n",
       " 2    0.905423  0.386344  \n",
       " 3    0.915751  0.391324  \n",
       " 4    0.925992  0.396266  \n",
       " 5    0.936144  0.401170  \n",
       " 6    0.946207  0.406036  \n",
       " ..        ...       ...  \n",
       " 359 -0.760663 -0.311969  \n",
       " 360 -0.770377 -0.316634  \n",
       " 361 -0.780035 -0.321277  \n",
       " 362 -0.789636 -0.325896  \n",
       " 363 -0.799179 -0.330491  \n",
       " 364 -0.808664 -0.335062  \n",
       " 365 -0.818089 -0.339608  \n",
       " \n",
       " [366 rows x 9 columns]}"
      ]
     },
     "execution_count": 22,
     "metadata": {},
     "output_type": "execute_result"
    }
   ],
   "source": [
    "# Read CSV files into dict\n",
    "ephemerides = {}\n",
    "for body, csv_filename in ephemerides_filename_dict.items():\n",
    "    ephemerides[body] = pd.read_csv(csv_filename, parse_dates=['date'])\n",
    "\n",
    "pd.set_option(\"max_row\", 15)\n",
    "ephemerides    "
   ]
  },
  {
   "cell_type": "code",
   "execution_count": 72,
   "metadata": {},
   "outputs": [],
   "source": [
    "day = 1\n",
    "km = 149597870.700  # km/AU (precise definition https://en.wikipedia.org/wiki/Astronomical_unit#Development_of_unit_definition)"
   ]
  },
  {
   "cell_type": "code",
   "execution_count": 73,
   "metadata": {},
   "outputs": [
    {
     "data": {
      "text/plain": [
       "day                        1\n",
       "MJD                    58485\n",
       "date     2019-01-02 00:00:00\n",
       "r                   0.983304\n",
       "theta                67.0202\n",
       "phi                  101.978\n",
       "x                  -0.187873\n",
       "y                   0.885562\n",
       "z                   0.383888\n",
       "Name: 1, dtype: object"
      ]
     },
     "execution_count": 73,
     "metadata": {},
     "output_type": "execute_result"
    }
   ],
   "source": [
    "earth_day = ephemerides['earth'].iloc[day]\n",
    "earth_day"
   ]
  },
  {
   "cell_type": "code",
   "execution_count": 74,
   "metadata": {},
   "outputs": [
    {
     "data": {
      "text/plain": [
       "day                        0\n",
       "MJD                    58484\n",
       "date     2019-01-01 00:00:00\n",
       "r                   0.983311\n",
       "theta                66.9399\n",
       "phi                  100.874\n",
       "x                  -0.170672\n",
       "y                   0.888496\n",
       "z                    0.38516\n",
       "Name: 0, dtype: object"
      ]
     },
     "execution_count": 74,
     "metadata": {},
     "output_type": "execute_result"
    }
   ],
   "source": [
    "earth_daym1 = ephemerides['earth'].iloc[day-1]\n",
    "earth_daym1"
   ]
  },
  {
   "cell_type": "code",
   "execution_count": 75,
   "metadata": {},
   "outputs": [
    {
     "data": {
      "text/plain": [
       "day                    1\n",
       "MJD                    1\n",
       "date     1 days 00:00:00\n",
       "r           -7.14768e-06\n",
       "theta          0.0803086\n",
       "phi              1.10424\n",
       "x             -0.0172015\n",
       "y            -0.00293331\n",
       "z             -0.0012713\n",
       "dtype: object"
      ]
     },
     "execution_count": 75,
     "metadata": {},
     "output_type": "execute_result"
    }
   ],
   "source": [
    "earth_diff = earth_day - earth_daym1\n",
    "earth_diff"
   ]
  },
  {
   "cell_type": "code",
   "execution_count": 80,
   "metadata": {},
   "outputs": [
    {
     "data": {
      "text/plain": [
       "-29.783568966729998"
      ]
     },
     "execution_count": 80,
     "metadata": {},
     "output_type": "execute_result"
    }
   ],
   "source": [
    "vx0 = earth_diff['x'] / (24*3600) * km\n",
    "vx0"
   ]
  },
  {
   "cell_type": "code",
   "execution_count": 81,
   "metadata": {},
   "outputs": [
    {
     "data": {
      "text/plain": [
       "-5.0788940104346905"
      ]
     },
     "execution_count": 81,
     "metadata": {},
     "output_type": "execute_result"
    }
   ],
   "source": [
    "vy0 = earth_diff['y'] / (24*3600) * km\n",
    "vy0"
   ]
  },
  {
   "cell_type": "code",
   "execution_count": 82,
   "metadata": {},
   "outputs": [
    {
     "data": {
      "text/plain": [
       "-2.20119397324767"
      ]
     },
     "execution_count": 82,
     "metadata": {},
     "output_type": "execute_result"
    }
   ],
   "source": [
    "vz0 = earth_diff['z'] / (24*3600) * km\n",
    "vz0"
   ]
  },
  {
   "cell_type": "code",
   "execution_count": 79,
   "metadata": {},
   "outputs": [
    {
     "data": {
      "text/plain": [
       "30.293586774646766"
      ]
     },
     "execution_count": 79,
     "metadata": {},
     "output_type": "execute_result"
    }
   ],
   "source": [
    "sqrt(vx0**2+vy0**2+vz0**2)"
   ]
  },
  {
   "cell_type": "markdown",
   "metadata": {},
   "source": [
    "Average speed of earth is 29.93 km/s, so looks good."
   ]
  },
  {
   "cell_type": "code",
   "execution_count": 67,
   "metadata": {},
   "outputs": [
    {
     "data": {
      "text/plain": [
       "-0.012375897671855367"
      ]
     },
     "execution_count": 67,
     "metadata": {},
     "output_type": "execute_result"
    }
   ],
   "source": [
    "vr0 = earth_diff['r'] / (24*3600) * km\n",
    "vr0"
   ]
  },
  {
   "cell_type": "code",
   "execution_count": 70,
   "metadata": {},
   "outputs": [
    {
     "data": {
      "text/plain": [
       "0.08030859999999507"
      ]
     },
     "execution_count": 70,
     "metadata": {},
     "output_type": "execute_result"
    }
   ],
   "source": [
    "vtheta0 = earth_diff['theta']\n",
    "vtheta0"
   ]
  },
  {
   "cell_type": "code",
   "execution_count": 71,
   "metadata": {},
   "outputs": [
    {
     "data": {
      "text/plain": [
       "1.1042448999999976"
      ]
     },
     "execution_count": 71,
     "metadata": {},
     "output_type": "execute_result"
    }
   ],
   "source": [
    "vphi0 = earth_diff['phi']\n",
    "vphi0"
   ]
  },
  {
   "cell_type": "code",
   "execution_count": null,
   "metadata": {},
   "outputs": [],
   "source": []
  }
 ],
 "metadata": {
  "kernelspec": {
   "display_name": "Python 3",
   "language": "python",
   "name": "python3"
  },
  "language_info": {
   "codemirror_mode": {
    "name": "ipython",
    "version": 3
   },
   "file_extension": ".py",
   "mimetype": "text/x-python",
   "name": "python",
   "nbconvert_exporter": "python",
   "pygments_lexer": "ipython3",
   "version": "3.6.6"
  }
 },
 "nbformat": 4,
 "nbformat_minor": 2
}
