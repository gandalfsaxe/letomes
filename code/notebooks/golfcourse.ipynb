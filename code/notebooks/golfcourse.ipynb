{
 "cells": [
  {
   "cell_type": "code",
   "execution_count": 1,
   "metadata": {},
   "outputs": [],
   "source": [
    "from orbsim.r3b_2d.simulators import run_sim\n",
    "\n",
    "from numba import jit, njit\n",
    "import matplotlib.pyplot as plt\n",
    "import numpy as np\n",
    "from math import pi\n",
    "tau=2*pi"
   ]
  },
  {
   "cell_type": "code",
   "execution_count": 13,
   "metadata": {
    "scrolled": true
   },
   "outputs": [],
   "source": [
    "@njit\n",
    "def golfcourse(sz):\n",
    "    poss = np.linspace(-3*tau/4, 0,sz)\n",
    "    burns = np.linspace(3.0,8.2,sz)\n",
    "    course = np.ones((sz,sz))\n",
    "\n",
    "    for idx, pos in enumerate(poss):\n",
    "        for jdx, burn in enumerate(burns):\n",
    "            z_val = run_sim([pos,0.,burn])[0]\n",
    "            course[idx][jdx] = z_val\n",
    "    return course\n"
   ]
  },
  {
   "cell_type": "code",
   "execution_count": null,
   "metadata": {},
   "outputs": [],
   "source": []
  },
  {
   "cell_type": "code",
   "execution_count": null,
   "metadata": {},
   "outputs": [],
   "source": []
  },
  {
   "cell_type": "code",
   "execution_count": 16,
   "metadata": {},
   "outputs": [],
   "source": [
    "res=golfcourse(20)"
   ]
  },
  {
   "cell_type": "code",
   "execution_count": 17,
   "metadata": {},
   "outputs": [
    {
     "data": {
      "image/png": "[encoded data removed]",
      "text/plain": [
       "<Figure size 432x288 with 1 Axes>"
      ]
     },
     "metadata": {},
     "output_type": "display_data"
    }
   ],
   "source": [
    "fig,ax = plt.subplots()\n",
    "im = ax.imshow(res, vmin=2, vmax=25, cmap='jet')\n",
    "plt.show()"
   ]
  },
  {
   "cell_type": "code",
   "execution_count": null,
   "metadata": {},
   "outputs": [],
   "source": [
    "!python ../pyscripts/golf_course.py"
   ]
  },
  {
   "cell_type": "code",
   "execution_count": 6,
   "metadata": {},
   "outputs": [
    {
     "name": "stdout",
     "output_type": "stream",
     "text": [
      "0\n"
     ]
    },
    {
     "data": {
      "text/plain": [
       "(0.9404028474327076, 0)"
      ]
     },
     "execution_count": 6,
     "metadata": {},
     "output_type": "execute_result"
    }
   ],
   "source": [
    "run_sim([3., 0., 5.], duration=7, max_iter=1e7)[:2]"
   ]
  },
  {
   "cell_type": "code",
   "execution_count": 7,
   "metadata": {},
   "outputs": [],
   "source": [
    "def golfcourse_row(pos, burns):\n",
    "    result = [run_sim([pos, 0., burn], duration=7, max_iter=1e7)[:2] for burn in burns]\n",
    "    color = [scoretuple[0] for scoretuple in result]\n",
    "    print(result,color)\n",
    "    alpha = [scoretuple[1] for scoretuple in result]\n",
    "    alpha = [1 if succ else 0.5 for succ in alpha]\n",
    "    return color, alpha"
   ]
  },
  {
   "cell_type": "code",
   "execution_count": 8,
   "metadata": {},
   "outputs": [
    {
     "name": "stdout",
     "output_type": "stream",
     "text": [
      "0\n",
      "0\n",
      "[(0.6425035111464305, 0), (0.8516547285687498, 0)] [0.6425035111464305, 0.8516547285687498]\n"
     ]
    },
    {
     "data": {
      "text/plain": [
       "([0.6425035111464305, 0.8516547285687498], [0.5, 0.5])"
      ]
     },
     "execution_count": 8,
     "metadata": {},
     "output_type": "execute_result"
    }
   ],
   "source": [
    "golfcourse_row(3.0,[3.0,4.0])"
   ]
  },
  {
   "cell_type": "code",
   "execution_count": 22,
   "metadata": {},
   "outputs": [
    {
     "data": {
      "text/plain": [
       "array([[[ 0,  1,  2,  3,  4,  5,  6,  7,  8,  9],\n",
       "        [ 0,  1,  2,  3,  4,  5,  6,  7,  8,  9],\n",
       "        [ 0,  1,  2,  3,  4,  5,  6,  7,  8,  9],\n",
       "        [ 0,  1,  2,  3,  4,  5,  6,  7,  8,  9],\n",
       "        [ 0,  1,  2,  3,  4,  5,  6,  7,  8,  9],\n",
       "        [ 0,  1,  2,  3,  4,  5,  6,  7,  8,  9],\n",
       "        [ 0,  1,  2,  3,  4,  5,  6,  7,  8,  9],\n",
       "        [ 0,  1,  2,  3,  4,  5,  6,  7,  8,  9],\n",
       "        [ 0,  1,  2,  3,  4,  5,  6,  7,  8,  9],\n",
       "        [ 0,  1,  2,  3,  4,  5,  6,  7,  8,  9]],\n",
       "\n",
       "       [[10, 10, 10, 10, 10, 10, 10, 10, 10, 10],\n",
       "        [11, 11, 11, 11, 11, 11, 11, 11, 11, 11],\n",
       "        [12, 12, 12, 12, 12, 12, 12, 12, 12, 12],\n",
       "        [13, 13, 13, 13, 13, 13, 13, 13, 13, 13],\n",
       "        [14, 14, 14, 14, 14, 14, 14, 14, 14, 14],\n",
       "        [15, 15, 15, 15, 15, 15, 15, 15, 15, 15],\n",
       "        [16, 16, 16, 16, 16, 16, 16, 16, 16, 16],\n",
       "        [17, 17, 17, 17, 17, 17, 17, 17, 17, 17],\n",
       "        [18, 18, 18, 18, 18, 18, 18, 18, 18, 18],\n",
       "        [19, 19, 19, 19, 19, 19, 19, 19, 19, 19]]])"
      ]
     },
     "execution_count": 22,
     "metadata": {},
     "output_type": "execute_result"
    }
   ],
   "source": [
    "grid = np.array(np.meshgrid(range(10),range(10,20)))\n",
    "grid.shape\n",
    "grid=grid.transpose(1,2,0)\n",
    "grid.transpose(2,0,1)"
   ]
  },
  {
   "cell_type": "code",
   "execution_count": 16,
   "metadata": {},
   "outputs": [
    {
     "name": "stdout",
     "output_type": "stream",
     "text": [
      "4\n",
      "5\n",
      "6\n",
      "7\n",
      "8\n",
      "9\n"
     ]
    }
   ],
   "source": [
    "\n",
    "for i in range(4,10):\n",
    "    print(i)"
   ]
  },
  {
   "cell_type": "code",
   "execution_count": null,
   "metadata": {},
   "outputs": [],
   "source": []
  }
 ],
 "metadata": {
  "kernelspec": {
   "display_name": "Python 3",
   "language": "python",
   "name": "python3"
  },
  "language_info": {
   "codemirror_mode": {
    "name": "ipython",
    "version": 3
   },
   "file_extension": ".py",
   "mimetype": "text/x-python",
   "name": "python",
   "nbconvert_exporter": "python",
   "pygments_lexer": "ipython3",
   "version": "3.6.4"
  }
 },
 "nbformat": 4,
 "nbformat_minor": 2
}
