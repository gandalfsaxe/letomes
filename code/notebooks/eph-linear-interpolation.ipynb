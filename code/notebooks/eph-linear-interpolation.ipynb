{
 "cells": [
  {
   "cell_type": "code",
   "execution_count": 1,
   "metadata": {},
   "outputs": [],
   "source": [
    "import pandas as pd\n",
    "\n",
    "from mpl_toolkits.mplot3d import Axes3D\n",
    "import matplotlib.pyplot as plt\n",
    "import numpy as np\n",
    "\n",
    "import os\n",
    "\n",
    "import pdir"
   ]
  },
  {
   "cell_type": "code",
   "execution_count": 2,
   "metadata": {},
   "outputs": [],
   "source": [
    "# Script inputs\n",
    "    \n",
    "FILE_PATH = \"../orbsim/r4b_3d/ephemerides/\"\n",
    "\n",
    "PLANETS = [\"earth\",\n",
    "           \"mars\"]\n",
    "\n",
    "END_YEAR = \"2039\"\n",
    "\n",
    "INTERPOLATION_POINTS = 23  # number of interpolated points on line segnment between two table position values.\n",
    "                          # e.g. 9 will give 0.1, 0.2, ..., 0.8, 0.9 on the segment between 0 and 1."
   ]
  },
  {
   "cell_type": "code",
   "execution_count": 3,
   "metadata": {},
   "outputs": [
    {
     "data": {
      "text/plain": [
       "{'earth': 'earth_2019-2039.csv', 'mars': 'mars_2019-2039.csv'}"
      ]
     },
     "execution_count": 3,
     "metadata": {},
     "output_type": "execute_result"
    }
   ],
   "source": [
    "ephemerides_filename_dict = {}\n",
    "\n",
    "for planet in PLANETS:\n",
    "    ephemerides_filename_dict[planet] = \"{}_2019-{}.csv\".format(planet, END_YEAR)\n",
    "\n",
    "ephemerides_filename_dict"
   ]
  },
  {
   "cell_type": "code",
   "execution_count": 4,
   "metadata": {},
   "outputs": [
    {
     "name": "stdout",
     "output_type": "stream",
     "text": [
      "/Users/gandalf/Dropbox/repositories/letomes/code/orbsim/r4b_3d/ephemerides\n"
     ]
    }
   ],
   "source": [
    "# Change CWD of necessary\n",
    "cwd = os.getcwd()\n",
    "in_correct_cwd = 'code' + FILE_PATH[2:-1] == cwd[-30:] # Check if last part of cwd is '/code/orbsim/r4b_3d'\n",
    "\n",
    "if not in_correct_cwd:    \n",
    "    os.chdir(FILE_PATH)\n",
    "    cwd = os.getcwd()\n",
    "\n",
    "print(cwd)"
   ]
  },
  {
   "cell_type": "code",
   "execution_count": 5,
   "metadata": {},
   "outputs": [
    {
     "data": {
      "text/plain": [
       "{'earth':          day      MJD       date         r      theta         phi         x  \\\n",
       " 0        0.0  58484.0 2019-01-01  0.983311  66.939900  100.873526 -0.170672   \n",
       " 1        1.0  58485.0 2019-01-02  0.983304  67.020209  101.977771 -0.187873   \n",
       " ...      ...      ...        ...       ...        ...         ...       ...   \n",
       " 7304  7304.0  65788.0 2038-12-31  0.983386  66.860323   99.623273 -0.151167   \n",
       " 7305  7305.0  65789.0 2039-01-01  0.983361  66.931919  100.728669 -0.168423   \n",
       " \n",
       "              y         z  \n",
       " 0     0.888496  0.385160  \n",
       " 1     0.885562  0.383888  \n",
       " ...        ...       ...  \n",
       " 7304  0.891548  0.386445  \n",
       " 7305  0.888917  0.385305  \n",
       " \n",
       " [7306 rows x 9 columns],\n",
       " 'mars':          day      MJD       date         r       theta         phi         x  \\\n",
       " 0        0.0  58484.0 2019-01-01  1.453495   74.996659   39.051247  1.090280   \n",
       " 1        1.0  58485.0 2019-01-02  1.454684   74.803063   39.609720  1.081506   \n",
       " ...      ...      ...        ...       ...         ...         ...       ...   \n",
       " 7304  7304.0  65788.0 2038-12-31  1.503977  112.378909  247.011962 -0.543125   \n",
       " 7305  7305.0  65789.0 2039-01-01  1.502669  112.477228  247.581939 -0.529526   \n",
       " \n",
       "              y         z  \n",
       " 0     0.884507  0.376274  \n",
       " 1     0.895008  0.381327  \n",
       " ...        ...       ...  \n",
       " 7304 -1.280266 -0.572609  \n",
       " 7305 -1.283578 -0.574495  \n",
       " \n",
       " [7306 rows x 9 columns]}"
      ]
     },
     "execution_count": 5,
     "metadata": {},
     "output_type": "execute_result"
    }
   ],
   "source": [
    "# Read CSV files into dict\n",
    "ephemerides = {}\n",
    "for body, csv_filename in ephemerides_filename_dict.items():\n",
    "    ephemerides[body] = pd.read_csv(csv_filename, parse_dates=['date'])\n",
    "\n",
    "pd.set_option(\"max_row\", 5)\n",
    "ephemerides    "
   ]
  },
  {
   "cell_type": "code",
   "execution_count": 6,
   "metadata": {},
   "outputs": [],
   "source": [
    "# Linear interpolation of all planet positions\n",
    "\n",
    "interpolated_ephemerides = {}\n",
    "\n",
    "for body, eph in ephemerides.items():\n",
    "    cols = eph.columns\n",
    "    interpolated_body = pd.DataFrame(columns=cols)\n",
    "    interpolated_body = interpolated_body.append(eph.iloc[[0]])  # Add initial point\n",
    "\n",
    "    N = len(eph) - 1  # number of intervals that needs interpolation (0->1, 1->2, ...,)\n",
    "\n",
    "    for n in range(N):  # add all points for day ]n, n+1]\n",
    "\n",
    "        start_position_df = eph.iloc[[n]]\n",
    "        end_position_df = eph.iloc[[n+1]]\n",
    "\n",
    "        start_position_series = start_position_df.iloc[0]\n",
    "        end_position_series = end_position_df.iloc[0]\n",
    "\n",
    "        position_difference_series = end_position_series - start_position_series\n",
    "\n",
    "        start_day = int(start_position_df['day'])\n",
    "\n",
    "        for i in range(1,INTERPOLATION_POINTS+1):\n",
    "            interpolated_position_series = start_position_series + i / (INTERPOLATION_POINTS + 1) * position_difference_series\n",
    "            interpolated_position_df = pd.DataFrame(data=[interpolated_position_series.values], columns=cols)\n",
    "            interpolated_body = interpolated_body.append(interpolated_position_df)\n",
    "\n",
    "        interpolated_body = interpolated_body.append(end_position_df) # Add upper bound in current interval\n",
    "\n",
    "    interpolated_body.set_index('day', inplace=True)\n",
    "\n",
    "    interpolated_ephemerides[body] = interpolated_body"
   ]
  },
  {
   "cell_type": "code",
   "execution_count": 7,
   "metadata": {},
   "outputs": [
    {
     "data": {
      "text/plain": [
       "{'earth':                       MJD                date         r      theta  \\\n",
       " day                                                                  \n",
       " 0.000000     58484.000000 2019-01-01 00:00:00  0.983311  66.939900   \n",
       " 0.041667     58484.041667 2019-01-01 01:00:00  0.983311  66.943247   \n",
       " ...                   ...                 ...       ...        ...   \n",
       " 7304.958333  65788.958333 2038-12-31 23:00:00  0.983362  66.928936   \n",
       " 7305.000000  65789.000000 2039-01-01 00:00:00  0.983361  66.931919   \n",
       " \n",
       "                     phi         x         y         z  \n",
       " day                                                    \n",
       " 0.000000     100.873526 -0.170672  0.888496  0.385160  \n",
       " 0.041667     100.919536 -0.171388  0.888373  0.385107  \n",
       " ...                 ...       ...       ...       ...  \n",
       " 7304.958333  100.682611 -0.167704  0.889026  0.385353  \n",
       " 7305.000000  100.728669 -0.168423  0.888917  0.385305  \n",
       " \n",
       " [175321 rows x 8 columns],\n",
       " 'mars':                       MJD                date         r       theta  \\\n",
       " day                                                                   \n",
       " 0.000000     58484.000000 2019-01-01 00:00:00  1.453495   74.996659   \n",
       " 0.041667     58484.041667 2019-01-01 01:00:00  1.453544   74.988592   \n",
       " ...                   ...                 ...       ...         ...   \n",
       " 7304.958333  65788.958333 2038-12-31 23:00:00  1.502724  112.473131   \n",
       " 7305.000000  65789.000000 2039-01-01 00:00:00  1.502669  112.477228   \n",
       " \n",
       "                     phi         x         y         z  \n",
       " day                                                    \n",
       " 0.000000      39.051247  1.090280  0.884507  0.376274  \n",
       " 0.041667      39.074516  1.089915  0.884945  0.376485  \n",
       " ...                 ...       ...       ...       ...  \n",
       " 7304.958333  247.558190 -0.530093 -1.283440 -0.574416  \n",
       " 7305.000000  247.581939 -0.529526 -1.283578 -0.574495  \n",
       " \n",
       " [175321 rows x 8 columns]}"
      ]
     },
     "execution_count": 7,
     "metadata": {},
     "output_type": "execute_result"
    }
   ],
   "source": [
    "interpolated_ephemerides"
   ]
  },
  {
   "cell_type": "code",
   "execution_count": 8,
   "metadata": {},
   "outputs": [],
   "source": [
    "# Write dicts to CSV files\n",
    "\n",
    "for body, filename in ephemerides_filename_dict.items():\n",
    "    basename, extension = filename.split('.')\n",
    "    extended_filename = \"{}_interpolated-{}.csv\".format(basename,INTERPOLATION_POINTS)\n",
    "    interpolated_ephemerides[body].to_csv(extended_filename)"
   ]
  },
  {
   "cell_type": "code",
   "execution_count": null,
   "metadata": {},
   "outputs": [],
   "source": []
  },
  {
   "cell_type": "code",
   "execution_count": null,
   "metadata": {},
   "outputs": [],
   "source": [
    " "
   ]
  }
 ],
 "metadata": {
  "kernelspec": {
   "display_name": "Python 3",
   "language": "python",
   "name": "python3"
  },
  "language_info": {
   "codemirror_mode": {
    "name": "ipython",
    "version": 3
   },
   "file_extension": ".py",
   "mimetype": "text/x-python",
   "name": "python",
   "nbconvert_exporter": "python",
   "pygments_lexer": "ipython3",
   "version": "3.6.6"
  }
 },
 "nbformat": 4,
 "nbformat_minor": 2
}
