{
 "cells": [
  {
   "cell_type": "code",
   "execution_count": 18,
   "metadata": {},
   "outputs": [],
   "source": [
    "import pandas as pd\n",
    "\n",
    "import numpy as np\n",
    "\n",
    "import os"
   ]
  },
  {
   "cell_type": "code",
   "execution_count": 19,
   "metadata": {},
   "outputs": [],
   "source": [
    "# Script inputs\n",
    "    \n",
    "FILE_PATH = \"../orbsim/r4b_3d/ephemerides/\"\n",
    "\n",
    "PLANETS = [\"earth\",\n",
    "           \"mars\"]\n",
    "\n",
    "END_YEAR = \"2020\""
   ]
  },
  {
   "cell_type": "code",
   "execution_count": 20,
   "metadata": {},
   "outputs": [
    {
     "data": {
      "text/plain": [
       "{'earth': 'earth_2019-2020.csv', 'mars': 'mars_2019-2020.csv'}"
      ]
     },
     "execution_count": 20,
     "metadata": {},
     "output_type": "execute_result"
    }
   ],
   "source": [
    "ephemerides_filename_dict = {}\n",
    "\n",
    "for planet in PLANETS:\n",
    "    ephemerides_filename_dict[planet] = \"{}_2019-{}.csv\".format(planet, END_YEAR)\n",
    "\n",
    "ephemerides_filename_dict"
   ]
  },
  {
   "cell_type": "code",
   "execution_count": 21,
   "metadata": {},
   "outputs": [
    {
     "name": "stdout",
     "output_type": "stream",
     "text": [
      "/Users/gandalf/Dropbox/repositories/letomes/code/orbsim/r4b_3d/ephemerides\n"
     ]
    }
   ],
   "source": [
    "# Change CWD of necessary\n",
    "cwd = os.getcwd()\n",
    "in_correct_cwd = 'code' + FILE_PATH[2:-1] == cwd[-30:] # Check if last part of cwd is '/code/orbsim/r4b_3d'\n",
    "\n",
    "if not in_correct_cwd:    \n",
    "    os.chdir(FILE_PATH)\n",
    "    cwd = os.getcwd()\n",
    "\n",
    "print(cwd)"
   ]
  },
  {
   "cell_type": "code",
   "execution_count": 50,
   "metadata": {},
   "outputs": [
    {
     "data": {
      "text/plain": [
       "{'earth':        day      MJD       date         r      theta         phi         x  \\\n",
       " 0      0.0  58484.0 2019-01-01  0.983311  66.939900  100.873526 -0.170672   \n",
       " 1      1.0  58485.0 2019-01-02  0.983304  67.020209  101.977771 -0.187873   \n",
       " 2      2.0  58486.0 2019-01-03  0.983301  67.108157  103.080725 -0.205017   \n",
       " 3      3.0  58487.0 2019-01-04  0.983302  67.203702  104.182248 -0.222098   \n",
       " 4      4.0  58488.0 2019-01-05  0.983307  67.306798  105.282199 -0.239109   \n",
       " 5      5.0  58489.0 2019-01-06  0.983316  67.417396  106.380440 -0.256047   \n",
       " 6      6.0  58490.0 2019-01-07  0.983329  67.535441  107.476837 -0.272904   \n",
       " ..     ...      ...        ...       ...        ...         ...       ...   \n",
       " 359  359.0  58843.0 2019-12-26  0.983502  66.612850   93.942587 -0.062067   \n",
       " 360  360.0  58844.0 2019-12-27  0.983458  66.644599   95.052467 -0.079514   \n",
       " 361  361.0  58845.0 2019-12-28  0.983417  66.684174   96.161832 -0.096937   \n",
       " 362  362.0  58846.0 2019-12-29  0.983380  66.731556   97.270522 -0.114329   \n",
       " 363  363.0  58847.0 2019-12-30  0.983346  66.786723   98.378385 -0.131684   \n",
       " 364  364.0  58848.0 2019-12-31  0.983318  66.849649   99.485272 -0.148996   \n",
       " 365  365.0  58849.0 2020-01-01  0.983293  66.920303  100.591037 -0.166262   \n",
       " \n",
       "             y         z  \n",
       " 0    0.888496  0.385160  \n",
       " 1    0.885562  0.383888  \n",
       " 2    0.882352  0.382497  \n",
       " 3    0.878866  0.380986  \n",
       " 4    0.875105  0.379357  \n",
       " 5    0.871070  0.377608  \n",
       " 6    0.866763  0.375742  \n",
       " ..        ...       ...  \n",
       " 359  0.900565  0.390393  \n",
       " 360  0.899368  0.389875  \n",
       " 361  0.897890  0.389235  \n",
       " 362  0.896132  0.388474  \n",
       " 363  0.894093  0.387591  \n",
       " 364  0.891776  0.386587  \n",
       " 365  0.889180  0.385462  \n",
       " \n",
       " [366 rows x 9 columns],\n",
       " 'mars':        day      MJD       date         r       theta         phi         x  \\\n",
       " 0      0.0  58484.0 2019-01-01  1.453495   74.996659   39.051247  1.090280   \n",
       " 1      1.0  58485.0 2019-01-02  1.454684   74.803063   39.609720  1.081506   \n",
       " 2      2.0  58486.0 2019-01-03  1.455878   74.611161   40.168299  1.072627   \n",
       " 3      3.0  58487.0 2019-01-04  1.457078   74.420966   40.726984  1.063645   \n",
       " 4      4.0  58488.0 2019-01-05  1.458282   74.232493   41.285777  1.054562   \n",
       " 5      5.0  58489.0 2019-01-06  1.459492   74.045756   41.844679  1.045378   \n",
       " 6      6.0  58490.0 2019-01-07  1.460707   73.860769   42.403688  1.036095   \n",
       " ..     ...      ...        ...       ...         ...         ...       ...   \n",
       " 359  359.0  58843.0 2019-12-26  1.596330  101.269768  209.069876 -1.368333   \n",
       " 360  360.0  58844.0 2019-12-27  1.595257  101.448366  209.519528 -1.360554   \n",
       " 361  361.0  58845.0 2019-12-28  1.594178  101.626516  209.970356 -1.352676   \n",
       " 362  362.0  58846.0 2019-12-29  1.593093  101.804206  210.422372 -1.344698   \n",
       " 363  363.0  58847.0 2019-12-30  1.592002  101.981421  210.875594 -1.336622   \n",
       " 364  364.0  58848.0 2019-12-31  1.590905  102.158151  211.330034 -1.328449   \n",
       " 365  365.0  58849.0 2020-01-01  1.589802  102.334380  211.785707 -1.320177   \n",
       " \n",
       "             y         z  \n",
       " 0    0.884507  0.376274  \n",
       " 1    0.895008  0.381327  \n",
       " 2    0.905423  0.386344  \n",
       " 3    0.915751  0.391324  \n",
       " 4    0.925992  0.396266  \n",
       " 5    0.936144  0.401170  \n",
       " 6    0.946207  0.406036  \n",
       " ..        ...       ...  \n",
       " 359 -0.760663 -0.311969  \n",
       " 360 -0.770377 -0.316634  \n",
       " 361 -0.780035 -0.321277  \n",
       " 362 -0.789636 -0.325896  \n",
       " 363 -0.799179 -0.330491  \n",
       " 364 -0.808664 -0.335062  \n",
       " 365 -0.818089 -0.339608  \n",
       " \n",
       " [366 rows x 9 columns]}"
      ]
     },
     "execution_count": 50,
     "metadata": {},
     "output_type": "execute_result"
    }
   ],
   "source": [
    "# Read CSV files into dict\n",
    "ephemerides = {}\n",
    "for body, csv_filename in ephemerides_filename_dict.items():\n",
    "    ephemerides[body] = pd.read_csv(csv_filename, parse_dates=['date'])\n",
    "\n",
    "pd.set_option(\"max_row\", 15)\n",
    "ephemerides    "
   ]
  },
  {
   "cell_type": "markdown",
   "metadata": {},
   "source": [
    "mars0 = ephemerides['mars'].iloc[0]\n",
    "mars0"
   ]
  },
  {
   "cell_type": "markdown",
   "metadata": {},
   "source": [
    "## Find v0 vector by difference mars1 - mars0"
   ]
  },
  {
   "cell_type": "code",
   "execution_count": 51,
   "metadata": {},
   "outputs": [
    {
     "data": {
      "text/plain": [
       "day                        0\n",
       "MJD                    58484\n",
       "date     2019-01-01 00:00:00\n",
       "r                    1.45349\n",
       "theta                74.9967\n",
       "phi                  39.0512\n",
       "x                    1.09028\n",
       "y                   0.884507\n",
       "z                   0.376274\n",
       "Name: 0, dtype: object"
      ]
     },
     "execution_count": 51,
     "metadata": {},
     "output_type": "execute_result"
    }
   ],
   "source": [
    "mars0 = ephemerides['mars'].iloc[0]\n",
    "mars0"
   ]
  },
  {
   "cell_type": "code",
   "execution_count": 52,
   "metadata": {},
   "outputs": [
    {
     "data": {
      "text/plain": [
       "day                        1\n",
       "MJD                    58485\n",
       "date     2019-01-02 00:00:00\n",
       "r                    1.45468\n",
       "theta                74.8031\n",
       "phi                  39.6097\n",
       "x                    1.08151\n",
       "y                   0.895008\n",
       "z                   0.381327\n",
       "Name: 1, dtype: object"
      ]
     },
     "execution_count": 52,
     "metadata": {},
     "output_type": "execute_result"
    }
   ],
   "source": [
    "mars1 = ephemerides['mars'].iloc[1]\n",
    "mars1"
   ]
  },
  {
   "cell_type": "code",
   "execution_count": 53,
   "metadata": {},
   "outputs": [
    {
     "data": {
      "text/plain": [
       "day                    1\n",
       "MJD                    1\n",
       "date     1 days 00:00:00\n",
       "r             0.00118904\n",
       "theta          -0.193596\n",
       "phi             0.558473\n",
       "x            -0.00877477\n",
       "y              0.0105009\n",
       "z              0.0050533\n",
       "dtype: object"
      ]
     },
     "execution_count": 53,
     "metadata": {},
     "output_type": "execute_result"
    }
   ],
   "source": [
    "mars_diff_1 = mars1 - mars0\n",
    "mars_diff_1"
   ]
  },
  {
   "cell_type": "markdown",
   "metadata": {},
   "source": [
    "## Find v0 vector by cross product of mars0 and mars 170"
   ]
  },
  {
   "cell_type": "code",
   "execution_count": 55,
   "metadata": {},
   "outputs": [
    {
     "data": {
      "text/plain": [
       "day                       90\n",
       "MJD                    58574\n",
       "date     2019-04-01 00:00:00\n",
       "r                   0.999077\n",
       "theta                94.2399\n",
       "phi                  189.848\n",
       "x                  -0.981662\n",
       "y                  -0.170402\n",
       "z                 -0.0738647\n",
       "Name: 90, dtype: object"
      ]
     },
     "execution_count": 55,
     "metadata": {},
     "output_type": "execute_result"
    }
   ],
   "source": [
    "mars170 = ephemerides['earth'].iloc[90]  # 170 ~ 1/4 martian year\n",
    "mars170"
   ]
  },
  {
   "cell_type": "markdown",
   "metadata": {},
   "source": [
    "<!-- <img src=\"assets/cross-product.png\" style=\"zoom:50%\"> -->\n",
    "<img src=\"assets/cross-product.png\" alt=\"Drawing\" style=\"width: 50px;\"/>"
   ]
  },
  {
   "cell_type": "markdown",
   "metadata": {},
   "source": [
    "### Mars plane vector\n",
    "\n",
    "Let's now take the cross product of mars0 and mars 170 in cartesian coordinates."
   ]
  },
  {
   "cell_type": "code",
   "execution_count": 64,
   "metadata": {},
   "outputs": [],
   "source": [
    "u1 = mars0['x']\n",
    "u2 = mars0['y']\n",
    "u3 = mars0['z']\n",
    "\n",
    "v1 = mars170['x']\n",
    "v2 = mars170['y']\n",
    "v3 = mars170['z']"
   ]
  },
  {
   "cell_type": "code",
   "execution_count": 67,
   "metadata": {},
   "outputs": [],
   "source": [
    "mars_plane_x = u2*v3 - u3*v2\n",
    "mars_plane_y = u3*v1 - u1*v3\n",
    "mars_plane_z = u1*v2 - u2*v1"
   ]
  },
  {
   "cell_type": "code",
   "execution_count": 72,
   "metadata": {},
   "outputs": [
    {
     "name": "stdout",
     "output_type": "stream",
     "text": [
      "-0.001215908334087995\n",
      "-0.2888407685813509\n",
      "0.682501334475853\n"
     ]
    }
   ],
   "source": [
    "print(mars_plane_x)\n",
    "print(mars_plane_y)\n",
    "print(mars_plane_z)"
   ]
  },
  {
   "cell_type": "code",
   "execution_count": 70,
   "metadata": {},
   "outputs": [
    {
     "data": {
      "text/plain": [
       "0.682501334475853"
      ]
     },
     "execution_count": 70,
     "metadata": {},
     "output_type": "execute_result"
    }
   ],
   "source": [
    "mars_plane_z"
   ]
  },
  {
   "cell_type": "markdown",
   "metadata": {},
   "source": [
    "### Mars velocity vector"
   ]
  },
  {
   "cell_type": "code",
   "execution_count": null,
   "metadata": {},
   "outputs": [],
   "source": [
    "u1 = mars0['x']\n",
    "u2 = mars0['y']\n",
    "u3 = mars0['z']\n",
    "\n",
    "v1 = mars170['x']\n",
    "v2 = mars170['y']\n",
    "v3 = mars170['z']"
   ]
  },
  {
   "cell_type": "code",
   "execution_count": null,
   "metadata": {},
   "outputs": [],
   "source": [
    "mars_velocity_x = u2*v3 - u3*v2\n",
    "mars_velocity_y = u3*v1 - u1*v3\n",
    "mars_velocity_z = u1*v2 - u2*v1"
   ]
  }
 ],
 "metadata": {
  "kernelspec": {
   "display_name": "Python 3",
   "language": "python",
   "name": "python3"
  },
  "language_info": {
   "codemirror_mode": {
    "name": "ipython",
    "version": 3
   },
   "file_extension": ".py",
   "mimetype": "text/x-python",
   "name": "python",
   "nbconvert_exporter": "python",
   "pygments_lexer": "ipython3",
   "version": "3.6.6"
  }
 },
 "nbformat": 4,
 "nbformat_minor": 2
}
