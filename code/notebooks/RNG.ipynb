{
 "cells": [
  {
   "cell_type": "code",
   "execution_count": 16,
   "metadata": {},
   "outputs": [],
   "source": [
    "import matplotlib.pyplot as plt\n",
    "%matplotlib inline\n",
    "import numpy as np\n",
    "import numpy.random as npr\n",
    "from numba import jit,  njit, float64\n",
    "\n",
    "from math import pi, cos, sin\n",
    "tau = 2*pi"
   ]
  },
  {
   "cell_type": "code",
   "execution_count": 17,
   "metadata": {},
   "outputs": [],
   "source": [
    "bounds=[[0.,tau/8],[3*tau/8,tau/2]]"
   ]
  },
  {
   "cell_type": "code",
   "execution_count": null,
   "metadata": {},
   "outputs": [],
   "source": []
  },
  {
   "cell_type": "code",
   "execution_count": 23,
   "metadata": {},
   "outputs": [
    {
     "name": "stdout",
     "output_type": "stream",
     "text": [
      "1.0\n",
      "1\n",
      "1.5\n",
      "1.5\n",
      "1.5\n",
      "7.5\n",
      "7.5\n",
      "7.5\n",
      "8\n",
      "9\n",
      "[0.0, 3.141592653589793, 3.9]\n"
     ]
    }
   ],
   "source": [
    "@njit\n",
    "def random_disjoint_intervals(bounds):\n",
    "    lens = collapse_intervals(bounds)\n",
    "    total_len=lens[-1]\n",
    "    \n",
    "    R=npr.rand()*total_len\n",
    "    \n",
    "    idx=0\n",
    "    for i in range(len(bounds)):\n",
    "        if R <= lens[i]:\n",
    "            idx = i\n",
    "            break\n",
    "    lb = bounds[idx][0]\n",
    "    ub = bounds[idx][1]\n",
    "    R_star = (ub-lb)*npr.rand()+lb\n",
    "    return R_star\n",
    "\n",
    "@njit\n",
    "def collapse_intervals(bounds):\n",
    "    lens=[]\n",
    "    for i in range(len(bounds)):\n",
    "        lb=bounds[i][0]\n",
    "        ub=bounds[i][1]\n",
    "        lens.append(ub-lb)\n",
    "    lens=np.array(lens)\n",
    "    return lens.cumsum()\n",
    "\n",
    "def check_bound(v,bound:)\n",
    "    '''\n",
    "    checks a single value against its bounds, and returns \n",
    "    the closest bound if it's in violation \n",
    "    '''\n",
    "    for b in bound:\n",
    "        if v>=b[0] and v<=b[1]:\n",
    "            return v\n",
    "    return min([(abs(x-v),x) for x in bound.flatten()])[1]\n",
    "\n",
    "def ensure_bounds(psi, bounds):\n",
    "    new_psi=[]\n",
    "    for v, bound in zip(psi,bounds):\n",
    "        new_psi.append(check_bound(v,bound))\n",
    "    return new_pis\n",
    "\n",
    "for i in range(10):\n",
    "    print(check_bounds(i,np.array([[1,1.5],[7.5,9]])))\n",
    "\n",
    "bounds = {'pos':np.array([[0,0*tau]]),'ang':np.array([[0,1*tau/16],[tau/2-tau/16,tau/2]]),'burn':np.array([[3.2,3.9]])}\n",
    "print(ensure_bounds([-1,100,4],bounds.values()))"
   ]
  },
  {
   "cell_type": "code",
   "execution_count": 25,
   "metadata": {
    "scrolled": false
   },
   "outputs": [
    {
     "name": "stdout",
     "output_type": "stream",
     "text": [
      "3.56 µs ± 79.3 ns per loop (mean ± std. dev. of 7 runs, 100000 loops each)\n",
      "12 µs ± 258 ns per loop (mean ± std. dev. of 7 runs, 100000 loops each)\n",
      "24.7 µs ± 706 ns per loop (mean ± std. dev. of 7 runs, 10000 loops each)\n"
     ]
    }
   ],
   "source": [
    "%timeit random_disjoint_intervals(np.array([[0.,3.],[3.5,10.]]))\n",
    "%timeit check_bounds(10,np.array([[1,1.5],[7.5,9]]))\n",
    "%timeit ensure_bounds([-1,100,4],bounds.values())"
   ]
  },
  {
   "cell_type": "code",
   "execution_count": 5,
   "metadata": {},
   "outputs": [
    {
     "data": {
      "image/png": "[encoded data removed]",
      "text/plain": [
       "<Figure size 432x288 with 1 Axes>"
      ]
     },
     "metadata": {},
     "output_type": "display_data"
    }
   ],
   "source": [
    "N=10000\n",
    "bounds={'pos':np.array([[0,0*tau]]),'ang':np.array([[0,1*tau/16],[tau/2-tau/16,tau/2]]),'burn':np.array([[3.2,3.9]])}\n",
    "pts=[]\n",
    "for i in range(N):\n",
    "    newpt=[]\n",
    "    for b in bounds.values():\n",
    "        newpt.append(random_disjoint_intervals(b))\n",
    "    pts.append(newpt)\n",
    "    \n",
    "# for i,x in enumerate(np.array(pts).T):\n",
    "#     plt.hist(x,bins=100)\n",
    "#     plt.show()\n",
    "    \n",
    "ax=plt.gca()\n",
    "earth=plt.Circle((0,0),6,color='blue')\n",
    "ax.set_aspect('equal')\n",
    "for psi in pts[::100]:\n",
    "    pos,ang,burn=psi\n",
    "    \n",
    "    vhat_x,vhat_y=sin(pos),-cos(pos)\n",
    "    x0,y0 = 7*cos(pos),7*sin(pos)\n",
    "    burnvx=cos(ang)*vhat_x - sin(ang) * vhat_y\n",
    "    burnvy=sin(ang)*vhat_x + cos(ang) * vhat_y\n",
    "    \n",
    "    \n",
    "    ax.plot([x0,burn*burnvx+x0],[y0,burn*burnvy+y0])\n",
    "ax.scatter(0,0) # make sur earth is on screen\n",
    "ax.add_artist(earth)\n",
    "plt.show()"
   ]
  },
  {
   "cell_type": "code",
   "execution_count": 6,
   "metadata": {},
   "outputs": [
    {
     "data": {
      "text/plain": [
       "dict_values([array([[0., 0.]]), array([[0.        , 0.39269908],\n",
       "       [2.74889357, 3.14159265]]), array([[3.2, 3.9]])])"
      ]
     },
     "execution_count": 6,
     "metadata": {},
     "output_type": "execute_result"
    }
   ],
   "source": [
    "bounds.values()"
   ]
  },
  {
   "cell_type": "code",
   "execution_count": 7,
   "metadata": {},
   "outputs": [
    {
     "name": "stdout",
     "output_type": "stream",
     "text": [
      "(0, array([[0., 0.]]))\n",
      "(1, array([[0.        , 0.39269908],\n",
      "       [2.74889357, 3.14159265]]))\n",
      "(2, array([[3.2, 3.9]]))\n"
     ]
    }
   ],
   "source": [
    "for b in enumerate(bounds.values()):\n",
    "    print(b)"
   ]
  },
  {
   "cell_type": "markdown",
   "metadata": {},
   "source": [
    "# Matrix Transformations\n",
    "## ES algo GPU version"
   ]
  },
  {
   "cell_type": "code",
   "execution_count": 36,
   "metadata": {},
   "outputs": [],
   "source": [
    "import numpy as np\n",
    "from scipy.stats import rankdata"
   ]
  },
  {
   "cell_type": "code",
   "execution_count": 46,
   "metadata": {},
   "outputs": [],
   "source": [
    "indi, jit = 5, 10\n",
    "sigma,alpha=0.3,0.03\n",
    "indivs=[[1,1,1],[10,10,10],[100,100,100],[1000,1000,1000],[10000,10000,10000]]\n",
    "bounds = {'pos':np.array([[0,0*tau]]),'ang':np.array([[0,1*tau/16],[tau/2-tau/16,tau/2]]),'burn':np.array([[3.2,3.9]])}\n",
    "\n",
    "jitter=np.random.rand(indi,jit,3)\n",
    "jitter=np.array([sigma*jitt for jitt in jitter])\n",
    "jitter=jitter.reshape(jit,indi,3)\n",
    "jitter[0]*=0\n",
    "points=indivs+jitter\n",
    "points=points.reshape(jit*indi,3)\n",
    "points=np.array([p * 2 for p in points]) # TODO replace with ensure_bounds eval\n",
    "points.reshape(jit,indi,3)\n",
    "successes=np.zeros(indi*jit,dtype=bool)\n",
    "scores=np.zeros(indi*jit)"
   ]
  },
  {
   "cell_type": "markdown",
   "metadata": {},
   "source": [
    "## Simulations are run here"
   ]
  },
  {
   "cell_type": "code",
   "execution_count": 47,
   "metadata": {},
   "outputs": [
    {
     "name": "stdout",
     "output_type": "stream",
     "text": [
      "[False False False False False False False False False False False False\n",
      " False False False False False False False False False False False False\n",
      " False  True  True  True  True  True  True  True  True  True  True  True\n",
      "  True  True  True  True  True  True  True  True  True  True  True  True\n",
      "  True  True]\n",
      "[[1.20000000e+02 3.10000000e+02 2.12000000e+03 2.01300000e+04\n",
      "  2.00140000e+05 1.70089517e+02 3.62772140e+02 2.17445296e+03\n",
      "  2.01802097e+04 2.00190654e+05]\n",
      " [2.24342254e+02 4.13476324e+02 2.22455972e+03 2.02346044e+04\n",
      "  2.00244629e+05 2.71691306e+02 4.61238657e+02 2.27243777e+03\n",
      "  2.02852355e+04 2.00291396e+05]\n",
      " [3.20506508e+02 5.15536344e+02 2.32270711e+03 2.03318615e+04\n",
      "  2.00342670e+05 2.74694555e+01 4.60328305e+01 2.27588895e+02\n",
      "  2.02823957e+03 2.00292305e+04]\n",
      " [3.22333145e+01 5.14795636e+01 2.32027359e+02 2.03338106e+03\n",
      "  2.00343508e+04 3.71734802e+01 5.63353109e+01 2.37379787e+02\n",
      "  2.03835442e+03 2.00393259e+04]\n",
      " [4.25302027e+01 6.13112948e+01 2.42577186e+02 2.04307410e+03\n",
      "  2.00440597e+04 4.75008952e+01 6.62616665e+01 2.47531269e+02\n",
      "  2.04828649e+03 2.00493640e+04]]\n",
      "[[ -1  -3  -5  -7  -9  -2  -4  -6  -8 -10]\n",
      " [ -1  -3  -5  -7  -9  -2  -4  -6  -8 -10]\n",
      " [ -4  -5  -7  -9 -10  -1  -2  -3  -6  -8]\n",
      " [ -1  -3  -5  -7  -9  -2  -4  -6  -8 -10]\n",
      " [ -1  -3  -5  -7  -9  -2  -4  -6  -8 -10]]\n"
     ]
    }
   ],
   "source": [
    "successes[int(indi*jit/2):]=True\n",
    "print(successes)\n",
    "scores = np.arange(indi*jit,dtype=float)\n",
    "for i,_ in enumerate(scores):\n",
    "    scores[i] += points[i][2]\n",
    "    if not successes[i]:\n",
    "        scores[i] += 10\n",
    "        scores[i] *= 10\n",
    "\n",
    "successes = successes.reshape(jit,indi)\n",
    "scores = scores.reshape(indi,jit)\n",
    "print (scores)\n",
    "scores = np.array([rankdata(sig_eps,method='ordinal') for sig_eps in scores])\n",
    "scores = -scores\n",
    "print(scores)\n",
    "\n"
   ]
  },
  {
   "cell_type": "code",
   "execution_count": 48,
   "metadata": {
    "scrolled": false
   },
   "outputs": [
    {
     "name": "stdout",
     "output_type": "stream",
     "text": [
      "[[[0.         0.         0.        ]\n",
      "  [0.29463418 0.06083339 0.00447583]\n",
      "  [0.28342008 0.10950551 0.21711271]\n",
      "  [0.14851496 0.04324694 0.08456531]\n",
      "  [0.22000246 0.08958971 0.02532539]\n",
      "  [0.10912922 0.22474221 0.23472777]\n",
      "  [0.24060831 0.24660642 0.11665723]\n",
      "  [0.21968161 0.04685372 0.08674009]\n",
      "  [0.11234862 0.24665833 0.26510137]\n",
      "  [0.13154403 0.28921871 0.2504476 ]]\n",
      "\n",
      " [[0.         0.         0.        ]\n",
      "  [0.02217364 0.1401503  0.13860701]\n",
      "  [0.06870446 0.12358118 0.17381618]\n",
      "  [0.06963688 0.06255661 0.06193287]\n",
      "  [0.08319541 0.08293945 0.2768172 ]\n",
      "  [0.28686882 0.09224667 0.01641524]\n",
      "  [0.14934583 0.02708704 0.23978179]\n",
      "  [0.29682877 0.03198944 0.16765543]\n",
      "  [0.17358803 0.08525692 0.15564741]\n",
      "  [0.05833618 0.05992133 0.13083325]]\n",
      "\n",
      " [[0.         0.         0.        ]\n",
      "  [0.23525546 0.10206519 0.22264823]\n",
      "  [0.04798678 0.04200766 0.22798579]\n",
      "  [0.24714216 0.14063487 0.1218885 ]\n",
      "  [0.27957094 0.09739661 0.13535541]\n",
      "  [0.19790946 0.09023341 0.2944473 ]\n",
      "  [0.06527548 0.05775664 0.01367971]\n",
      "  [0.10958951 0.26020964 0.18989344]\n",
      "  [0.26561101 0.06050055 0.28859285]\n",
      "  [0.18579592 0.03079879 0.26563434]]\n",
      "\n",
      " [[0.         0.         0.        ]\n",
      "  [0.00235657 0.11751339 0.01048537]\n",
      "  [0.27749499 0.00174284 0.23021757]\n",
      "  [0.00152814 0.15584967 0.26177721]\n",
      "  [0.22400088 0.06922492 0.09307504]\n",
      "  [0.24587449 0.18750007 0.11978441]\n",
      "  [0.17858879 0.03524883 0.1905282 ]\n",
      "  [0.25170481 0.11123741 0.17720824]\n",
      "  [0.28335618 0.08667183 0.03705004]\n",
      "  [0.24653762 0.28478046 0.143244  ]]\n",
      "\n",
      " [[0.         0.         0.        ]\n",
      "  [0.09231561 0.27352228 0.03269573]\n",
      "  [0.00531078 0.12729634 0.23146077]\n",
      "  [0.01665683 0.29187451 0.06977738]\n",
      "  [0.2312964  0.07748531 0.13349732]\n",
      "  [0.0936115  0.0266587  0.11525219]\n",
      "  [0.0475166  0.13478479 0.17540766]\n",
      "  [0.20584332 0.1550558  0.16297418]\n",
      "  [0.29665116 0.08254909 0.02982926]\n",
      "  [0.24526878 0.05866919 0.18201203]]] (5, 10, 3)\n"
     ]
    }
   ],
   "source": [
    "steps=np.zeros([indi,3])\n",
    "jitterT=jitter.transpose(1,0,2)\n",
    "print(jitterT,jitterT.shape)\n",
    "steps=np.array([np.dot(scores[idx],jitterT[idx]) * alpha for idx in range(len(steps))])"
   ]
  },
  {
   "cell_type": "code",
   "execution_count": 40,
   "metadata": {
    "scrolled": false
   },
   "outputs": [
    {
     "name": "stdout",
     "output_type": "stream",
     "text": [
      "indi\n",
      "  5, \n",
      "\n",
      "jit\n",
      "  10, \n",
      "\n",
      "indivs\n",
      "  [[1, 1, 1], [10, 10, 10], [100, 100, 100], [1000, 1000, 1000], [10000, 10000, 10000]], \n",
      "\n",
      "jitter\n",
      "  [[[0.         0.         0.        ]\n",
      "  [0.         0.         0.        ]\n",
      "  [0.         0.         0.        ]\n",
      "  [0.         0.         0.        ]\n",
      "  [0.         0.         0.        ]]\n",
      "\n",
      " [[0.03146649 0.05796197 0.0353344 ]\n",
      "  [0.00218898 0.17506336 0.23095669]\n",
      "  [0.22130761 0.18342389 0.16283777]\n",
      "  [0.04039819 0.18636839 0.06207926]\n",
      "  [0.17856947 0.29461138 0.2115526 ]]\n",
      "\n",
      " [[0.05234378 0.27131451 0.17922369]\n",
      "  [0.14290346 0.29726721 0.1307958 ]\n",
      "  [0.19321134 0.09645539 0.13754207]\n",
      "  [0.20492871 0.05221911 0.04989232]\n",
      "  [0.04033221 0.14796707 0.17582946]]\n",
      "\n",
      " [[0.1968916  0.17164837 0.15188791]\n",
      "  [0.11091491 0.14135676 0.18967495]\n",
      "  [0.05313078 0.23077753 0.25957971]\n",
      "  [0.1865256  0.10487532 0.0286791 ]\n",
      "  [0.22580344 0.26037774 0.19945781]]\n",
      "\n",
      " [[0.11148299 0.16617183 0.1974239 ]\n",
      "  [0.1343403  0.06981172 0.24151674]\n",
      "  [0.05670833 0.04032876 0.18399746]\n",
      "  [0.19025571 0.17780867 0.12982428]\n",
      "  [0.13700717 0.18649252 0.22621257]]\n",
      "\n",
      " [[0.26978162 0.28058491 0.1853473 ]\n",
      "  [0.25325247 0.27653728 0.28464905]\n",
      "  [0.18313812 0.17978653 0.13717073]\n",
      "  [0.21682317 0.10551377 0.04557686]\n",
      "  [0.23096265 0.09416562 0.19586164]]\n",
      "\n",
      " [[0.0567049  0.09741834 0.18907125]\n",
      "  [0.22323508 0.12536524 0.10740673]\n",
      "  [0.08710174 0.24171474 0.29271165]\n",
      "  [0.29000975 0.06187437 0.11522675]\n",
      "  [0.22613373 0.03937606 0.21636642]]\n",
      "\n",
      " [[0.0229242  0.05457312 0.02536288]\n",
      "  [0.03892141 0.13708143 0.15370333]\n",
      "  [0.03811722 0.08696302 0.21370962]\n",
      "  [0.14630108 0.04136333 0.08029429]\n",
      "  [0.13437288 0.10953194 0.27113274]]\n",
      "\n",
      " [[0.11936997 0.06081082 0.25571651]\n",
      "  [0.11305858 0.18805616 0.2140224 ]\n",
      "  [0.24473226 0.18382976 0.25930992]\n",
      "  [0.12872904 0.09728697 0.28507871]\n",
      "  [0.12472128 0.03286577 0.23655628]]\n",
      "\n",
      " [[0.27092198 0.21268665 0.00930684]\n",
      "  [0.01905452 0.1294622  0.07017314]\n",
      "  [0.00358051 0.21490607 0.03068567]\n",
      "  [0.24422352 0.08364354 0.10092267]\n",
      "  [0.20540859 0.08546926 0.16892985]]], \n",
      "\n",
      "points\n",
      "  [[2.00000000e+00 2.00000000e+00 2.00000000e+00]\n",
      " [2.00000000e+01 2.00000000e+01 2.00000000e+01]\n",
      " [2.00000000e+02 2.00000000e+02 2.00000000e+02]\n",
      " [2.00000000e+03 2.00000000e+03 2.00000000e+03]\n",
      " [2.00000000e+04 2.00000000e+04 2.00000000e+04]\n",
      " [2.06293298e+00 2.11592394e+00 2.07066881e+00]\n",
      " [2.00043780e+01 2.03501267e+01 2.04619134e+01]\n",
      " [2.00442615e+02 2.00366848e+02 2.00325676e+02]\n",
      " [2.00008080e+03 2.00037274e+03 2.00012416e+03]\n",
      " [2.00003571e+04 2.00005892e+04 2.00004231e+04]\n",
      " [2.10468755e+00 2.54262901e+00 2.35844737e+00]\n",
      " [2.02858069e+01 2.05945344e+01 2.02615916e+01]\n",
      " [2.00386423e+02 2.00192911e+02 2.00275084e+02]\n",
      " [2.00040986e+03 2.00010444e+03 2.00009978e+03]\n",
      " [2.00000807e+04 2.00002959e+04 2.00003517e+04]\n",
      " [2.39378320e+00 2.34329675e+00 2.30377581e+00]\n",
      " [2.02218298e+01 2.02827135e+01 2.03793499e+01]\n",
      " [2.00106262e+02 2.00461555e+02 2.00519159e+02]\n",
      " [2.00037305e+03 2.00020975e+03 2.00005736e+03]\n",
      " [2.00004516e+04 2.00005208e+04 2.00003989e+04]\n",
      " [2.22296598e+00 2.33234366e+00 2.39484781e+00]\n",
      " [2.02686806e+01 2.01396234e+01 2.04830335e+01]\n",
      " [2.00113417e+02 2.00080658e+02 2.00367995e+02]\n",
      " [2.00038051e+03 2.00035562e+03 2.00025965e+03]\n",
      " [2.00002740e+04 2.00003730e+04 2.00004524e+04]\n",
      " [2.53956325e+00 2.56116982e+00 2.37069459e+00]\n",
      " [2.05065049e+01 2.05530746e+01 2.05692981e+01]\n",
      " [2.00366276e+02 2.00359573e+02 2.00274341e+02]\n",
      " [2.00043365e+03 2.00021103e+03 2.00009115e+03]\n",
      " [2.00004619e+04 2.00001883e+04 2.00003917e+04]\n",
      " [2.11340980e+00 2.19483668e+00 2.37814250e+00]\n",
      " [2.04464702e+01 2.02507305e+01 2.02148135e+01]\n",
      " [2.00174203e+02 2.00483429e+02 2.00585423e+02]\n",
      " [2.00058002e+03 2.00012375e+03 2.00023045e+03]\n",
      " [2.00004523e+04 2.00000788e+04 2.00004327e+04]\n",
      " [2.04584841e+00 2.10914624e+00 2.05072576e+00]\n",
      " [2.00778428e+01 2.02741629e+01 2.03074067e+01]\n",
      " [2.00076234e+02 2.00173926e+02 2.00427419e+02]\n",
      " [2.00029260e+03 2.00008273e+03 2.00016059e+03]\n",
      " [2.00002687e+04 2.00002191e+04 2.00005423e+04]\n",
      " [2.23873993e+00 2.12162164e+00 2.51143302e+00]\n",
      " [2.02261172e+01 2.03761123e+01 2.04280448e+01]\n",
      " [2.00489465e+02 2.00367660e+02 2.00518620e+02]\n",
      " [2.00025746e+03 2.00019457e+03 2.00057016e+03]\n",
      " [2.00002494e+04 2.00000657e+04 2.00004731e+04]\n",
      " [2.54184396e+00 2.42537330e+00 2.01861368e+00]\n",
      " [2.00381090e+01 2.02589244e+01 2.01403463e+01]\n",
      " [2.00007161e+02 2.00429812e+02 2.00061371e+02]\n",
      " [2.00048845e+03 2.00016729e+03 2.00020185e+03]\n",
      " [2.00004108e+04 2.00001709e+04 2.00003379e+04]], \n",
      "\n",
      "successes\n",
      "  [[False False False False False]\n",
      " [False False False False False]\n",
      " [False False False False False]\n",
      " [False False False False False]\n",
      " [False False False False False]\n",
      " [ True  True  True  True  True]\n",
      " [ True  True  True  True  True]\n",
      " [ True  True  True  True  True]\n",
      " [ True  True  True  True  True]\n",
      " [ True  True  True  True  True]], \n",
      "\n",
      "scores\n",
      "  [[ -1  -3  -5  -7  -9  -2  -4  -6  -8 -10]\n",
      " [ -1  -3  -5  -7  -9  -2  -4  -6  -8 -10]\n",
      " [ -4  -5  -7  -9 -10  -1  -2  -3  -6  -8]\n",
      " [ -1  -3  -5  -7  -9  -2  -4  -6  -8 -10]\n",
      " [ -1  -3  -5  -7  -9  -2  -4  -6  -8 -10]], \n",
      "\n",
      "steps\n",
      "  [[-0.21917442 -0.24357535 -0.21780329]\n",
      " [-0.16303617 -0.24916273 -0.2754984 ]\n",
      " [-0.16419026 -0.23456774 -0.27354729]\n",
      " [-0.30322134 -0.16428127 -0.18385664]\n",
      " [-0.26326835 -0.21736177 -0.34234971]], \n",
      "\n",
      "scores[0]\n",
      "  [ -1  -3  -5  -7  -9  -2  -4  -6  -8 -10], \n",
      "\n",
      "jitterT\n",
      "  [[[0.         0.         0.        ]\n",
      "  [0.03146649 0.05796197 0.0353344 ]\n",
      "  [0.05234378 0.27131451 0.17922369]\n",
      "  [0.1968916  0.17164837 0.15188791]\n",
      "  [0.11148299 0.16617183 0.1974239 ]\n",
      "  [0.26978162 0.28058491 0.1853473 ]\n",
      "  [0.0567049  0.09741834 0.18907125]\n",
      "  [0.0229242  0.05457312 0.02536288]\n",
      "  [0.11936997 0.06081082 0.25571651]\n",
      "  [0.27092198 0.21268665 0.00930684]]\n",
      "\n",
      " [[0.         0.         0.        ]\n",
      "  [0.00218898 0.17506336 0.23095669]\n",
      "  [0.14290346 0.29726721 0.1307958 ]\n",
      "  [0.11091491 0.14135676 0.18967495]\n",
      "  [0.1343403  0.06981172 0.24151674]\n",
      "  [0.25325247 0.27653728 0.28464905]\n",
      "  [0.22323508 0.12536524 0.10740673]\n",
      "  [0.03892141 0.13708143 0.15370333]\n",
      "  [0.11305858 0.18805616 0.2140224 ]\n",
      "  [0.01905452 0.1294622  0.07017314]]\n",
      "\n",
      " [[0.         0.         0.        ]\n",
      "  [0.22130761 0.18342389 0.16283777]\n",
      "  [0.19321134 0.09645539 0.13754207]\n",
      "  [0.05313078 0.23077753 0.25957971]\n",
      "  [0.05670833 0.04032876 0.18399746]\n",
      "  [0.18313812 0.17978653 0.13717073]\n",
      "  [0.08710174 0.24171474 0.29271165]\n",
      "  [0.03811722 0.08696302 0.21370962]\n",
      "  [0.24473226 0.18382976 0.25930992]\n",
      "  [0.00358051 0.21490607 0.03068567]]\n",
      "\n",
      " [[0.         0.         0.        ]\n",
      "  [0.04039819 0.18636839 0.06207926]\n",
      "  [0.20492871 0.05221911 0.04989232]\n",
      "  [0.1865256  0.10487532 0.0286791 ]\n",
      "  [0.19025571 0.17780867 0.12982428]\n",
      "  [0.21682317 0.10551377 0.04557686]\n",
      "  [0.29000975 0.06187437 0.11522675]\n",
      "  [0.14630108 0.04136333 0.08029429]\n",
      "  [0.12872904 0.09728697 0.28507871]\n",
      "  [0.24422352 0.08364354 0.10092267]]\n",
      "\n",
      " [[0.         0.         0.        ]\n",
      "  [0.17856947 0.29461138 0.2115526 ]\n",
      "  [0.04033221 0.14796707 0.17582946]\n",
      "  [0.22580344 0.26037774 0.19945781]\n",
      "  [0.13700717 0.18649252 0.22621257]\n",
      "  [0.23096265 0.09416562 0.19586164]\n",
      "  [0.22613373 0.03937606 0.21636642]\n",
      "  [0.13437288 0.10953194 0.27113274]\n",
      "  [0.12472128 0.03286577 0.23655628]\n",
      "  [0.20540859 0.08546926 0.16892985]]], \n",
      "\n"
     ]
    }
   ],
   "source": [
    "myvars=['indi','jit','indivs','jitter','points','successes','scores','steps','scores[0]','jitterT']\n",
    "for name in myvars:\n",
    "    shape=''\n",
    "    if eval(name) is np.array:\n",
    "        shape=eval(name).shape\n",
    "    print(f\"{name}\\n  {eval(name)}, {shape}\\n\")"
   ]
  },
  {
   "cell_type": "code",
   "execution_count": null,
   "metadata": {},
   "outputs": [],
   "source": [
    "\n",
    "b\n",
    "\n"
   ]
  },
  {
   "cell_type": "code",
   "execution_count": 392,
   "metadata": {},
   "outputs": [
    {
     "name": "stdout",
     "output_type": "stream",
     "text": [
      "[[[0.         0.         0.        ]\n",
      "  [0.1280431  0.12180758 0.01018593]\n",
      "  [0.18669717 0.18058165 0.18075414]]\n",
      "\n",
      " [[0.         0.         0.        ]\n",
      "  [0.03645558 0.26442544 0.18639281]\n",
      "  [0.01882341 0.11633155 0.13459434]]\n",
      "\n",
      " [[0.         0.         0.        ]\n",
      "  [0.04220892 0.26965698 0.02896902]\n",
      "  [0.06873238 0.07552495 0.00311146]]\n",
      "\n",
      " [[0.         0.         0.        ]\n",
      "  [0.19940603 0.20497647 0.29552359]\n",
      "  [0.03876768 0.1418851  0.25727366]]\n",
      "\n",
      " [[0.         0.         0.        ]\n",
      "  [0.02567414 0.03599377 0.1412781 ]\n",
      "  [0.14153639 0.17431669 0.12801141]]]\n"
     ]
    }
   ],
   "source": [
    "print(jitter.transpose(1,0,2))"
   ]
  },
  {
   "cell_type": "code",
   "execution_count": null,
   "metadata": {},
   "outputs": [],
   "source": []
  },
  {
   "cell_type": "code",
   "execution_count": null,
   "metadata": {},
   "outputs": [],
   "source": []
  },
  {
   "cell_type": "code",
   "execution_count": null,
   "metadata": {},
   "outputs": [],
   "source": []
  },
  {
   "cell_type": "code",
   "execution_count": null,
   "metadata": {},
   "outputs": [],
   "source": []
  },
  {
   "cell_type": "code",
   "execution_count": null,
   "metadata": {},
   "outputs": [],
   "source": []
  },
  {
   "cell_type": "code",
   "execution_count": null,
   "metadata": {},
   "outputs": [],
   "source": []
  },
  {
   "cell_type": "code",
   "execution_count": null,
   "metadata": {},
   "outputs": [],
   "source": []
  },
  {
   "cell_type": "code",
   "execution_count": null,
   "metadata": {},
   "outputs": [],
   "source": []
  },
  {
   "cell_type": "code",
   "execution_count": null,
   "metadata": {},
   "outputs": [],
   "source": []
  },
  {
   "cell_type": "code",
   "execution_count": null,
   "metadata": {},
   "outputs": [],
   "source": []
  },
  {
   "cell_type": "code",
   "execution_count": null,
   "metadata": {},
   "outputs": [],
   "source": []
  },
  {
   "cell_type": "code",
   "execution_count": null,
   "metadata": {},
   "outputs": [],
   "source": []
  },
  {
   "cell_type": "code",
   "execution_count": null,
   "metadata": {},
   "outputs": [],
   "source": []
  },
  {
   "cell_type": "code",
   "execution_count": null,
   "metadata": {},
   "outputs": [],
   "source": []
  },
  {
   "cell_type": "code",
   "execution_count": null,
   "metadata": {},
   "outputs": [],
   "source": []
  },
  {
   "cell_type": "code",
   "execution_count": null,
   "metadata": {},
   "outputs": [],
   "source": []
  },
  {
   "cell_type": "code",
   "execution_count": null,
   "metadata": {},
   "outputs": [],
   "source": []
  },
  {
   "cell_type": "code",
   "execution_count": null,
   "metadata": {},
   "outputs": [],
   "source": []
  }
 ],
 "metadata": {
  "kernelspec": {
   "display_name": "Python 3",
   "language": "python",
   "name": "python3"
  },
  "language_info": {
   "codemirror_mode": {
    "name": "ipython",
    "version": 3
   },
   "file_extension": ".py",
   "mimetype": "text/x-python",
   "name": "python",
   "nbconvert_exporter": "python",
   "pygments_lexer": "ipython3",
   "version": "3.6.4"
  }
 },
 "nbformat": 4,
 "nbformat_minor": 2
}
