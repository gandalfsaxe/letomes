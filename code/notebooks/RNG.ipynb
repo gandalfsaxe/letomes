{
 "cells": [
  {
   "cell_type": "code",
   "execution_count": 1,
   "metadata": {},
   "outputs": [],
   "source": [
    "import matplotlib.pyplot as plt\n",
    "%matplotlib inline\n",
    "import numpy as np\n",
    "import numpy.random as npr\n",
    "from numba import jit,  njit, float64\n",
    "\n",
    "from math import pi, cos, sin\n",
    "tau = 2*pi"
   ]
  },
  {
   "cell_type": "code",
   "execution_count": 2,
   "metadata": {},
   "outputs": [],
   "source": [
    "bounds=[[0.,tau/8],[3*tau/8,tau/2]]"
   ]
  },
  {
   "cell_type": "code",
   "execution_count": null,
   "metadata": {},
   "outputs": [],
   "source": []
  },
  {
   "cell_type": "code",
   "execution_count": 3,
   "metadata": {},
   "outputs": [
    {
     "name": "stdout",
     "output_type": "stream",
     "text": [
      "1.0\n",
      "1\n",
      "1.5\n",
      "1.5\n",
      "1.5\n",
      "7.5\n",
      "7.5\n",
      "7.5\n",
      "8\n",
      "9\n"
     ]
    }
   ],
   "source": [
    "@njit\n",
    "def random_disjoint_intervals(bounds):\n",
    "    lens = collapse_intervals(bounds)\n",
    "    total_len=lens[-1]\n",
    "    \n",
    "    R=npr.rand()*total_len\n",
    "    \n",
    "    idx=0\n",
    "    for i in range(len(bounds)):\n",
    "        if R <= lens[i]:\n",
    "            idx = i\n",
    "            break\n",
    "    lb = bounds[idx][0]\n",
    "    ub = bounds[idx][1]\n",
    "    R_star = (ub-lb)*npr.rand()+lb\n",
    "    return R_star\n",
    "\n",
    "@njit\n",
    "def collapse_intervals(bounds):\n",
    "    lens=[]\n",
    "    for i in range(len(bounds)):\n",
    "        lb=bounds[i][0]\n",
    "        ub=bounds[i][1]\n",
    "        lens.append(ub-lb)\n",
    "    lens=np.array(lens)\n",
    "    return lens.cumsum()\n",
    "\n",
    "def check_bounds(v,bounds):\n",
    "    for b in bounds:\n",
    "        if v>=b[0] and v<=b[1]:\n",
    "            return v\n",
    "    return min([(abs(x-v),x) for x in bounds.flatten()])[1]\n",
    "\n",
    "for i in range(10):\n",
    "    print(check_bounds(i,np.array([[1,1.5],[7.5,9]])))\n",
    "        "
   ]
  },
  {
   "cell_type": "code",
   "execution_count": 20,
   "metadata": {
    "scrolled": false
   },
   "outputs": [
    {
     "name": "stdout",
     "output_type": "stream",
     "text": [
      "1.75 µs ± 8.12 ns per loop (mean ± std. dev. of 7 runs, 1000000 loops each)\n",
      "5.68 µs ± 28.2 ns per loop (mean ± std. dev. of 7 runs, 100000 loops each)\n"
     ]
    }
   ],
   "source": [
    "%timeit random_disjoint_intervals(np.array([[0.,3.],[3.5,10.]]))\n",
    "%timeit check_bounds(10,np.array([[1,1.5],[7.5,9]]))"
   ]
  },
  {
   "cell_type": "code",
   "execution_count": 5,
   "metadata": {},
   "outputs": [
    {
     "data": {
      "image/png": "[encoded data removed]",
      "text/plain": [
       "<Figure size 432x288 with 1 Axes>"
      ]
     },
     "metadata": {},
     "output_type": "display_data"
    }
   ],
   "source": [
    "N=10000\n",
    "bounds={'pos':np.array([[0,0*tau]]),'ang':np.array([[0,1*tau/16],[tau/2-tau/16,tau/2]]),'burn':np.array([[3.2,3.9]])}\n",
    "pts=[]\n",
    "for i in range(N):\n",
    "    newpt=[]\n",
    "    for b in bounds.values():\n",
    "        newpt.append(random_disjoint_intervals(b))\n",
    "    pts.append(newpt)\n",
    "    \n",
    "# for i,x in enumerate(np.array(pts).T):\n",
    "#     plt.hist(x,bins=100)\n",
    "#     plt.show()\n",
    "    \n",
    "ax=plt.gca()\n",
    "earth=plt.Circle((0,0),6,color='blue')\n",
    "ax.set_aspect('equal')\n",
    "for psi in pts[::100]:\n",
    "    pos,ang,burn=psi\n",
    "    \n",
    "    vhat_x,vhat_y=sin(pos),-cos(pos)\n",
    "    x0,y0 = 7*cos(pos),7*sin(pos)\n",
    "    burnvx=cos(ang)*vhat_x - sin(ang) * vhat_y\n",
    "    burnvy=sin(ang)*vhat_x + cos(ang) * vhat_y\n",
    "    \n",
    "    \n",
    "    ax.plot([x0,burn*burnvx+x0],[y0,burn*burnvy+y0])\n",
    "ax.scatter(0,0) # make sur earth is on screen\n",
    "ax.add_artist(earth)\n",
    "plt.show()"
   ]
  },
  {
   "cell_type": "code",
   "execution_count": 6,
   "metadata": {},
   "outputs": [
    {
     "data": {
      "text/plain": [
       "dict_values([array([[0., 0.]]), array([[0.        , 0.39269908],\n",
       "       [2.74889357, 3.14159265]]), array([[3.2, 3.9]])])"
      ]
     },
     "execution_count": 6,
     "metadata": {},
     "output_type": "execute_result"
    }
   ],
   "source": [
    "bounds.values()"
   ]
  },
  {
   "cell_type": "code",
   "execution_count": 7,
   "metadata": {},
   "outputs": [
    {
     "name": "stdout",
     "output_type": "stream",
     "text": [
      "(0, array([[0., 0.]]))\n",
      "(1, array([[0.        , 0.39269908],\n",
      "       [2.74889357, 3.14159265]]))\n",
      "(2, array([[3.2, 3.9]]))\n"
     ]
    }
   ],
   "source": [
    "for b in enumerate(bounds.values()):\n",
    "    print(b)"
   ]
  },
  {
   "cell_type": "markdown",
   "metadata": {},
   "source": [
    "# Matrix Transformations\n",
    "## ES algo GPU version"
   ]
  },
  {
   "cell_type": "code",
   "execution_count": 400,
   "metadata": {},
   "outputs": [],
   "source": [
    "\n",
    "from scipy.stats import rankdata"
   ]
  },
  {
   "cell_type": "code",
   "execution_count": 401,
   "metadata": {},
   "outputs": [],
   "source": [
    "indi, jit = 5, 3\n",
    "sigma,alpha=0.3,0.03\n",
    "indivs=[[1,1,1],[10,10,10],[100,100,100],[1000,1000,1000],[10000,10000,10000]]\n",
    "jitter=np.random.rand(indi,jit,3)\n",
    "jitter=np.array([sigma*jitt for jitt in jitter])\n",
    "jitter=jitter.reshape(jit,indi,3)\n",
    "jitter[0]*=0\n",
    "points=indivs+jitter\n",
    "points=points.reshape(jit*indi,3)\n",
    "points=np.array([p * 2 for p in points]) # TODO replace with ensure_bounds eval\n",
    "points.reshape(jit,indi,3)\n",
    "successes=np.zeros(indi*jit,dtype=bool)\n",
    "scores=np.zeros(indi*jit)"
   ]
  },
  {
   "cell_type": "markdown",
   "metadata": {},
   "source": [
    "## Simulations are run here"
   ]
  },
  {
   "cell_type": "code",
   "execution_count": 402,
   "metadata": {},
   "outputs": [
    {
     "name": "stdout",
     "output_type": "stream",
     "text": [
      "[ True  True  True  True  True  True  True False False False False False\n",
      " False False False]\n",
      "[[2.00000000e+00 7.12954072e+00 2.24962715e+02]\n",
      " [2.10000000e+01 2.61041713e+01 4.14268164e+02]\n",
      " [2.02000000e+02 2.17141015e+03 2.22462077e+03]\n",
      " [2.00300000e+03 2.01858766e+04 2.02351582e+04]\n",
      " [2.00040000e+04 2.00194609e+05 2.00240184e+05]]\n"
     ]
    }
   ],
   "source": [
    "successes[:int(indi*jit/2)]=True\n",
    "print(successes)\n",
    "scores = np.arange(indi*jit,dtype=float)\n",
    "for i,_ in enumerate(scores):\n",
    "    scores[i] += points[i][2]\n",
    "    if not successes[i]:\n",
    "        scores[i] += 10\n",
    "        scores[i] *= 10\n",
    "\n",
    "successes = successes.reshape(jit,indi)\n",
    "scores = scores.reshape(jit,indi)\n",
    "scores=scores.T\n",
    "print (scores)\n",
    "scores = np.array([rankdata(sig_eps,method='ordinal') for sig_eps in scores])\n",
    "scores = -scores\n",
    "\n"
   ]
  },
  {
   "cell_type": "code",
   "execution_count": 403,
   "metadata": {
    "scrolled": false
   },
   "outputs": [
    {
     "name": "stdout",
     "output_type": "stream",
     "text": [
      "[[[0.         0.         0.        ]\n",
      "  [0.22944796 0.200461   0.06477036]\n",
      "  [0.05684932 0.00658754 0.24813575]]\n",
      "\n",
      " [[0.         0.         0.        ]\n",
      "  [0.01671545 0.0013616  0.05208565]\n",
      "  [0.05739913 0.02149737 0.21340819]]\n",
      "\n",
      " [[0.         0.         0.        ]\n",
      "  [0.23105948 0.17734574 0.07050755]\n",
      "  [0.23695079 0.05558903 0.23103854]]\n",
      "\n",
      " [[0.         0.         0.        ]\n",
      "  [0.08263094 0.06715965 0.29383074]\n",
      "  [0.01062752 0.00764476 0.25791248]]\n",
      "\n",
      " [[0.         0.         0.        ]\n",
      "  [0.2287158  0.10052874 0.23045142]\n",
      "  [0.16464892 0.15958612 0.00920364]]] (5, 3, 3)\n"
     ]
    }
   ],
   "source": [
    "steps=np.zeros([indi,3])\n",
    "jitterT=jitter.transpose(1,0,2)\n",
    "print(jitterT,jitterT.shape)\n",
    "steps=np.array([np.dot(scores[idx],jitterT[idx]) * alpha for idx in range(len(steps))])"
   ]
  },
  {
   "cell_type": "code",
   "execution_count": 404,
   "metadata": {
    "scrolled": false
   },
   "outputs": [
    {
     "name": "stdout",
     "output_type": "stream",
     "text": [
      "indi\n",
      "  5, \n",
      "\n",
      "jit\n",
      "  3, \n",
      "\n",
      "indivs\n",
      "  [[1, 1, 1], [10, 10, 10], [100, 100, 100], [1000, 1000, 1000], [10000, 10000, 10000]], \n",
      "\n",
      "jitter\n",
      "  [[[0.         0.         0.        ]\n",
      "  [0.         0.         0.        ]\n",
      "  [0.         0.         0.        ]\n",
      "  [0.         0.         0.        ]\n",
      "  [0.         0.         0.        ]]\n",
      "\n",
      " [[0.22944796 0.200461   0.06477036]\n",
      "  [0.01671545 0.0013616  0.05208565]\n",
      "  [0.23105948 0.17734574 0.07050755]\n",
      "  [0.08263094 0.06715965 0.29383074]\n",
      "  [0.2287158  0.10052874 0.23045142]]\n",
      "\n",
      " [[0.05684932 0.00658754 0.24813575]\n",
      "  [0.05739913 0.02149737 0.21340819]\n",
      "  [0.23695079 0.05558903 0.23103854]\n",
      "  [0.01062752 0.00764476 0.25791248]\n",
      "  [0.16464892 0.15958612 0.00920364]]], \n",
      "\n",
      "points\n",
      "  [[2.00000000e+00 2.00000000e+00 2.00000000e+00]\n",
      " [2.00000000e+01 2.00000000e+01 2.00000000e+01]\n",
      " [2.00000000e+02 2.00000000e+02 2.00000000e+02]\n",
      " [2.00000000e+03 2.00000000e+03 2.00000000e+03]\n",
      " [2.00000000e+04 2.00000000e+04 2.00000000e+04]\n",
      " [2.45889592e+00 2.40092200e+00 2.12954072e+00]\n",
      " [2.00334309e+01 2.00027232e+01 2.01041713e+01]\n",
      " [2.00462119e+02 2.00354691e+02 2.00141015e+02]\n",
      " [2.00016526e+03 2.00013432e+03 2.00058766e+03]\n",
      " [2.00004574e+04 2.00002011e+04 2.00004609e+04]\n",
      " [2.11369864e+00 2.01317509e+00 2.49627150e+00]\n",
      " [2.01147983e+01 2.00429947e+01 2.04268164e+01]\n",
      " [2.00473902e+02 2.00111178e+02 2.00462077e+02]\n",
      " [2.00002126e+03 2.00001529e+03 2.00051582e+03]\n",
      " [2.00003293e+04 2.00003192e+04 2.00000184e+04]], \n",
      "\n",
      "successes\n",
      "  [[ True  True  True  True  True]\n",
      " [ True  True False False False]\n",
      " [False False False False False]], \n",
      "\n",
      "scores\n",
      "  [[-1 -2 -3]\n",
      " [-1 -2 -3]\n",
      " [-1 -2 -3]\n",
      " [-1 -2 -3]\n",
      " [-1 -2 -3]], \n",
      "\n",
      "steps\n",
      "  [[-0.01888332 -0.01262054 -0.02621844]\n",
      " [-0.00616885 -0.00201646 -0.02233188]\n",
      " [-0.03518914 -0.01564376 -0.02502392]\n",
      " [-0.00591433 -0.00471761 -0.04084197]\n",
      " [-0.02854135 -0.02039448 -0.01465541]], \n",
      "\n",
      "scores[0]\n",
      "  [-1 -2 -3], \n",
      "\n",
      "jitterT\n",
      "  [[[0.         0.         0.        ]\n",
      "  [0.22944796 0.200461   0.06477036]\n",
      "  [0.05684932 0.00658754 0.24813575]]\n",
      "\n",
      " [[0.         0.         0.        ]\n",
      "  [0.01671545 0.0013616  0.05208565]\n",
      "  [0.05739913 0.02149737 0.21340819]]\n",
      "\n",
      " [[0.         0.         0.        ]\n",
      "  [0.23105948 0.17734574 0.07050755]\n",
      "  [0.23695079 0.05558903 0.23103854]]\n",
      "\n",
      " [[0.         0.         0.        ]\n",
      "  [0.08263094 0.06715965 0.29383074]\n",
      "  [0.01062752 0.00764476 0.25791248]]\n",
      "\n",
      " [[0.         0.         0.        ]\n",
      "  [0.2287158  0.10052874 0.23045142]\n",
      "  [0.16464892 0.15958612 0.00920364]]], \n",
      "\n"
     ]
    }
   ],
   "source": [
    "myvars=['indi','jit','indivs','jitter','points','successes','scores','steps','scores[0]','jitterT']\n",
    "for name in myvars:\n",
    "    shape=''\n",
    "    if eval(name) is np.array:\n",
    "        shape=eval(name).shape\n",
    "    print(f\"{name}\\n  {eval(name)}, {shape}\\n\")"
   ]
  },
  {
   "cell_type": "code",
   "execution_count": null,
   "metadata": {},
   "outputs": [],
   "source": [
    "\n",
    "\n",
    "\n"
   ]
  },
  {
   "cell_type": "code",
   "execution_count": 392,
   "metadata": {},
   "outputs": [
    {
     "name": "stdout",
     "output_type": "stream",
     "text": [
      "[[[0.         0.         0.        ]\n",
      "  [0.1280431  0.12180758 0.01018593]\n",
      "  [0.18669717 0.18058165 0.18075414]]\n",
      "\n",
      " [[0.         0.         0.        ]\n",
      "  [0.03645558 0.26442544 0.18639281]\n",
      "  [0.01882341 0.11633155 0.13459434]]\n",
      "\n",
      " [[0.         0.         0.        ]\n",
      "  [0.04220892 0.26965698 0.02896902]\n",
      "  [0.06873238 0.07552495 0.00311146]]\n",
      "\n",
      " [[0.         0.         0.        ]\n",
      "  [0.19940603 0.20497647 0.29552359]\n",
      "  [0.03876768 0.1418851  0.25727366]]\n",
      "\n",
      " [[0.         0.         0.        ]\n",
      "  [0.02567414 0.03599377 0.1412781 ]\n",
      "  [0.14153639 0.17431669 0.12801141]]]\n"
     ]
    }
   ],
   "source": [
    "print(jitter.transpose(1,0,2))"
   ]
  },
  {
   "cell_type": "code",
   "execution_count": null,
   "metadata": {},
   "outputs": [],
   "source": []
  },
  {
   "cell_type": "code",
   "execution_count": null,
   "metadata": {},
   "outputs": [],
   "source": []
  },
  {
   "cell_type": "code",
   "execution_count": null,
   "metadata": {},
   "outputs": [],
   "source": []
  },
  {
   "cell_type": "code",
   "execution_count": null,
   "metadata": {},
   "outputs": [],
   "source": []
  },
  {
   "cell_type": "code",
   "execution_count": null,
   "metadata": {},
   "outputs": [],
   "source": []
  },
  {
   "cell_type": "code",
   "execution_count": null,
   "metadata": {},
   "outputs": [],
   "source": []
  },
  {
   "cell_type": "code",
   "execution_count": null,
   "metadata": {},
   "outputs": [],
   "source": []
  },
  {
   "cell_type": "code",
   "execution_count": null,
   "metadata": {},
   "outputs": [],
   "source": []
  },
  {
   "cell_type": "code",
   "execution_count": null,
   "metadata": {},
   "outputs": [],
   "source": []
  },
  {
   "cell_type": "code",
   "execution_count": null,
   "metadata": {},
   "outputs": [],
   "source": []
  },
  {
   "cell_type": "code",
   "execution_count": null,
   "metadata": {},
   "outputs": [],
   "source": []
  },
  {
   "cell_type": "code",
   "execution_count": null,
   "metadata": {},
   "outputs": [],
   "source": []
  },
  {
   "cell_type": "code",
   "execution_count": null,
   "metadata": {},
   "outputs": [],
   "source": []
  },
  {
   "cell_type": "code",
   "execution_count": null,
   "metadata": {},
   "outputs": [],
   "source": []
  },
  {
   "cell_type": "code",
   "execution_count": null,
   "metadata": {},
   "outputs": [],
   "source": []
  },
  {
   "cell_type": "code",
   "execution_count": null,
   "metadata": {},
   "outputs": [],
   "source": []
  },
  {
   "cell_type": "code",
   "execution_count": null,
   "metadata": {},
   "outputs": [],
   "source": []
  },
  {
   "cell_type": "code",
   "execution_count": null,
   "metadata": {},
   "outputs": [],
   "source": []
  }
 ],
 "metadata": {
  "kernelspec": {
   "display_name": "Python 3",
   "language": "python",
   "name": "python3"
  },
  "language_info": {
   "codemirror_mode": {
    "name": "ipython",
    "version": 3
   },
   "file_extension": ".py",
   "mimetype": "text/x-python",
   "name": "python",
   "nbconvert_exporter": "python",
   "pygments_lexer": "ipython3",
   "version": "3.6.4"
  }
 },
 "nbformat": 4,
 "nbformat_minor": 2
}
