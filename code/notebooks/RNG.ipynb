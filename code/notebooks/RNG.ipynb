{
 "cells": [
  {
   "cell_type": "code",
   "execution_count": 214,
   "metadata": {},
   "outputs": [],
   "source": [
    "import matplotlib.pyplot as plt\n",
    "%matplotlib inline\n",
    "import numpy as np\n",
    "import numpy.random as npr\n",
    "from numba import jit,  njit, float64\n",
    "\n",
    "from math import pi, cos, sin\n",
    "tau = 2*pi"
   ]
  },
  {
   "cell_type": "code",
   "execution_count": 179,
   "metadata": {},
   "outputs": [],
   "source": [
    "bounds=[[0.,tau/8],[3*tau/8,tau/2]]"
   ]
  },
  {
   "cell_type": "code",
   "execution_count": null,
   "metadata": {},
   "outputs": [],
   "source": []
  },
  {
   "cell_type": "code",
   "execution_count": 326,
   "metadata": {},
   "outputs": [
    {
     "name": "stdout",
     "output_type": "stream",
     "text": [
      "1.0\n",
      "1\n",
      "1.5\n",
      "1.5\n",
      "1.5\n",
      "7.5\n",
      "7.5\n",
      "7.5\n",
      "8\n",
      "9\n"
     ]
    }
   ],
   "source": [
    "@njit\n",
    "def random_disjoint_intervals(bounds):\n",
    "    lens = collapse_intervals(bounds)\n",
    "    total_len=lens[-1]\n",
    "    \n",
    "    R=npr.rand()*total_len\n",
    "    \n",
    "    idx=0\n",
    "    for i in range(len(bounds)):\n",
    "        if R <= lens[i]:\n",
    "            idx = i\n",
    "            break\n",
    "    lb = bounds[idx][0]\n",
    "    ub = bounds[idx][1]\n",
    "    R_star = (ub-lb)*npr.rand()+lb\n",
    "    return R_star\n",
    "\n",
    "@njit\n",
    "def collapse_intervals(bounds):\n",
    "    lens=[]\n",
    "    for i in range(len(bounds)):\n",
    "        lb=bounds[i][0]\n",
    "        ub=bounds[i][1]\n",
    "        lens.append(ub-lb)\n",
    "    lens=np.array(lens)\n",
    "    return lens.cumsum()\n",
    "\n",
    "def check_bounds(v,bounds):\n",
    "    for b in bounds:\n",
    "        if v>=b[0] and v<=b[1]:\n",
    "            return v\n",
    "    return min([(abs(x-v),x) for x in bounds.flatten()])[1]\n",
    "\n",
    "for i in range(10):\n",
    "    print(check_bounds(i,np.array([[1,1.5],[7.5,9]])))\n",
    "        "
   ]
  },
  {
   "cell_type": "code",
   "execution_count": 296,
   "metadata": {
    "scrolled": false
   },
   "outputs": [
    {
     "name": "stdout",
     "output_type": "stream",
     "text": [
      "The slowest run took 8.79 times longer than the fastest. This could mean that an intermediate result is being cached.\n",
      "9.67 µs ± 11.2 µs per loop (mean ± std. dev. of 7 runs, 1 loop each)\n"
     ]
    }
   ],
   "source": [
    "%timeit random_disjoint_intervals(np.array([[0.,3.],[3.5,10.]]))"
   ]
  },
  {
   "cell_type": "code",
   "execution_count": 329,
   "metadata": {},
   "outputs": [
    {
     "data": {
      "image/png": "[encoded data removed]",
      "text/plain": [
       "<matplotlib.figure.Figure at 0x1f96a06b588>"
      ]
     },
     "metadata": {},
     "output_type": "display_data"
    }
   ],
   "source": [
    "N=10000\n",
    "bounds={'pos':np.array([[0,0*tau]]),'ang':np.array([[0,1*tau/16],[tau/2-tau/16,tau/2]]),'burn':np.array([[3.2,3.9]])}\n",
    "pts=[]\n",
    "for i in range(N):\n",
    "    newpt=[]\n",
    "    for b in bounds.values():\n",
    "        newpt.append(random_disjoint_intervals(b))\n",
    "    pts.append(newpt)\n",
    "    \n",
    "# for i,x in enumerate(np.array(pts).T):\n",
    "#     plt.hist(x,bins=100)\n",
    "#     plt.show()\n",
    "    \n",
    "ax=plt.gca()\n",
    "earth=plt.Circle((0,0),6,color='blue')\n",
    "ax.set_aspect('equal')\n",
    "for psi in pts[::100]:\n",
    "    pos,ang,burn=psi\n",
    "    \n",
    "    vhat_x,vhat_y=sin(pos),-cos(pos)\n",
    "    x0,y0 = 7*cos(pos),7*sin(pos)\n",
    "    burnvx=cos(ang)*vhat_x - sin(ang) * vhat_y\n",
    "    burnvy=sin(ang)*vhat_x + cos(ang) * vhat_y\n",
    "    \n",
    "    \n",
    "    ax.plot([x0,burn*burnvx+x0],[y0,burn*burnvy+y0])\n",
    "ax.scatter(0,0) # make sur earth is on screen\n",
    "ax.add_artist(earth)\n",
    "plt.show()"
   ]
  },
  {
   "cell_type": "code",
   "execution_count": 259,
   "metadata": {},
   "outputs": [
    {
     "data": {
      "text/plain": [
       "dict_values([array([[0.        , 1.57079633]]), array([[0.        , 0.78539816]]), array([[3.2, 3.9]])])"
      ]
     },
     "execution_count": 259,
     "metadata": {},
     "output_type": "execute_result"
    }
   ],
   "source": [
    "bounds.values()"
   ]
  },
  {
   "cell_type": "code",
   "execution_count": 301,
   "metadata": {},
   "outputs": [
    {
     "name": "stdout",
     "output_type": "stream",
     "text": [
      "(0, array([[0., 0.]]))\n",
      "(1, array([[0.        , 0.39269908],\n",
      "       [2.74889357, 3.14159265]]))\n",
      "(2, array([[3.2, 3.9]]))\n"
     ]
    }
   ],
   "source": [
    "for b in enumerate(bounds.values()):\n",
    "    print(b)"
   ]
  },
  {
   "cell_type": "code",
   "execution_count": null,
   "metadata": {},
   "outputs": [],
   "source": []
  }
 ],
 "metadata": {
  "kernelspec": {
   "display_name": "Python 3",
   "language": "python",
   "name": "python3"
  },
  "language_info": {
   "codemirror_mode": {
    "name": "ipython",
    "version": 3
   },
   "file_extension": ".py",
   "mimetype": "text/x-python",
   "name": "python",
   "nbconvert_exporter": "python",
   "pygments_lexer": "ipython3",
   "version": "3.6.4"
  }
 },
 "nbformat": 4,
 "nbformat_minor": 2
}
