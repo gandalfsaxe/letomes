{
 "cells": [
  {
   "cell_type": "code",
   "execution_count": 1,
   "metadata": {},
   "outputs": [],
   "source": [
    "import matplotlib.pyplot as plt\n",
    "import matplotlib.gridspec as gridspec\n",
    "from IPython import display\n",
    "import numpy as np\n",
    "plt.rcParams['image.cmap'] = 'gray'\n",
    "plt.rcParams['image.interpolation'] = 'nearest'\n",
    "%matplotlib inline\n",
    "import pygmo as pg\n",
    "from pygmo import algorithm\n",
    "import os\n",
    "import sys\n",
    "import json\n",
    "\n",
    "import time\n",
    "import numpy as np\n",
    "from random import shuffle"
   ]
  },
  {
   "cell_type": "code",
   "execution_count": 2,
   "metadata": {},
   "outputs": [],
   "source": [
    "import inspect\n",
    "import math"
   ]
  },
  {
   "cell_type": "code",
   "execution_count": 3,
   "metadata": {},
   "outputs": [
    {
     "data": {
      "image/png": "[encoded data removed]",
      "text/plain": [
       "<matplotlib.figure.Figure at 0x1ec0d0cd6a0>"
      ]
     },
     "metadata": {},
     "output_type": "display_data"
    }
   ],
   "source": [
    "# generate a toy 2D regression dataset\n",
    "sz = 100\n",
    "X,Y = np.meshgrid(np.linspace(-1,1,sz),np.linspace(-1,1,sz))\n",
    "mux,muy,sigma=0.3,-0.3,4\n",
    "G1 = np.exp(-((X-mux)**2+(Y-muy)**2)/2.0*sigma**2)\n",
    "mux,muy,sigma=-0.3,0.3,2\n",
    "G2 = np.exp(-((X-mux)**2+(Y-muy)**2)/2.0*sigma**2)\n",
    "mux,muy,sigma=0.6,0.6,2\n",
    "G3 = np.exp(-((X-mux)**2+(Y-muy)**2)/2.0*sigma**2)\n",
    "mux,muy,sigma=-0.4,-0.2,3\n",
    "G4 = np.exp(-((X-mux)**2+(Y-muy)**2)/2.0*sigma**2)\n",
    "G = G1 + G2 - G3 - G4\n",
    "fig,ax = plt.subplots()\n",
    "im = ax.imshow(G, vmin=-1, vmax=1, cmap='jet')\n",
    "#plt.axis('off')"
   ]
  },
  {
   "cell_type": "code",
   "execution_count": 4,
   "metadata": {},
   "outputs": [],
   "source": [
    "class saddle_space:\n",
    "    def __init__(self):\n",
    "        self.dim = 2\n",
    "    \n",
    "    def fitness(self,x):\n",
    "        return [G[int(x[0]),int(x[1])]]\n",
    "    \n",
    "    def get_bounds(self):\n",
    "        return ([0,0],[99,99])\n",
    "    \n",
    "    def get_name(self):\n",
    "        return f\"saddlespace\"\n",
    "    \n",
    "    def plot(self, w, idx):\n",
    "        plt.imshow(G,vmin=-1, vmax=1, cmap='jet')\n",
    "        x,y = zip(*w)\n",
    "        plt.scatter(x,y,4,'k',edgecolors='face')\n",
    "        plt.scatter(w[idx][0],w[idx][1],15,'y',edgecolors='k')"
   ]
  },
  {
   "cell_type": "code",
   "execution_count": 5,
   "metadata": {},
   "outputs": [],
   "source": [
    "class salimans_nes:\n",
    "    def __init__(self,iter=12):\n",
    "        super(salimans_nes,self).__init__()\n",
    "        self.prevx,self.prevy = [],[]\n",
    "        \n",
    "        self.iter=iter # number of steps towards estimated gradient\n",
    "    \n",
    "    def evolve(self,pop):\n",
    "        if len(pop) == 0:\n",
    "            return pop\n",
    "        sigma = 3\n",
    "        alpha = 0.03 # learningrate\n",
    "        \n",
    "        # plotting\n",
    "        plotting = False\n",
    "        if plotting:\n",
    "            plt.figure(figsize=(self.iter,self.iter))\n",
    "            no_rows = int(self.iter/4+1)\n",
    "            gs = gridspec.GridSpec(no_rows,4)\n",
    "            plot_index = 0\n",
    "        \n",
    "        #for each iteration, jitter around starting points, and move in the\n",
    "        #best direction (weighted average jitter coordinates according to \n",
    "        #fitness score)\n",
    "        for i in range(self.iter):\n",
    "            \n",
    "            if plotting:\n",
    "                ax1=plt.subplot(gs[int(i/4),plot_index])\n",
    "                plot_index += 1\n",
    "                if plot_index == 4:\n",
    "                    plot_index = 0\n",
    "                plt.imshow(G,vmin=-1, vmax=1, cmap='jet')\n",
    "            \n",
    "            #get the population    \n",
    "            wl = pop.get_x()\n",
    "            \n",
    "            #do the jittering and selection\n",
    "            j=0\n",
    "            for w in wl:\n",
    "                noise = np.random.randn(200,2)\n",
    "                wp = [[min(99,max(0,x)),min(99,max(0,y))] for [x,y] in np.expand_dims(w, 0) + sigma*noise]\n",
    "                \n",
    "                \n",
    "                \n",
    "                if plotting:\n",
    "                    x,y = zip(*wp)\n",
    "                    plt.scatter(x,y,4,'k',edgecolors='face')\n",
    "                R = np.array([prob.fitness(wi)[0] for wi in wp])\n",
    "                R -= R.mean()\n",
    "                R /= R.std()\n",
    "                g = np.dot(R, noise)\n",
    "                u = alpha * g\n",
    "                w += u # mutate the population\n",
    "                w = [min(99,max(0,w[0])),min(99,max(0,w[1]))] # bounds\n",
    "                pop.set_x(j,w)# make the move previously selected\n",
    "                j+=1\n",
    "        return pop\n",
    "\n",
    "    def get_name(self):\n",
    "        return f\"Salimans ES\""
   ]
  },
  {
   "cell_type": "code",
   "execution_count": 6,
   "metadata": {
    "scrolled": false
   },
   "outputs": [],
   "source": [
    "def pygmo_es():\n",
    "    uda = salimans_nes(iter=250)  # user defined algorithm\n",
    "    udp = saddle_space()  # user defined problem\n",
    "    prob = pg.problem(udp) # Beautiful white snow\n",
    "\n",
    "    archi = pg.archipelago(algo=uda, prob=udp, n=300, pop_size=300)\n",
    "    archi.evolve()\n",
    "    archi.wait()\n",
    "    sols = archi.get_champions_f()\n",
    "    idx = sols.index(min(sols))\n",
    "    print(\"Done!! Solutions found are: \")\n",
    "    print(archi.get_champions_f())\n",
    "    udp.plot(archi.get_champions_x(),idx)\n",
    "\n",
    "    #pop = pg.population(prob,10,3)\n",
    "    #algo.evolve(pop)"
   ]
  },
  {
   "cell_type": "code",
   "execution_count": null,
   "metadata": {},
   "outputs": [],
   "source": []
  },
  {
   "cell_type": "code",
   "execution_count": null,
   "metadata": {},
   "outputs": [],
   "source": []
  },
  {
   "cell_type": "code",
   "execution_count": 7,
   "metadata": {
    "scrolled": true
   },
   "outputs": [
    {
     "name": "stdout",
     "output_type": "stream",
     "text": [
      "Done!! Solutions found are: \n",
      "[array([-0.85496351]), array([-0.86857351]), array([-0.85875045]), array([-0.86644323]), array([-0.86289333]), array([-0.86022288]), array([-0.82908367]), array([-0.86289333]), array([-0.85875045]), array([-0.86644323]), array([-0.86718368]), array([-0.8688916]), array([-0.84816496]), array([-0.8553677]), array([-0.85053094]), array([-0.85057203]), array([-0.86692]), array([-0.8525013]), array([-0.84608871]), array([-0.81117722]), array([-0.84092329]), array([-0.83974164]), array([-0.85483487]), array([-0.85681028]), array([-0.86857351]), array([-0.86730463]), array([-0.86315355]), array([-0.84374289]), array([-0.86730463]), array([-0.85999593]), array([-0.85373887]), array([-0.86351271]), array([-0.86718368]), array([-0.86022288]), array([-0.83037524]), array([-0.86885839]), array([-0.84273276]), array([-0.86165022]), array([-0.8641723]), array([-0.86617489]), array([-0.86265915]), array([-0.86674718]), array([-0.85742488]), array([-0.86947055]), array([-0.84152251]), array([-0.84840577]), array([-0.86857351]), array([-0.86885839]), array([-0.86617489]), array([-0.86351271]), array([-0.86303006]), array([-0.84001485]), array([-0.86885839]), array([-0.85808444]), array([-0.86875354]), array([-0.85634953]), array([-0.86857351]), array([-0.83496044]), array([-0.86957314]), array([-0.86263775]), array([-0.84990655]), array([-0.84914088]), array([-0.86352717]), array([-0.8579495]), array([-0.84803868]), array([-0.8630155]), array([-0.86670497]), array([-0.86692]), array([-0.85783137]), array([-0.85875045]), array([-0.85810071]), array([-0.86265915]), array([-0.86875354]), array([-0.83451656]), array([-0.8688916]), array([-0.8688916]), array([-0.86875354]), array([-0.86674718]), array([-0.86670497]), array([-0.83768326]), array([-0.86718368]), array([-0.84990655]), array([-0.86616348]), array([-0.86875354]), array([-0.86315355]), array([-0.86124949]), array([-0.8497755]), array([-0.85847009]), array([-0.86173081]), array([-0.85634953]), array([-0.86173683]), array([-0.86381361]), array([-0.84303892]), array([-0.86885839]), array([-0.85674263]), array([-0.86520634]), array([-0.86957314]), array([-0.86875354]), array([-0.85116627]), array([-0.85036012]), array([-0.86875354]), array([-0.86857351]), array([-0.86947055]), array([-0.8688916]), array([-0.83621925]), array([-0.85999593]), array([-0.85999593]), array([-0.86692]), array([-0.86503082]), array([-0.86165022]), array([-0.86730463]), array([-0.85116627]), array([-0.86352717]), array([-0.86766663]), array([-0.86857351]), array([-0.86165333]), array([-0.85350994]), array([-0.86315355]), array([-0.86692]), array([-0.86617489]), array([-0.86857351]), array([-0.86173081]), array([-0.86315355]), array([-0.86875354]), array([-0.8630155]), array([-0.8688916]), array([-0.86352717]), array([-0.8579495]), array([-0.86644323]), array([-0.86947055]), array([-0.86947055]), array([-0.86124949]), array([-0.86947055]), array([-0.86718368]), array([-0.85369259]), array([-0.86947055]), array([-0.86381361]), array([-0.85674263]), array([-0.8581143]), array([-0.8503907]), array([-0.86947055]), array([-0.82664072]), array([-0.85433308]), array([-0.8688916]), array([-0.86766663]), array([-0.84348193]), array([-0.86289333]), array([-0.86957314]), array([-0.8553677]), array([-0.8641723]), array([-0.85057203]), array([-0.86957314]), array([-0.86503082]), array([-0.85077056]), array([-0.86165333]), array([-0.86173081]), array([-0.86947055]), array([-0.86124949]), array([-0.86670497]), array([-0.83451656]), array([-0.8688916]), array([-0.86875354]), array([-0.83543352]), array([-0.86289333]), array([-0.86224274]), array([-0.8630155]), array([-0.84238663]), array([-0.85590556]), array([-0.8666593]), array([-0.86674718]), array([-0.86616348]), array([-0.86875354]), array([-0.8666593]), array([-0.86674718]), array([-0.86730463]), array([-0.81185737]), array([-0.86885839]), array([-0.86165333]), array([-0.85808444]), array([-0.85875045]), array([-0.8581143]), array([-0.86766663]), array([-0.8566109]), array([-0.86165022]), array([-0.86616348]), array([-0.86857351]), array([-0.86718368]), array([-0.86885839]), array([-0.86173683]), array([-0.85742488]), array([-0.85483487]), array([-0.86503082]), array([-0.85590556]), array([-0.81105222]), array([-0.85350994]), array([-0.84273276]), array([-0.86766663]), array([-0.86692]), array([-0.86885839]), array([-0.85161843]), array([-0.86947055]), array([-0.86303006]), array([-0.86947055]), array([-0.86224274]), array([-0.83501013]), array([-0.86957314]), array([-0.86857351]), array([-0.86520634]), array([-0.86289333]), array([-0.86289333]), array([-0.85179734]), array([-0.86674718]), array([-0.86674718]), array([-0.86315355]), array([-0.86263775]), array([-0.85055656]), array([-0.85810071]), array([-0.86957314]), array([-0.8666593]), array([-0.8474651]), array([-0.86885839]), array([-0.8666593]), array([-0.86885839]), array([-0.86885839]), array([-0.86352717]), array([-0.86644323]), array([-0.85681933]), array([-0.86263775]), array([-0.86857351]), array([-0.86265915]), array([-0.8581143]), array([-0.86644323]), array([-0.83520065]), array([-0.82610096]), array([-0.86165333]), array([-0.84803868]), array([-0.86857351]), array([-0.84273276]), array([-0.85057203]), array([-0.8441598]), array([-0.8688916]), array([-0.86875354]), array([-0.85999593]), array([-0.86644323]), array([-0.85875045]), array([-0.86957314]), array([-0.86315355]), array([-0.86173683]), array([-0.85810071]), array([-0.8666593]), array([-0.85179734]), array([-0.85634953]), array([-0.86351271]), array([-0.85810071]), array([-0.86947055]), array([-0.86885839]), array([-0.86718368]), array([-0.86616348]), array([-0.86766663]), array([-0.8641723]), array([-0.86947055]), array([-0.86692]), array([-0.86173081]), array([-0.83496044]), array([-0.86670497]), array([-0.86303006]), array([-0.86352717]), array([-0.85875045]), array([-0.8688916]), array([-0.85808444]), array([-0.8641723]), array([-0.82129121]), array([-0.85808444]), array([-0.86947055]), array([-0.85810071]), array([-0.86957314]), array([-0.86718368]), array([-0.86381361]), array([-0.86885839]), array([-0.86718368]), array([-0.8581143]), array([-0.86503082]), array([-0.8688916]), array([-0.85875045]), array([-0.85936379]), array([-0.84735955]), array([-0.85350994]), array([-0.86885839]), array([-0.84001485]), array([-0.86692]), array([-0.85496351]), array([-0.86957314]), array([-0.86617489]), array([-0.86520634]), array([-0.86947055]), array([-0.86692]), array([-0.86315355]), array([-0.86173683]), array([-0.86670497]), array([-0.86165022])]\n"
     ]
    },
    {
     "data": {
      "image/png": "[encoded data removed]",
      "text/plain": [
       "<matplotlib.figure.Figure at 0x1ec0d58a780>"
      ]
     },
     "metadata": {},
     "output_type": "display_data"
    }
   ],
   "source": [
    "if __name__ == '__main__':\n",
    "    pygmo_es()"
   ]
  },
  {
   "cell_type": "code",
   "execution_count": null,
   "metadata": {},
   "outputs": [],
   "source": []
  },
  {
   "cell_type": "code",
   "execution_count": null,
   "metadata": {},
   "outputs": [],
   "source": []
  }
 ],
 "metadata": {
  "kernelspec": {
   "display_name": "Python 3",
   "language": "python",
   "name": "python3"
  },
  "language_info": {
   "codemirror_mode": {
    "name": "ipython",
    "version": 3
   },
   "file_extension": ".py",
   "mimetype": "text/x-python",
   "name": "python",
   "nbconvert_exporter": "python",
   "pygments_lexer": "ipython3",
   "version": "3.6.4"
  }
 },
 "nbformat": 4,
 "nbformat_minor": 2
}
