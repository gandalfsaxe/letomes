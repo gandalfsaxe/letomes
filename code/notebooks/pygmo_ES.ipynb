{
 "cells": [
  {
   "cell_type": "code",
   "execution_count": 1,
   "metadata": {},
   "outputs": [],
   "source": [
    "import matplotlib.pyplot as plt\n",
    "import matplotlib.gridspec as gridspec\n",
    "from IPython import display\n",
    "import numpy as np\n",
    "plt.rcParams['image.cmap'] = 'gray'\n",
    "plt.rcParams['image.interpolation'] = 'nearest'\n",
    "%matplotlib inline\n",
    "import pygmo as pg\n",
    "from pygmo import algorithm\n",
    "import os\n",
    "import sys\n",
    "import json\n",
    "\n",
    "import time\n",
    "import numpy as np\n",
    "from random import shuffle"
   ]
  },
  {
   "cell_type": "code",
   "execution_count": 2,
   "metadata": {},
   "outputs": [],
   "source": [
    "import inspect\n",
    "import math"
   ]
  },
  {
   "cell_type": "code",
   "execution_count": 3,
   "metadata": {},
   "outputs": [
    {
     "data": {
      "image/png": "[encoded data removed]",
      "text/plain": [
       "<matplotlib.figure.Figure at 0x22be1ddac88>"
      ]
     },
     "metadata": {},
     "output_type": "display_data"
    }
   ],
   "source": [
    "# generate a toy 2D regression dataset\n",
    "sz = 100\n",
    "X,Y = np.meshgrid(np.linspace(-1,1,sz),np.linspace(-1,1,sz))\n",
    "mux,muy,sigma=0.3,-0.3,4\n",
    "G1 = np.exp(-((X-mux)**2+(Y-muy)**2)/2.0*sigma**2)\n",
    "mux,muy,sigma=-0.3,0.3,2\n",
    "G2 = np.exp(-((X-mux)**2+(Y-muy)**2)/2.0*sigma**2)\n",
    "mux,muy,sigma=0.6,0.6,2\n",
    "G3 = np.exp(-((X-mux)**2+(Y-muy)**2)/2.0*sigma**2)\n",
    "mux,muy,sigma=-0.4,-0.2,3\n",
    "G4 = np.exp(-((X-mux)**2+(Y-muy)**2)/2.0*sigma**2)\n",
    "G = G1 + G2 - G3 - G4\n",
    "fig,ax = plt.subplots()\n",
    "im = ax.imshow(G, vmin=-1, vmax=1, cmap='jet')\n",
    "#plt.axis('off')"
   ]
  },
  {
   "cell_type": "code",
   "execution_count": 4,
   "metadata": {},
   "outputs": [],
   "source": [
    "class saddle_space:\n",
    "    def __init__(self):\n",
    "        self.dim = 2\n",
    "    \n",
    "    def fitness(self,x):\n",
    "        return [G[int(x[0]),int(x[1])]]\n",
    "    \n",
    "    def get_bounds(self):\n",
    "        return ([0,0],[99,99])\n",
    "    \n",
    "    def get_name(self):\n",
    "        return f\"saddlespace\"\n",
    "    \n",
    "    def plot(self, w, idx):\n",
    "        plt.imshow(G,vmin=-1, vmax=1, cmap='jet')\n",
    "        x,y = zip(*w)\n",
    "        plt.scatter(x,y,4,'k',edgecolors='face')\n",
    "        plt.scatter(w[idx][0],w[idx][1],15,'y',edgecolors='k')"
   ]
  },
  {
   "cell_type": "code",
   "execution_count": 5,
   "metadata": {},
   "outputs": [],
   "source": [
    "class salimans_nes:\n",
    "    def __init__(self,iter=12):\n",
    "        super(salimans_nes,self).__init__()\n",
    "        self.prevx,self.prevy = [],[]\n",
    "        \n",
    "        self.iter=iter # number of steps towards estimated gradient\n",
    "    \n",
    "    def evolve(self,pop):\n",
    "        if len(pop) == 0:\n",
    "            return pop\n",
    "        sigma = 3\n",
    "        alpha = 0.03 # learningrate\n",
    "        \n",
    "        # plotting\n",
    "        plotting = False\n",
    "        if plotting:\n",
    "            plt.figure(figsize=(self.iter,self.iter))\n",
    "            no_rows = int(self.iter/4+1)\n",
    "            gs = gridspec.GridSpec(no_rows,4)\n",
    "            plot_index = 0\n",
    "        \n",
    "        #for each iteration, jitter around starting points, and move in the\n",
    "        #best direction (weighted average jitter coordinates according to \n",
    "        #fitness score)\n",
    "        for i in range(self.iter):\n",
    "            \n",
    "            if plotting:\n",
    "                ax1=plt.subplot(gs[int(i/4),plot_index])\n",
    "                plot_index += 1\n",
    "                if plot_index == 4:\n",
    "                    plot_index = 0\n",
    "                plt.imshow(G,vmin=-1, vmax=1, cmap='jet')\n",
    "            \n",
    "            #get the population    \n",
    "            wl = pop.get_x()\n",
    "            \n",
    "            #do the jittering and selection\n",
    "            j=0\n",
    "            for w in wl:\n",
    "                noise = np.random.randn(200,2)\n",
    "                wp = [[min(99,max(0,x)),min(99,max(0,y))] for [x,y] in np.expand_dims(w, 0) + sigma*noise]\n",
    "                \n",
    "                \n",
    "                \n",
    "                if plotting:\n",
    "                    x,y = zip(*wp)\n",
    "                    plt.scatter(x,y,4,'k',edgecolors='face')\n",
    "                R = np.array([prob.fitness(wi)[0] for wi in wp])\n",
    "                R -= R.mean()\n",
    "                R /= R.std()\n",
    "                g = np.dot(R, noise)\n",
    "                u = alpha * g\n",
    "                w += u # mutate the population\n",
    "                w = [min(99,max(0,w[0])),min(99,max(0,w[1]))] # bounds\n",
    "                pop.set_x(j,w)# make the move previously selected\n",
    "                j+=1\n",
    "        return pop\n",
    "\n",
    "    def get_name(self):\n",
    "        return f\"Oisin's big-dick omegafantastic algorithm\""
   ]
  },
  {
   "cell_type": "code",
   "execution_count": 8,
   "metadata": {
    "scrolled": false
   },
   "outputs": [],
   "source": [
    "def pygmo_es():\n",
    "    uda = salimans_nes(iter=25)  # user defined algorithm\n",
    "    udp = saddle_space()  # user defined problem\n",
    "    prob = pg.problem(udp) # Beautiful white snow\n",
    "\n",
    "    archi = pg.archipelago(algo=uda, prob=udp, n=5000, pop_size=30)\n",
    "    archi.evolve()\n",
    "    sols = archi.get_champions_f()\n",
    "    idx = sols.index(min(sols))\n",
    "    print(\"Done!! Solutions found are: \")\n",
    "    print(archi.get_champions_f())\n",
    "    udp.plot(archi.get_champions_x(),idx)\n",
    "\n",
    "    #pop = pg.population(prob,10,3)\n",
    "    #algo.evolve(pop)"
   ]
  },
  {
   "cell_type": "code",
   "execution_count": null,
   "metadata": {},
   "outputs": [],
   "source": []
  },
  {
   "cell_type": "code",
   "execution_count": null,
   "metadata": {},
   "outputs": [],
   "source": []
  },
  {
   "cell_type": "code",
   "execution_count": 22,
   "metadata": {},
   "outputs": [
    {
     "name": "stdout",
     "output_type": "stream",
     "text": [
      "Done!! Solutions found are: \n",
      "[array([-0.84273276]), array([-0.68174947]), array([-0.8503907]), array([-0.85681028]), array([-0.76177574]), array([-0.80505299]), array([-0.86857351]), array([-0.86885839]), array([-0.86617489]), array([-0.86351271])]\n"
     ]
    },
    {
     "data": {
      "image/png": "[encoded data removed]",
      "text/plain": [
       "<matplotlib.figure.Figure at 0x22be21a82b0>"
      ]
     },
     "metadata": {},
     "output_type": "display_data"
    }
   ],
   "source": [
    "if __name__ == '__main__':\n",
    "    pygmo_es()"
   ]
  },
  {
   "cell_type": "code",
   "execution_count": null,
   "metadata": {},
   "outputs": [],
   "source": []
  },
  {
   "cell_type": "code",
   "execution_count": null,
   "metadata": {},
   "outputs": [],
   "source": []
  }
 ],
 "metadata": {
  "kernelspec": {
   "display_name": "Python 3",
   "language": "python",
   "name": "python3"
  },
  "language_info": {
   "codemirror_mode": {
    "name": "ipython",
    "version": 3
   },
   "file_extension": ".py",
   "mimetype": "text/x-python",
   "name": "python",
   "nbconvert_exporter": "python",
   "pygments_lexer": "ipython3",
   "version": "3.6.4"
  }
 },
 "nbformat": 4,
 "nbformat_minor": 2
}
