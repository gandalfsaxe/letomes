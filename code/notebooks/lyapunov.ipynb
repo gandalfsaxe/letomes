{
 "cells": [
  {
   "cell_type": "code",
   "execution_count": 1,
   "metadata": {
    "scrolled": true
   },
   "outputs": [],
   "source": [
    "import matplotlib.pyplot as plt\n",
    "import numpy as np\n",
    "from orbsim.r3b_2d.analyticals import *\n",
    "from orbsim.r3b_2d.simulators import launch_sim\n",
    "from orbsim.plotting import orbitplot2d, orbitplot_non_inertial\n",
    "from orbsim import *\n",
    "from orbsim.r3b_2d import *\n",
    "import operator"
   ]
  },
  {
   "cell_type": "code",
   "execution_count": 2,
   "metadata": {
    "scrolled": false
   },
   "outputs": [
    {
     "name": "stdout",
     "output_type": "stream",
     "text": [
      "1e-09\n",
      "1e-09\n",
      "1e-09\n",
      "1e-09\n"
     ]
    }
   ],
   "source": [
    "N=4\n",
    "psis=[]\n",
    "paths=[]\n",
    "examples=[\n",
    "#          [\"hohmann\", [-2.086814820119193, -0.000122173047640, 3.111181716545691],5],\n",
    "         [\"long_leto\",[3.794182930145708, 0.023901745288554, 3.090702702702703],200],\n",
    "#          [\"short_leto\",[-0.138042744751570, -0.144259374836607, 3.127288444444444],41],\n",
    "#          [\"3-day_hohmann\",[-2.272183066647597, -0.075821466029764, 3.135519748743719],3],\n",
    "#          [\"1-day_hohmann\",[-2.277654673852600, 0.047996554429844, 3.810000000000000],1]\n",
    "]#[title, psi, duration]\n",
    "for title, psi, duration in examples:\n",
    "    for i in range(N):\n",
    "        permute_psi = np.array(psi)+np.array([i*1e-4,i*1e-4,i*1e-4])\n",
    "        path = launch_sim(permute_psi, max_iter=1e7, duration=duration)\n",
    "        psis.append(permute_psi)\n",
    "        paths.append(path) \n"
   ]
  },
  {
   "cell_type": "code",
   "execution_count": 5,
   "metadata": {},
   "outputs": [
    {
     "name": "stdout",
     "output_type": "stream",
     "text": [
      "1e-09\n",
      "1e-09\n",
      "1e-09\n",
      ".\n",
      "1e-09\n",
      ".\n",
      "1e-09\n"
     ]
    }
   ],
   "source": [
    "N=5\n",
    "psi=[0.,0.,3.05]\n",
    "psis=[]\n",
    "paths=[]\n",
    "title=None\n",
    "for i in range(N):\n",
    "    permute_psi = np.array(psi)+np.array([0.,i*2*pi/N,0.])\n",
    "    path = launch_sim(permute_psi, max_iter=1e7, duration=4)\n",
    "    psis.append(permute_psi)\n",
    "    paths.append(path) "
   ]
  },
  {
   "cell_type": "raw",
   "metadata": {
    "scrolled": true
   },
   "source": [
    "for i in range(len(paths)):\n",
    "    orbitplot2d(paths[i],psis[i],filepath=\"./lyapunov_figs/trajectories\",title=\"{title}_{i}\")\n",
    "    orbitplot_non_inertial(paths[i],psis[i],filepath=\"./lyapunov_figs/trajectories\",title=\"{title}_{i}\")"
   ]
  },
  {
   "cell_type": "code",
   "execution_count": 4,
   "metadata": {},
   "outputs": [
    {
     "name": "stdout",
     "output_type": "stream",
     "text": [
      "comparing 0 and 0\n",
      "comparing 0 and 1\n",
      "length of the trajectory coordinate arrays: 0: 5035020, 1: 5199470\n",
      "time steps standardized: comparing at 5035020 points on the trajectory. Last point will be at 45.99363908707698\n",
      "comparing 0 and 2\n",
      "length of the trajectory coordinate arrays: 0: 5035020, 2: 5021559\n",
      "time steps standardized: comparing at 5021559 points on the trajectory. Last point will be at 45.99362959514798\n",
      "comparing 0 and 3\n",
      "length of the trajectory coordinate arrays: 0: 5035020, 3: 5704090\n",
      "time steps standardized: comparing at 5035020 points on the trajectory. Last point will be at 45.99363908707698\n",
      "comparing 1 and 0\n",
      "comparing 1 and 1\n",
      "comparing 1 and 2\n",
      "length of the trajectory coordinate arrays: 1: 5199470, 2: 5021559\n",
      "time steps standardized: comparing at 5021559 points on the trajectory. Last point will be at 45.99362959514798\n",
      "comparing 1 and 3\n",
      "length of the trajectory coordinate arrays: 1: 5199470, 3: 5704090\n",
      "time steps standardized: comparing at 5199470 points on the trajectory. Last point will be at 45.993643931122406\n",
      "comparing 2 and 0\n",
      "comparing 2 and 1\n",
      "comparing 2 and 2\n",
      "comparing 2 and 3\n",
      "length of the trajectory coordinate arrays: 2: 5021559, 3: 5704090\n",
      "time steps standardized: comparing at 5021559 points on the trajectory. Last point will be at 45.99362959514798\n",
      "comparing 3 and 0\n",
      "comparing 3 and 1\n",
      "comparing 3 and 2\n",
      "comparing 3 and 3\n",
      "6\n"
     ]
    }
   ],
   "source": [
    "lyaps=[]\n",
    "for a in range(N):\n",
    "    for b in range(N):\n",
    "        print(f\"comparing {a} and {b}\")\n",
    "        if a>=b:\n",
    "            continue\n",
    "        lyap=[]\n",
    "        _a=np.array(paths[a][1]).T\n",
    "        _b=np.array(paths[b][1]).T\n",
    "        xas=_a[0]\n",
    "        yas=_a[1]\n",
    "        xbs=_b[0]\n",
    "        ybs=_b[1]\n",
    "#         hs=(_a[4],_b[4])\n",
    "        ts=(_a[5],_b[5])\n",
    "        print(f\"length of the trajectory coordinate arrays: {a}: {len(xas)}, {b}: {len(xbs)}\")\n",
    "        \n",
    "#         ts=[None,None]\n",
    "#         for l in range(len(hs)):\n",
    "#             idxs=[]\n",
    "#             tally=0\n",
    "#             for i in range(len(hs[l])): # each time step h, check whether the little tally has reached our threshold.\n",
    "#                 h=hs[l][i]              # if it has, take that index as a time step\n",
    "#                 tally+=h\n",
    "#                 if tally>=1.5e-5:\n",
    "#                     idxs.append(i)\n",
    "#                     tally=0\n",
    "#             ts[l] = idxs\n",
    "            \n",
    "        _,min_ts = min([(len(x), list(x)) for x in ts])\n",
    "        print(f\"time steps standardized: comparing at {len(min_ts)} points on the trajectory. Last point will be at {max(min_ts)}\")\n",
    "        for idx in range(len(min_ts)):\n",
    "#             idx=min_ts[i]\n",
    "            lyap.append(sqrt((xas[idx]-xbs[idx])**2+(yas[idx]-ybs[idx])**2))\n",
    "        lyaps.append(lyap)\n",
    "print(len(lyaps))"
   ]
  },
  {
   "cell_type": "code",
   "execution_count": 5,
   "metadata": {},
   "outputs": [],
   "source": [
    "loglyaps=[]\n",
    "for i in range(len(lyaps)):\n",
    "    lyap=lyaps[i][1:]\n",
    "    loglyap=[np.log(x) for x in lyap]\n",
    "    loglyaps.append(loglyap)"
   ]
  },
  {
   "cell_type": "code",
   "execution_count": 6,
   "metadata": {},
   "outputs": [],
   "source": [
    "def find_segments(lyap):\n",
    "    segments=[]\n",
    "    prev_l = -1e8\n",
    "    rising = True\n",
    "    segment=[0]\n",
    "    for i,l in enumerate(lyap):\n",
    "        if rising:\n",
    "            if l<prev_l:\n",
    "                rising = False\n",
    "                segment.append(i)\n",
    "        else:\n",
    "            if l>prev_l:\n",
    "                rising = True\n",
    "                segments.append(segment)\n",
    "                segment=[i]\n",
    "        prev_l = l\n",
    "    if len(segment) == 1:\n",
    "        segment.append(len(lyap))\n",
    "    segments.append(segment)\n",
    "    return segments"
   ]
  },
  {
   "cell_type": "code",
   "execution_count": 7,
   "metadata": {},
   "outputs": [],
   "source": [
    "from scipy import stats\n",
    "def compute_slope(lyap, filepath=\".\", title=\"derp\"):\n",
    "    segments=find_segments(lyap)\n",
    "    plt.plot(range(len(lyap)),lyap,color='grey',alpha=0.5)\n",
    "    slopes=[]\n",
    "    for lb, ub in [[int(x),int(y)] for [x,y] in segments]:\n",
    "        if ub-lb < 100:\n",
    "            continue\n",
    "        if ub>len(lyap):\n",
    "            break\n",
    "        slope, intercept, r_value, p_value, std_err = stats.linregress(range(lb,ub),lyap[lb:ub])\n",
    "        slopes.append(slope)\n",
    "        #print(slope, intercept)\n",
    "        line=slope*range(lb,ub)+intercept\n",
    "        plt.plot([lb,ub],[line[0],line[-1]],color='darkred')\n",
    "        plt.plot(range(lb,ub),lyap[lb:ub],color='teal')\n",
    "    mean_slope = np.mean(slopes)\n",
    "    plt.suptitle(f\"mean slope = {mean_slope}\")\n",
    "    plt.savefig(f\"{filepath}/{title}.pdf\")\n",
    "    plt.clf()\n",
    "    return mean_slope"
   ]
  },
  {
   "cell_type": "code",
   "execution_count": 8,
   "metadata": {},
   "outputs": [
    {
     "name": "stdout",
     "output_type": "stream",
     "text": [
      "mean slope = 4.761982642353445e-05\n"
     ]
    },
    {
     "data": {
      "text/plain": [
       "<matplotlib.figure.Figure at 0x1d98ddb8b38>"
      ]
     },
     "metadata": {},
     "output_type": "display_data"
    }
   ],
   "source": [
    "slopes=[]\n",
    "for i, loglyap in enumerate(loglyaps):\n",
    "    slopes.append(compute_slope(loglyap,filepath=\"lyapunov_figs/slopes\",title=f\"{title}_{i}\"))\n",
    "print(f\"mean slope = {np.mean(slopes)}\")\n",
    "    "
   ]
  },
  {
   "cell_type": "code",
   "execution_count": null,
   "metadata": {},
   "outputs": [],
   "source": []
  },
  {
   "cell_type": "code",
   "execution_count": 9,
   "metadata": {
    "scrolled": true
   },
   "outputs": [
    {
     "data": {
      "text/plain": [
       "[<matplotlib.lines.Line2D at 0x1dab7b72e80>]"
      ]
     },
     "execution_count": 9,
     "metadata": {},
     "output_type": "execute_result"
    },
    {
     "data": {
      "image/png": "[encoded data removed]",
      "text/plain": [
       "<matplotlib.figure.Figure at 0x1d8677d4320>"
      ]
     },
     "metadata": {},
     "output_type": "display_data"
    }
   ],
   "source": [
    "lyap=lyaps[2][1:]\n",
    "loglyap=[np.log(x) for x in lyap]\n",
    "plt.plot(range(len(loglyap)),loglyap)"
   ]
  },
  {
   "cell_type": "code",
   "execution_count": 100,
   "metadata": {},
   "outputs": [
    {
     "name": "stdout",
     "output_type": "stream",
     "text": [
      "3.040160021068095e-06 -4.150509459758794\n"
     ]
    }
   ],
   "source": [
    "slope, intercept, r_value, p_value, std_err = stats.linregress(range(lb,ub),loglyap[lb:ub])\n",
    "print(slope, intercept)"
   ]
  },
  {
   "cell_type": "code",
   "execution_count": 75,
   "metadata": {},
   "outputs": [],
   "source": [
    "line=slope*range(lb,ub)+intercept"
   ]
  },
  {
   "cell_type": "code",
   "execution_count": 31,
   "metadata": {},
   "outputs": [],
   "source": [
    "hs = np.array(paths[0][1]).T[4]"
   ]
  },
  {
   "cell_type": "code",
   "execution_count": 32,
   "metadata": {},
   "outputs": [
    {
     "data": {
      "text/plain": [
       "6.778256920031252e-08"
      ]
     },
     "execution_count": 32,
     "metadata": {},
     "output_type": "execute_result"
    }
   ],
   "source": [
    "min(hs)"
   ]
  },
  {
   "cell_type": "code",
   "execution_count": 33,
   "metadata": {},
   "outputs": [
    {
     "data": {
      "text/plain": [
       "5.798294330541472e-05"
      ]
     },
     "execution_count": 33,
     "metadata": {},
     "output_type": "execute_result"
    }
   ],
   "source": [
    "max(hs)"
   ]
  },
  {
   "cell_type": "code",
   "execution_count": 36,
   "metadata": {},
   "outputs": [
    {
     "data": {
      "text/plain": [
       "1.0882626399622566e-05"
      ]
     },
     "execution_count": 36,
     "metadata": {},
     "output_type": "execute_result"
    }
   ],
   "source": [
    "np.std(hs)"
   ]
  },
  {
   "cell_type": "code",
   "execution_count": 38,
   "metadata": {},
   "outputs": [
    {
     "data": {
      "text/plain": [
       "7.04610385050155e-06"
      ]
     },
     "execution_count": 38,
     "metadata": {},
     "output_type": "execute_result"
    }
   ],
   "source": [
    "np.mean(hs)"
   ]
  },
  {
   "cell_type": "code",
   "execution_count": 39,
   "metadata": {},
   "outputs": [
    {
     "data": {
      "text/plain": [
       "1.4170823204431882e-06"
      ]
     },
     "execution_count": 39,
     "metadata": {},
     "output_type": "execute_result"
    }
   ],
   "source": [
    "np.median(hs)"
   ]
  },
  {
   "cell_type": "code",
   "execution_count": 11,
   "metadata": {},
   "outputs": [
    {
     "name": "stdout",
     "output_type": "stream",
     "text": [
      "0\n",
      "max_dist=0.22066456080414681\n",
      "min_dist=1.698076267163853e-06\n",
      "mean_dist=0.03069008199027767\n",
      "\n",
      "1\n",
      "max_dist=0.3361942995790322\n",
      "min_dist=3.396153190746294e-06\n",
      "mean_dist=0.052128642235248865\n",
      "\n",
      "2\n",
      "max_dist=0.46263197877697293\n",
      "min_dist=5.094228851045785e-06\n",
      "mean_dist=0.05862640789126122\n",
      "\n",
      "3\n",
      "max_dist=0.18417964934186015\n",
      "min_dist=1.6980765870977226e-06\n",
      "mean_dist=0.022360363891778628\n",
      "\n",
      "4\n",
      "max_dist=0.3523035474515596\n",
      "min_dist=3.3961522611417697e-06\n",
      "mean_dist=0.0408686303133852\n",
      "\n",
      "5\n",
      "max_dist=0.2224322258850193\n",
      "min_dist=1.6980753888654565e-06\n",
      "mean_dist=0.029016250363473158\n",
      "\n"
     ]
    }
   ],
   "source": [
    "for i,lyap in enumerate(lyaps):\n",
    "    print(i)\n",
    "    print(f\"max_dist={max(lyap)}\\nmin_dist={min(lyap[1:])}\\nmean_dist={np.mean(lyap)}\\n\")"
   ]
  },
  {
   "cell_type": "markdown",
   "metadata": {},
   "source": [
    "# Experiments"
   ]
  },
  {
   "cell_type": "code",
   "execution_count": 20,
   "metadata": {},
   "outputs": [],
   "source": [
    "import numpy as np\n",
    "import matplotlib.pyplot as plt"
   ]
  },
  {
   "cell_type": "code",
   "execution_count": 165,
   "metadata": {},
   "outputs": [],
   "source": [
    "nIndividuals=5\n",
    "nJitter=60\n",
    "init_sigma = 0.01  # jitter spread\n",
    "init_alpha = 0.03  # learningrate\n",
    "psis = np.array([[float(x),float(x),float(x)] for x in range(nIndividuals)])\n",
    "\n",
    "sigma = np.ones(nIndividuals) * init_sigma\n",
    "alpha = np.ones(nIndividuals) * init_alpha\n",
    "jitter = np.ones((nIndividuals, nJitter, 3))\n",
    "jitter = np.array([sigma[idx] * jitt for idx, jitt in enumerate(jitter)])\n",
    "jitter= jitter.reshape(nJitter,nIndividuals,3)\n",
    "jitter[0] *= 0  # Make sure all set individual psis are evaluated without jitter\n",
    "points = jitter + psis\n",
    "# jitter = [sigma[idx] * jitt for idx, jitt in enumerate(jitter)]\n",
    "points = points.reshape(nIndividuals * nJitter, 3)\n",
    "for i, pt in enumerate(points):\n",
    "    points[i] = ensure_bounds(pt)\n",
    "points = points.reshape(nJitter, nIndividuals, 3)\n",
    "successes = np.zeros(nIndividuals * nJitter, dtype=bool)\n",
    "scores = np.zeros(nIndividuals * nJitter)"
   ]
  },
  {
   "cell_type": "code",
   "execution_count": 125,
   "metadata": {},
   "outputs": [
    {
     "name": "stdout",
     "output_type": "stream",
     "text": [
      "[400. 400. 400. 400. 400.]\n"
     ]
    }
   ],
   "source": [
    "psi_scores = scores.T[0]\n",
    "print(psi_scores)\n",
    "for idx, score in enumerate(psi_scores):\n",
    "    new_sigma=init_sigma * score\n",
    "    new_alpha=init_alpha * score\n",
    "    sigma[idx] = new_sigma\n",
    "    alpha[idx] = new_alpha\n",
    "    \n",
    "psis += steps"
   ]
  },
  {
   "cell_type": "code",
   "execution_count": 126,
   "metadata": {
    "scrolled": false
   },
   "outputs": [
    {
     "name": "stdout",
     "output_type": "stream",
     "text": [
      "[(5, 3) (5,) (5, 3)]\n"
     ]
    }
   ],
   "source": [
    "x=np.array([np.array(x).shape for x in [steps,psi_scores,psis]])\n",
    "print(x)"
   ]
  },
  {
   "cell_type": "code",
   "execution_count": 127,
   "metadata": {},
   "outputs": [
    {
     "data": {
      "text/plain": [
       "array([9.80360333, 9.79722506, 9.67811714])"
      ]
     },
     "execution_count": 127,
     "metadata": {},
     "output_type": "execute_result"
    }
   ],
   "source": [
    "np.dot(np.array(range(nJitter)),jitter[4])"
   ]
  },
  {
   "cell_type": "code",
   "execution_count": 168,
   "metadata": {},
   "outputs": [
    {
     "name": "stdout",
     "output_type": "stream",
     "text": [
      "[[0. 0. 0.]\n",
      " [1. 1. 1.]\n",
      " [2. 2. 2.]\n",
      " [3. 3. 3.]\n",
      " [4. 4. 4.]]\n",
      "[4. 4. 4.] (5, 3)\n",
      "[[1. 1. 1.]\n",
      " [2. 2. 2.]\n",
      " [3. 3. 3.]\n",
      " [4. 4. 4.]\n",
      " [5. 5. 5.]] (60, 5, 3)\n",
      "[[0.01 0.01 0.01]\n",
      " [0.01 0.01 0.01]\n",
      " [0.01 0.01 0.01]\n",
      " [0.01 0.01 0.01]\n",
      " [0.01 0.01 0.01]\n",
      " [0.01 0.01 0.01]\n",
      " [0.01 0.01 0.01]\n",
      " [0.01 0.01 0.01]\n",
      " [0.01 0.01 0.01]\n",
      " [0.01 0.01 0.01]\n",
      " [0.01 0.01 0.01]\n",
      " [0.01 0.01 0.01]\n",
      " [0.01 0.01 0.01]\n",
      " [0.01 0.01 0.01]\n",
      " [0.01 0.01 0.01]\n",
      " [0.01 0.01 0.01]\n",
      " [0.01 0.01 0.01]\n",
      " [0.01 0.01 0.01]\n",
      " [0.01 0.01 0.01]\n",
      " [0.01 0.01 0.01]\n",
      " [0.01 0.01 0.01]\n",
      " [0.01 0.01 0.01]\n",
      " [0.01 0.01 0.01]\n",
      " [0.01 0.01 0.01]\n",
      " [0.01 0.01 0.01]\n",
      " [0.01 0.01 0.01]\n",
      " [0.01 0.01 0.01]\n",
      " [0.01 0.01 0.01]\n",
      " [0.01 0.01 0.01]\n",
      " [0.01 0.01 0.01]\n",
      " [0.01 0.01 0.01]\n",
      " [0.01 0.01 0.01]\n",
      " [0.01 0.01 0.01]\n",
      " [0.01 0.01 0.01]\n",
      " [0.01 0.01 0.01]\n",
      " [0.01 0.01 0.01]\n",
      " [0.01 0.01 0.01]\n",
      " [0.01 0.01 0.01]\n",
      " [0.01 0.01 0.01]\n",
      " [0.01 0.01 0.01]\n",
      " [0.01 0.01 0.01]\n",
      " [0.01 0.01 0.01]\n",
      " [0.01 0.01 0.01]\n",
      " [0.01 0.01 0.01]\n",
      " [0.01 0.01 0.01]\n",
      " [0.01 0.01 0.01]\n",
      " [0.01 0.01 0.01]\n",
      " [0.01 0.01 0.01]\n",
      " [0.01 0.01 0.01]\n",
      " [0.01 0.01 0.01]\n",
      " [0.01 0.01 0.01]\n",
      " [0.01 0.01 0.01]\n",
      " [0.01 0.01 0.01]\n",
      " [0.01 0.01 0.01]\n",
      " [0.01 0.01 0.01]\n",
      " [0.01 0.01 0.01]\n",
      " [0.01 0.01 0.01]\n",
      " [0.01 0.01 0.01]\n",
      " [0.01 0.01 0.01]\n",
      " [0.01 0.01 0.01]] (5, 60, 3)\n",
      "[400. 400. 400. 400. 400. 400. 400. 400. 400. 400. 400. 400. 400. 400.\n",
      " 400. 400. 400. 400. 400. 400. 400. 400. 400. 400. 400. 400. 400. 400.\n",
      " 400. 400. 400. 400. 400. 400. 400. 400. 400. 400. 400. 400. 400. 400.\n",
      " 400. 400. 400. 400. 400. 400. 400. 400. 400. 400. 400. 400. 400. 400.\n",
      " 400. 400. 400. 400.] (5, 60)\n",
      "[7.2 7.2 7.2] (5, 3)\n"
     ]
    }
   ],
   "source": [
    "x=4\n",
    "print(psis)\n",
    "print(psis[x],psis.shape)\n",
    "print(points[x],points.shape)\n",
    "print(jitter[x],jitter.shape)\n",
    "print(scores[x],scores.shape)\n",
    "print(steps[x],steps.shape)"
   ]
  },
  {
   "cell_type": "code",
   "execution_count": null,
   "metadata": {},
   "outputs": [],
   "source": []
  },
  {
   "cell_type": "code",
   "execution_count": 129,
   "metadata": {},
   "outputs": [
    {
     "data": {
      "text/plain": [
       "(60, 5, 3)"
      ]
     },
     "execution_count": 129,
     "metadata": {},
     "output_type": "execute_result"
    }
   ],
   "source": [
    "points.shape"
   ]
  },
  {
   "cell_type": "code",
   "execution_count": 170,
   "metadata": {},
   "outputs": [],
   "source": [
    "success=[True,False,True,False,False,True]\n",
    "indi = 3\n",
    "jit=2\n",
    "score = np.array([1,1,2,2,3,3])\n",
    "psis=[[1,1,1],[2,2,2],[3,3,3]]\n",
    "points=np.ones((jit,indi,3))+np.array(psis)\n",
    "points=points.reshape(indi*jit,3)\n",
    "winners = []\n",
    "# for idx,succ in enumerate(success):\n",
    "#     if succ:\n",
    "#         winners.append(points.idx)\n",
    "winners=[points[idx] for idx,succ in enumerate(success) if succ]"
   ]
  },
  {
   "cell_type": "code",
   "execution_count": 171,
   "metadata": {},
   "outputs": [
    {
     "data": {
      "text/plain": [
       "array([[-1.22474487, -1.22474487],\n",
       "       [ 0.        ,  0.        ],\n",
       "       [ 1.22474487,  1.22474487]])"
      ]
     },
     "execution_count": 171,
     "metadata": {},
     "output_type": "execute_result"
    }
   ],
   "source": [
    "sco=score.reshape(indi,jit)\n",
    "# sco-=sco.mean()\n",
    "# sco/=sco.std()\n",
    "sco=sco-sco.mean()\n",
    "sco=sco/sco.std()\n",
    "sco"
   ]
  },
  {
   "cell_type": "code",
   "execution_count": 172,
   "metadata": {},
   "outputs": [
    {
     "data": {
      "text/plain": [
       "array([[2., 2., 2.],\n",
       "       [3., 3., 3.],\n",
       "       [4., 4., 4.],\n",
       "       [2., 2., 2.],\n",
       "       [3., 3., 3.],\n",
       "       [4., 4., 4.]])"
      ]
     },
     "execution_count": 172,
     "metadata": {},
     "output_type": "execute_result"
    }
   ],
   "source": [
    "points.reshape(indi*jit,3)"
   ]
  },
  {
   "cell_type": "code",
   "execution_count": 173,
   "metadata": {},
   "outputs": [],
   "source": [
    "xpoints = points.reshape(indi*jit,3)\n",
    "for i,pt in enumerate(xpoints):\n",
    "    xpoints[i]=ensure_bounds(pt)"
   ]
  },
  {
   "cell_type": "code",
   "execution_count": 174,
   "metadata": {},
   "outputs": [
    {
     "data": {
      "text/plain": [
       "array([[ 2.        , -1.14159265,  3.        ],\n",
       "       [ 3.        , -0.14159265,  3.        ],\n",
       "       [ 4.        , -2.28318531,  3.8       ],\n",
       "       [ 2.        , -1.14159265,  3.        ],\n",
       "       [ 3.        , -0.14159265,  3.        ],\n",
       "       [ 4.        , -2.28318531,  3.8       ]])"
      ]
     },
     "execution_count": 174,
     "metadata": {},
     "output_type": "execute_result"
    }
   ],
   "source": [
    "xpoints"
   ]
  },
  {
   "cell_type": "code",
   "execution_count": null,
   "metadata": {},
   "outputs": [],
   "source": []
  },
  {
   "cell_type": "code",
   "execution_count": 175,
   "metadata": {},
   "outputs": [],
   "source": [
    "sco=np.array(score).reshape((indi,jit))"
   ]
  },
  {
   "cell_type": "code",
   "execution_count": 176,
   "metadata": {},
   "outputs": [
    {
     "data": {
      "text/plain": [
       "array([10., 10., 10.])"
      ]
     },
     "execution_count": 176,
     "metadata": {},
     "output_type": "execute_result"
    }
   ],
   "source": [
    "np.dot(sco[0],np.ones((indi,jit,3))[0])*5"
   ]
  },
  {
   "cell_type": "code",
   "execution_count": 95,
   "metadata": {},
   "outputs": [
    {
     "data": {
      "text/plain": [
       "array([[[1., 1., 1.],\n",
       "        [1., 1., 1.],\n",
       "        [1., 1., 1.]],\n",
       "\n",
       "       [[1., 1., 1.],\n",
       "        [1., 1., 1.],\n",
       "        [1., 1., 1.]],\n",
       "\n",
       "       [[1., 1., 1.],\n",
       "        [1., 1., 1.],\n",
       "        [1., 1., 1.]]])"
      ]
     },
     "execution_count": 95,
     "metadata": {},
     "output_type": "execute_result"
    }
   ],
   "source": [
    "np.ones((3,3,3))"
   ]
  },
  {
   "cell_type": "code",
   "execution_count": 119,
   "metadata": {},
   "outputs": [
    {
     "data": {
      "text/plain": [
       "(3, 2)"
      ]
     },
     "execution_count": 119,
     "metadata": {},
     "output_type": "execute_result"
    }
   ],
   "source": [
    "indi, jit"
   ]
  },
  {
   "cell_type": "code",
   "execution_count": 118,
   "metadata": {},
   "outputs": [
    {
     "data": {
      "text/plain": [
       "[1, 1, 1, 2, 2, 2]"
      ]
     },
     "execution_count": 118,
     "metadata": {},
     "output_type": "execute_result"
    }
   ],
   "source": [
    "score"
   ]
  },
  {
   "cell_type": "code",
   "execution_count": 106,
   "metadata": {},
   "outputs": [
    {
     "data": {
      "text/plain": [
       "[1, 1, 1, 2, 2, 2, 3, 3, 3]"
      ]
     },
     "execution_count": 106,
     "metadata": {},
     "output_type": "execute_result"
    }
   ],
   "source": [
    "score"
   ]
  },
  {
   "cell_type": "code",
   "execution_count": 166,
   "metadata": {},
   "outputs": [
    {
     "data": {
      "text/plain": [
       "array([[[0., 0., 0.],\n",
       "        [1., 1., 1.],\n",
       "        [2., 2., 2.],\n",
       "        [3., 3., 3.],\n",
       "        [4., 4., 4.]],\n",
       "\n",
       "       [[1., 1., 1.],\n",
       "        [2., 2., 2.],\n",
       "        [3., 3., 3.],\n",
       "        [4., 4., 4.],\n",
       "        [5., 5., 5.]],\n",
       "\n",
       "       [[1., 1., 1.],\n",
       "        [2., 2., 2.],\n",
       "        [3., 3., 3.],\n",
       "        [4., 4., 4.],\n",
       "        [5., 5., 5.]],\n",
       "\n",
       "       [[1., 1., 1.],\n",
       "        [2., 2., 2.],\n",
       "        [3., 3., 3.],\n",
       "        [4., 4., 4.],\n",
       "        [5., 5., 5.]],\n",
       "\n",
       "       [[1., 1., 1.],\n",
       "        [2., 2., 2.],\n",
       "        [3., 3., 3.],\n",
       "        [4., 4., 4.],\n",
       "        [5., 5., 5.]],\n",
       "\n",
       "       [[1., 1., 1.],\n",
       "        [2., 2., 2.],\n",
       "        [3., 3., 3.],\n",
       "        [4., 4., 4.],\n",
       "        [5., 5., 5.]],\n",
       "\n",
       "       [[1., 1., 1.],\n",
       "        [2., 2., 2.],\n",
       "        [3., 3., 3.],\n",
       "        [4., 4., 4.],\n",
       "        [5., 5., 5.]],\n",
       "\n",
       "       [[1., 1., 1.],\n",
       "        [2., 2., 2.],\n",
       "        [3., 3., 3.],\n",
       "        [4., 4., 4.],\n",
       "        [5., 5., 5.]],\n",
       "\n",
       "       [[1., 1., 1.],\n",
       "        [2., 2., 2.],\n",
       "        [3., 3., 3.],\n",
       "        [4., 4., 4.],\n",
       "        [5., 5., 5.]],\n",
       "\n",
       "       [[1., 1., 1.],\n",
       "        [2., 2., 2.],\n",
       "        [3., 3., 3.],\n",
       "        [4., 4., 4.],\n",
       "        [5., 5., 5.]],\n",
       "\n",
       "       [[1., 1., 1.],\n",
       "        [2., 2., 2.],\n",
       "        [3., 3., 3.],\n",
       "        [4., 4., 4.],\n",
       "        [5., 5., 5.]],\n",
       "\n",
       "       [[1., 1., 1.],\n",
       "        [2., 2., 2.],\n",
       "        [3., 3., 3.],\n",
       "        [4., 4., 4.],\n",
       "        [5., 5., 5.]],\n",
       "\n",
       "       [[1., 1., 1.],\n",
       "        [2., 2., 2.],\n",
       "        [3., 3., 3.],\n",
       "        [4., 4., 4.],\n",
       "        [5., 5., 5.]],\n",
       "\n",
       "       [[1., 1., 1.],\n",
       "        [2., 2., 2.],\n",
       "        [3., 3., 3.],\n",
       "        [4., 4., 4.],\n",
       "        [5., 5., 5.]],\n",
       "\n",
       "       [[1., 1., 1.],\n",
       "        [2., 2., 2.],\n",
       "        [3., 3., 3.],\n",
       "        [4., 4., 4.],\n",
       "        [5., 5., 5.]],\n",
       "\n",
       "       [[1., 1., 1.],\n",
       "        [2., 2., 2.],\n",
       "        [3., 3., 3.],\n",
       "        [4., 4., 4.],\n",
       "        [5., 5., 5.]],\n",
       "\n",
       "       [[1., 1., 1.],\n",
       "        [2., 2., 2.],\n",
       "        [3., 3., 3.],\n",
       "        [4., 4., 4.],\n",
       "        [5., 5., 5.]],\n",
       "\n",
       "       [[1., 1., 1.],\n",
       "        [2., 2., 2.],\n",
       "        [3., 3., 3.],\n",
       "        [4., 4., 4.],\n",
       "        [5., 5., 5.]],\n",
       "\n",
       "       [[1., 1., 1.],\n",
       "        [2., 2., 2.],\n",
       "        [3., 3., 3.],\n",
       "        [4., 4., 4.],\n",
       "        [5., 5., 5.]],\n",
       "\n",
       "       [[1., 1., 1.],\n",
       "        [2., 2., 2.],\n",
       "        [3., 3., 3.],\n",
       "        [4., 4., 4.],\n",
       "        [5., 5., 5.]],\n",
       "\n",
       "       [[1., 1., 1.],\n",
       "        [2., 2., 2.],\n",
       "        [3., 3., 3.],\n",
       "        [4., 4., 4.],\n",
       "        [5., 5., 5.]],\n",
       "\n",
       "       [[1., 1., 1.],\n",
       "        [2., 2., 2.],\n",
       "        [3., 3., 3.],\n",
       "        [4., 4., 4.],\n",
       "        [5., 5., 5.]],\n",
       "\n",
       "       [[1., 1., 1.],\n",
       "        [2., 2., 2.],\n",
       "        [3., 3., 3.],\n",
       "        [4., 4., 4.],\n",
       "        [5., 5., 5.]],\n",
       "\n",
       "       [[1., 1., 1.],\n",
       "        [2., 2., 2.],\n",
       "        [3., 3., 3.],\n",
       "        [4., 4., 4.],\n",
       "        [5., 5., 5.]],\n",
       "\n",
       "       [[1., 1., 1.],\n",
       "        [2., 2., 2.],\n",
       "        [3., 3., 3.],\n",
       "        [4., 4., 4.],\n",
       "        [5., 5., 5.]],\n",
       "\n",
       "       [[1., 1., 1.],\n",
       "        [2., 2., 2.],\n",
       "        [3., 3., 3.],\n",
       "        [4., 4., 4.],\n",
       "        [5., 5., 5.]],\n",
       "\n",
       "       [[1., 1., 1.],\n",
       "        [2., 2., 2.],\n",
       "        [3., 3., 3.],\n",
       "        [4., 4., 4.],\n",
       "        [5., 5., 5.]],\n",
       "\n",
       "       [[1., 1., 1.],\n",
       "        [2., 2., 2.],\n",
       "        [3., 3., 3.],\n",
       "        [4., 4., 4.],\n",
       "        [5., 5., 5.]],\n",
       "\n",
       "       [[1., 1., 1.],\n",
       "        [2., 2., 2.],\n",
       "        [3., 3., 3.],\n",
       "        [4., 4., 4.],\n",
       "        [5., 5., 5.]],\n",
       "\n",
       "       [[1., 1., 1.],\n",
       "        [2., 2., 2.],\n",
       "        [3., 3., 3.],\n",
       "        [4., 4., 4.],\n",
       "        [5., 5., 5.]],\n",
       "\n",
       "       [[1., 1., 1.],\n",
       "        [2., 2., 2.],\n",
       "        [3., 3., 3.],\n",
       "        [4., 4., 4.],\n",
       "        [5., 5., 5.]],\n",
       "\n",
       "       [[1., 1., 1.],\n",
       "        [2., 2., 2.],\n",
       "        [3., 3., 3.],\n",
       "        [4., 4., 4.],\n",
       "        [5., 5., 5.]],\n",
       "\n",
       "       [[1., 1., 1.],\n",
       "        [2., 2., 2.],\n",
       "        [3., 3., 3.],\n",
       "        [4., 4., 4.],\n",
       "        [5., 5., 5.]],\n",
       "\n",
       "       [[1., 1., 1.],\n",
       "        [2., 2., 2.],\n",
       "        [3., 3., 3.],\n",
       "        [4., 4., 4.],\n",
       "        [5., 5., 5.]],\n",
       "\n",
       "       [[1., 1., 1.],\n",
       "        [2., 2., 2.],\n",
       "        [3., 3., 3.],\n",
       "        [4., 4., 4.],\n",
       "        [5., 5., 5.]],\n",
       "\n",
       "       [[1., 1., 1.],\n",
       "        [2., 2., 2.],\n",
       "        [3., 3., 3.],\n",
       "        [4., 4., 4.],\n",
       "        [5., 5., 5.]],\n",
       "\n",
       "       [[1., 1., 1.],\n",
       "        [2., 2., 2.],\n",
       "        [3., 3., 3.],\n",
       "        [4., 4., 4.],\n",
       "        [5., 5., 5.]],\n",
       "\n",
       "       [[1., 1., 1.],\n",
       "        [2., 2., 2.],\n",
       "        [3., 3., 3.],\n",
       "        [4., 4., 4.],\n",
       "        [5., 5., 5.]],\n",
       "\n",
       "       [[1., 1., 1.],\n",
       "        [2., 2., 2.],\n",
       "        [3., 3., 3.],\n",
       "        [4., 4., 4.],\n",
       "        [5., 5., 5.]],\n",
       "\n",
       "       [[1., 1., 1.],\n",
       "        [2., 2., 2.],\n",
       "        [3., 3., 3.],\n",
       "        [4., 4., 4.],\n",
       "        [5., 5., 5.]],\n",
       "\n",
       "       [[1., 1., 1.],\n",
       "        [2., 2., 2.],\n",
       "        [3., 3., 3.],\n",
       "        [4., 4., 4.],\n",
       "        [5., 5., 5.]],\n",
       "\n",
       "       [[1., 1., 1.],\n",
       "        [2., 2., 2.],\n",
       "        [3., 3., 3.],\n",
       "        [4., 4., 4.],\n",
       "        [5., 5., 5.]],\n",
       "\n",
       "       [[1., 1., 1.],\n",
       "        [2., 2., 2.],\n",
       "        [3., 3., 3.],\n",
       "        [4., 4., 4.],\n",
       "        [5., 5., 5.]],\n",
       "\n",
       "       [[1., 1., 1.],\n",
       "        [2., 2., 2.],\n",
       "        [3., 3., 3.],\n",
       "        [4., 4., 4.],\n",
       "        [5., 5., 5.]],\n",
       "\n",
       "       [[1., 1., 1.],\n",
       "        [2., 2., 2.],\n",
       "        [3., 3., 3.],\n",
       "        [4., 4., 4.],\n",
       "        [5., 5., 5.]],\n",
       "\n",
       "       [[1., 1., 1.],\n",
       "        [2., 2., 2.],\n",
       "        [3., 3., 3.],\n",
       "        [4., 4., 4.],\n",
       "        [5., 5., 5.]],\n",
       "\n",
       "       [[1., 1., 1.],\n",
       "        [2., 2., 2.],\n",
       "        [3., 3., 3.],\n",
       "        [4., 4., 4.],\n",
       "        [5., 5., 5.]],\n",
       "\n",
       "       [[1., 1., 1.],\n",
       "        [2., 2., 2.],\n",
       "        [3., 3., 3.],\n",
       "        [4., 4., 4.],\n",
       "        [5., 5., 5.]],\n",
       "\n",
       "       [[1., 1., 1.],\n",
       "        [2., 2., 2.],\n",
       "        [3., 3., 3.],\n",
       "        [4., 4., 4.],\n",
       "        [5., 5., 5.]],\n",
       "\n",
       "       [[1., 1., 1.],\n",
       "        [2., 2., 2.],\n",
       "        [3., 3., 3.],\n",
       "        [4., 4., 4.],\n",
       "        [5., 5., 5.]],\n",
       "\n",
       "       [[1., 1., 1.],\n",
       "        [2., 2., 2.],\n",
       "        [3., 3., 3.],\n",
       "        [4., 4., 4.],\n",
       "        [5., 5., 5.]],\n",
       "\n",
       "       [[1., 1., 1.],\n",
       "        [2., 2., 2.],\n",
       "        [3., 3., 3.],\n",
       "        [4., 4., 4.],\n",
       "        [5., 5., 5.]],\n",
       "\n",
       "       [[1., 1., 1.],\n",
       "        [2., 2., 2.],\n",
       "        [3., 3., 3.],\n",
       "        [4., 4., 4.],\n",
       "        [5., 5., 5.]],\n",
       "\n",
       "       [[1., 1., 1.],\n",
       "        [2., 2., 2.],\n",
       "        [3., 3., 3.],\n",
       "        [4., 4., 4.],\n",
       "        [5., 5., 5.]],\n",
       "\n",
       "       [[1., 1., 1.],\n",
       "        [2., 2., 2.],\n",
       "        [3., 3., 3.],\n",
       "        [4., 4., 4.],\n",
       "        [5., 5., 5.]],\n",
       "\n",
       "       [[1., 1., 1.],\n",
       "        [2., 2., 2.],\n",
       "        [3., 3., 3.],\n",
       "        [4., 4., 4.],\n",
       "        [5., 5., 5.]],\n",
       "\n",
       "       [[1., 1., 1.],\n",
       "        [2., 2., 2.],\n",
       "        [3., 3., 3.],\n",
       "        [4., 4., 4.],\n",
       "        [5., 5., 5.]],\n",
       "\n",
       "       [[1., 1., 1.],\n",
       "        [2., 2., 2.],\n",
       "        [3., 3., 3.],\n",
       "        [4., 4., 4.],\n",
       "        [5., 5., 5.]],\n",
       "\n",
       "       [[1., 1., 1.],\n",
       "        [2., 2., 2.],\n",
       "        [3., 3., 3.],\n",
       "        [4., 4., 4.],\n",
       "        [5., 5., 5.]],\n",
       "\n",
       "       [[1., 1., 1.],\n",
       "        [2., 2., 2.],\n",
       "        [3., 3., 3.],\n",
       "        [4., 4., 4.],\n",
       "        [5., 5., 5.]]])"
      ]
     },
     "execution_count": 166,
     "metadata": {},
     "output_type": "execute_result"
    }
   ],
   "source": [
    "points"
   ]
  },
  {
   "cell_type": "code",
   "execution_count": 78,
   "metadata": {},
   "outputs": [],
   "source": [
    "@njit\n",
    "def ensure_bounds(pt):\n",
    "    pos,ang,burn=pt\n",
    "    lb, ub = ([0, -pi, 3], [2 * pi, 0, 3.8])\n",
    "    return [np.mod(pos,ub[0]-lb[0]),np.mod(ang,lb[1]),max(lb[2],min(ub[2],burn))]"
   ]
  },
  {
   "cell_type": "code",
   "execution_count": 79,
   "metadata": {
    "scrolled": true
   },
   "outputs": [
    {
     "name": "stdout",
     "output_type": "stream",
     "text": [
      "The slowest run took 4.76 times longer than the fastest. This could mean that an intermediate result is being cached.\n",
      "19.7 µs ± 15.7 µs per loop (mean ± std. dev. of 7 runs, 1 loop each)\n"
     ]
    }
   ],
   "source": [
    "%timeit ensure_bounds([9,9,9])"
   ]
  }
 ],
 "metadata": {
  "kernelspec": {
   "display_name": "Python 3",
   "language": "python",
   "name": "python3"
  },
  "language_info": {
   "codemirror_mode": {
    "name": "ipython",
    "version": 3
   },
   "file_extension": ".py",
   "mimetype": "text/x-python",
   "name": "python",
   "nbconvert_exporter": "python",
   "pygments_lexer": "ipython3",
   "version": "3.6.4"
  }
 },
 "nbformat": 4,
 "nbformat_minor": 2
}
