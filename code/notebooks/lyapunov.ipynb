{
 "cells": [
  {
   "cell_type": "code",
   "execution_count": null,
   "metadata": {},
   "outputs": [],
   "source": [
    "import matplotlib.pyplot as plt\n",
    "import matplotlib.gridspec as gridspec\n",
    "from IPython import display\n",
    "import numpy as np\n",
    "%matplotlib inline\n",
    "import pygmo as pg\n",
    "from pygmo import algorithm\n",
    "import os\n",
    "import sys\n",
    "import json\n",
    "from orbsim.r3b_2d import UNIT_TIME\n",
    "from orbsim.r3b_2d.analyticals import *\n",
    "from orbsim.r3b_2d.simulators import launch_sim\n",
    "from orbsim.plotting import orbitplot2d, orbitplot_non_inertial\n",
    "import time\n",
    "from random import shuffle\n",
    "from numba import jit\n",
    "import math\n",
    "from math import pi\n",
    "\n",
    "pi8=pi/8\n",
    "pi4=pi/4\n",
    "pi2=pi/2"
   ]
  },
  {
   "cell_type": "code",
   "execution_count": null,
   "metadata": {
    "scrolled": false
   },
   "outputs": [],
   "source": [
    "psis=[]\n",
    "paths=[]\n",
    "title=\"long_leto_lyapunov\"\n",
    "N=5\n",
    "for i in range(N):\n",
    "    psi = [3.794182930145708, 0.023901745288554, 3.090702702702703+i/1e3]\n",
    "    path = launch_sim(psi,max_iter=1e7, duration=200/UNIT_TIME)\n",
    "    psis.append(psi)\n",
    "    paths.append(path)\n"
   ]
  },
  {
   "cell_type": "code",
   "execution_count": null,
   "metadata": {},
   "outputs": [],
   "source": [
    "for i in range(len(paths)):\n",
    "    orbitplot2d(paths[i],psis[i],title=f\"{title}_{i}\")\n",
    "    orbitplot_non_inertial(paths[i],psis[i],title=f\"{title}_{i}\")"
   ]
  },
  {
   "cell_type": "code",
   "execution_count": null,
   "metadata": {},
   "outputs": [],
   "source": [
    "lyaps=[]\n",
    "for a in range(N):\n",
    "    for b in range(N):\n",
    "        print(f\"comparing {a} and {b}\")\n",
    "        if a==b or a>b:\n",
    "            continue\n",
    "        lyap=[]\n",
    "        _a=np.array(paths[a][1]).T\n",
    "        _b=np.array(paths[b][1]).T\n",
    "        xas=_a[0]\n",
    "        yas=_a[1]\n",
    "        xbs=_b[0]\n",
    "        ybs=_b[1]\n",
    "        hs=(_a[4],_b[4])\n",
    "        print(f\"length of the trajectory coordinate arrays: {a}: {len(xas)}, {b}: {len(xbs)}\")\n",
    "        \n",
    "        ts=[None,None]\n",
    "        for l in range(len(hs)):\n",
    "            idxs=[]\n",
    "            tally=0\n",
    "            for i in range(len(hs[l])): # each time step h, check whether the little tally has reached our threshold.\n",
    "                h=hs[l][i]              # if it has, take that index as a time step\n",
    "                tally+=h\n",
    "                if tally>=1.5e-5:\n",
    "                    idxs.append(i)\n",
    "                    tally=0\n",
    "            ts[l] = idxs\n",
    "            \n",
    "        _,min_ts = min([(x[-1], x) for x in ts])\n",
    "        print(f\"time steps standardized: comparing at {len(min_ts)} points on the trajectory. Last point will be at {max(min_ts)}\")\n",
    "        for i in range(len(min_ts)):\n",
    "            idx=min_ts[i]\n",
    "            lyap.append(sqrt((xas[idx]-xbs[idx])**2+(yas[idx]-ybs[idx])**2))\n",
    "        lyaps.append(lyap)\n",
    "print(len(lyaps))"
   ]
  },
  {
   "cell_type": "code",
   "execution_count": null,
   "metadata": {},
   "outputs": [],
   "source": [
    "plt.plot(range(len(lyaps[5])),lyaps[5])"
   ]
  },
  {
   "cell_type": "code",
   "execution_count": null,
   "metadata": {},
   "outputs": [],
   "source": [
    "for i in range(len(lyaps)):\n",
    "    lyap=lyaps[i][1:]\n",
    "    loglyap=[np.log(x) for x in lyap]\n",
    "    plt.plot(range(len(loglyap)),loglyap)"
   ]
  },
  {
   "cell_type": "code",
   "execution_count": null,
   "metadata": {},
   "outputs": [],
   "source": [
    "lyap=lyaps[0][1:]\n",
    "loglyap=[np.log(x) for x in lyap]\n",
    "plt.plot(range(len(loglyap)),loglyap)\n",
    "plt.plot(range(len(line)),line)"
   ]
  },
  {
   "cell_type": "code",
   "execution_count": null,
   "metadata": {},
   "outputs": [],
   "source": [
    "ts=[[1,1],[2]]\n",
    "_,min_ts = max([(len(x), x) for x in ts])\n",
    "min_ts"
   ]
  },
  {
   "cell_type": "code",
   "execution_count": null,
   "metadata": {},
   "outputs": [],
   "source": [
    "line"
   ]
  },
  {
   "cell_type": "code",
   "execution_count": null,
   "metadata": {},
   "outputs": [],
   "source": [
    "from scipy import stats\n",
    "slope, intercept, r_value, p_value, std_err = stats.linregress(range(len(loglyap)),loglyap)"
   ]
  },
  {
   "cell_type": "code",
   "execution_count": null,
   "metadata": {},
   "outputs": [],
   "source": [
    "line=[slope*range(len(loglyap))+intercept]"
   ]
  },
  {
   "cell_type": "code",
   "execution_count": null,
   "metadata": {},
   "outputs": [],
   "source": []
  },
  {
   "cell_type": "code",
   "execution_count": null,
   "metadata": {},
   "outputs": [],
   "source": []
  }
 ],
 "metadata": {
  "kernelspec": {
   "display_name": "Python 3",
   "language": "python",
   "name": "python3"
  }
 },
 "nbformat": 4,
 "nbformat_minor": 2
}
