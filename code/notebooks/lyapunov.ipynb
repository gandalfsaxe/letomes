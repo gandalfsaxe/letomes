{
 "cells": [
  {
   "cell_type": "code",
   "execution_count": 1,
   "metadata": {},
   "outputs": [],
   "source": [
    "import matplotlib.pyplot as plt\n",
    "import matplotlib.gridspec as gridspec\n",
    "from IPython import display\n",
    "import numpy as np\n",
    "%matplotlib inline\n",
    "%reload_ext autoreload\n",
    "import pygmo as pg\n",
    "from pygmo import algorithm\n",
    "import os\n",
    "import sys\n",
    "import json\n",
    "from orbsim.r3b_2d import UNIT_TIME\n",
    "from orbsim.r3b_2d.analyticals import *\n",
    "from orbsim.r3b_2d.simulators import launch_sim\n",
    "from orbsim.plotting import orbitplot2d, orbitplot_non_inertial\n",
    "import time\n",
    "from random import shuffle\n",
    "from numba import jit\n",
    "import math\n",
    "from math import pi\n",
    "%aimport orbsim.r3b_2d.simulators\n",
    "%aimport orbsim.plotting\n",
    "%autoreload\n",
    " \n",
    "\n",
    "pi8=pi/8\n",
    "pi4=pi/4\n",
    "pi2=pi/2"
   ]
  },
  {
   "cell_type": "code",
   "execution_count": 2,
   "metadata": {
    "scrolled": false
   },
   "outputs": [],
   "source": [
    "psis=[]\n",
    "paths=[]\n",
    "title=\"long_leto_lyapunov\"\n",
    "N=5\n",
    "for i in range(N):\n",
    "    psi = [3.794182930145708, 0.023901745288554, 3.090702702702703+i/1e3]\n",
    "    path = launch_sim(psi,max_iter=1e7, duration=100/UNIT_TIME)\n",
    "    psis.append(psi)\n",
    "    paths.append(path)\n"
   ]
  },
  {
   "cell_type": "code",
   "execution_count": 212,
   "metadata": {},
   "outputs": [
    {
     "ename": "SyntaxError",
     "evalue": "invalid syntax (<ipython-input-212-07a7d03168a6>, line 2)",
     "output_type": "error",
     "traceback": [
      "\u001b[1;36m  File \u001b[1;32m\"<ipython-input-212-07a7d03168a6>\"\u001b[1;36m, line \u001b[1;32m2\u001b[0m\n\u001b[1;33m    orbitplot2d(paths[i],psis[i],filepath=\"./lyapunov_figs/trajectories\",title=\"\"{title}_{i}\")\u001b[0m\n\u001b[1;37m                                                                                 ^\u001b[0m\n\u001b[1;31mSyntaxError\u001b[0m\u001b[1;31m:\u001b[0m invalid syntax\n"
     ]
    }
   ],
   "source": [
    "for i in range(len(paths)):\n",
    "    orbitplot2d(paths[i],psis[i],filepath=\"./lyapunov_figs/trajectories\",title=\"{title}_{i}\")\n",
    "    orbitplot_non_inertial(paths[i],psis[i],filepath=\"./lyapunov_figs/trajectories\",title=\"{title}_{i}\")"
   ]
  },
  {
   "cell_type": "code",
   "execution_count": 4,
   "metadata": {},
   "outputs": [
    {
     "name": "stdout",
     "output_type": "stream",
     "text": [
      "comparing 0 and 0\n",
      "comparing 0 and 1\n",
      "length of the trajectory coordinate arrays: 0: 3263765, 1: 3004458\n",
      "time steps standardized: comparing at 904931 points on the trajectory. Last point will be at 3004457\n",
      "comparing 0 and 2\n",
      "length of the trajectory coordinate arrays: 0: 3263765, 2: 3002247\n",
      "time steps standardized: comparing at 893458 points on the trajectory. Last point will be at 3002246\n",
      "comparing 0 and 3\n",
      "length of the trajectory coordinate arrays: 0: 3263765, 3: 3043766\n",
      "time steps standardized: comparing at 888600 points on the trajectory. Last point will be at 3043765\n",
      "comparing 0 and 4\n",
      "length of the trajectory coordinate arrays: 0: 3263765, 4: 3105159\n",
      "time steps standardized: comparing at 884578 points on the trajectory. Last point will be at 3105158\n",
      "comparing 1 and 0\n",
      "comparing 1 and 1\n",
      "comparing 1 and 2\n",
      "length of the trajectory coordinate arrays: 1: 3004458, 2: 3002247\n",
      "time steps standardized: comparing at 893458 points on the trajectory. Last point will be at 3002246\n",
      "comparing 1 and 3\n",
      "length of the trajectory coordinate arrays: 1: 3004458, 3: 3043766\n",
      "time steps standardized: comparing at 904931 points on the trajectory. Last point will be at 3004457\n",
      "comparing 1 and 4\n",
      "length of the trajectory coordinate arrays: 1: 3004458, 4: 3105159\n",
      "time steps standardized: comparing at 904931 points on the trajectory. Last point will be at 3004457\n",
      "comparing 2 and 0\n",
      "comparing 2 and 1\n",
      "comparing 2 and 2\n",
      "comparing 2 and 3\n",
      "length of the trajectory coordinate arrays: 2: 3002247, 3: 3043766\n",
      "time steps standardized: comparing at 893458 points on the trajectory. Last point will be at 3002246\n",
      "comparing 2 and 4\n",
      "length of the trajectory coordinate arrays: 2: 3002247, 4: 3105159\n",
      "time steps standardized: comparing at 893458 points on the trajectory. Last point will be at 3002246\n",
      "comparing 3 and 0\n",
      "comparing 3 and 1\n",
      "comparing 3 and 2\n",
      "comparing 3 and 3\n",
      "comparing 3 and 4\n",
      "length of the trajectory coordinate arrays: 3: 3043766, 4: 3105159\n",
      "time steps standardized: comparing at 888600 points on the trajectory. Last point will be at 3043765\n",
      "comparing 4 and 0\n",
      "comparing 4 and 1\n",
      "comparing 4 and 2\n",
      "comparing 4 and 3\n",
      "comparing 4 and 4\n",
      "10\n"
     ]
    }
   ],
   "source": [
    "lyaps=[]\n",
    "for a in range(N):\n",
    "    for b in range(N):\n",
    "        print(f\"comparing {a} and {b}\")\n",
    "        if a>=b:\n",
    "            continue\n",
    "        lyap=[]\n",
    "        _a=np.array(paths[a][1]).T\n",
    "        _b=np.array(paths[b][1]).T\n",
    "        xas=_a[0]\n",
    "        yas=_a[1]\n",
    "        xbs=_b[0]\n",
    "        ybs=_b[1]\n",
    "        hs=(_a[4],_b[4])\n",
    "        print(f\"length of the trajectory coordinate arrays: {a}: {len(xas)}, {b}: {len(xbs)}\")\n",
    "        \n",
    "        ts=[None,None]\n",
    "        for l in range(len(hs)):\n",
    "            idxs=[]\n",
    "            tally=0\n",
    "            for i in range(len(hs[l])): # each time step h, check whether the little tally has reached our threshold.\n",
    "                h=hs[l][i]              # if it has, take that index as a time step\n",
    "                tally+=h\n",
    "                if tally>=1.5e-5:\n",
    "                    idxs.append(i)\n",
    "                    tally=0\n",
    "            ts[l] = idxs\n",
    "            \n",
    "        _,min_ts = min([(x[-1], x) for x in ts])\n",
    "        print(f\"time steps standardized: comparing at {len(min_ts)} points on the trajectory. Last point will be at {max(min_ts)}\")\n",
    "        for i in range(len(min_ts)):\n",
    "            idx=min_ts[i]\n",
    "            lyap.append(sqrt((xas[idx]-xbs[idx])**2+(yas[idx]-ybs[idx])**2))\n",
    "        lyaps.append(lyap)\n",
    "print(len(lyaps))"
   ]
  },
  {
   "cell_type": "code",
   "execution_count": 5,
   "metadata": {},
   "outputs": [],
   "source": [
    "loglyaps=[]\n",
    "for i in range(len(lyaps)):\n",
    "    lyap=lyaps[i][1:]\n",
    "    loglyap=[np.log(x) for x in lyap]\n",
    "    loglyaps.append(loglyap)"
   ]
  },
  {
   "cell_type": "code",
   "execution_count": 6,
   "metadata": {},
   "outputs": [],
   "source": [
    "def find_segments(lyap):\n",
    "    segments=[]\n",
    "    prev_l = -1e8\n",
    "    rising = True\n",
    "    segment=[0]\n",
    "    for i,l in enumerate(lyap):\n",
    "        if rising:\n",
    "            if l<prev_l:\n",
    "                rising = False\n",
    "                segment.append(i)\n",
    "        else:\n",
    "            if l>prev_l:\n",
    "                rising = True\n",
    "                segments.append(segment)\n",
    "                segment=[i]\n",
    "        prev_l = l\n",
    "    if len(segment) == 1:\n",
    "        segment.append(len(lyap))\n",
    "    segments.append(segment)\n",
    "    return segments"
   ]
  },
  {
   "cell_type": "code",
   "execution_count": 16,
   "metadata": {},
   "outputs": [],
   "source": [
    "from scipy import stats\n",
    "def compute_slope(lyap, filepath=\".\", title=\"derp\"):\n",
    "    segments=find_segments(lyap)\n",
    "    plt.plot(range(len(lyap)),lyap,color='grey',alpha=0.5)\n",
    "    slopes=[]\n",
    "    for lb, ub in [[int(x),int(y)] for [x,y] in segments]:\n",
    "        if ub-lb < 100:\n",
    "            continue\n",
    "        if ub>len(lyap):\n",
    "            break\n",
    "        slope, intercept, r_value, p_value, std_err = stats.linregress(range(lb,ub),lyap[lb:ub])\n",
    "        slopes.append(slope)\n",
    "        #print(slope, intercept)\n",
    "        line=slope*range(lb,ub)+intercept\n",
    "        plt.plot([lb,ub],[line[0],line[-1]],color='darkred')\n",
    "        plt.plot(range(lb,ub),lyap[lb:ub],color='teal')\n",
    "    mean_slope = np.mean(slopes)\n",
    "    plt.suptitle(f\"mean slope = {mean_slope}\")\n",
    "    plt.savefig(f\"{filepath}/{title}\")\n",
    "    plt.clf()\n",
    "    return mean_slope"
   ]
  },
  {
   "cell_type": "code",
   "execution_count": null,
   "metadata": {},
   "outputs": [],
   "source": [
    "slopes=[]\n",
    "for i, loglyap in enumerate(loglyaps):\n",
    "    slopes.append(compute_slope(loglyap,filepath=\"lyapunov_figs/slopes\",title=f\"{title}_{i}\"))\n",
    "print(f\"mean slope = {np.mean(slopes)}\")\n",
    "    "
   ]
  },
  {
   "cell_type": "code",
   "execution_count": null,
   "metadata": {},
   "outputs": [],
   "source": []
  },
  {
   "cell_type": "code",
   "execution_count": 150,
   "metadata": {},
   "outputs": [
    {
     "data": {
      "text/plain": [
       "[<matplotlib.lines.Line2D at 0x246df97bb38>]"
      ]
     },
     "execution_count": 150,
     "metadata": {},
     "output_type": "execute_result"
    },
    {
     "data": {
      "image/png": "[encoded data removed]",
      "text/plain": [
       "<matplotlib.figure.Figure at 0x24660d51e48>"
      ]
     },
     "metadata": {},
     "output_type": "display_data"
    }
   ],
   "source": [
    "lyap=lyaps[2][1:]\n",
    "loglyap=[np.log(x) for x in lyap]\n",
    "plt.plot(range(len(loglyap)),loglyap)"
   ]
  },
  {
   "cell_type": "code",
   "execution_count": 100,
   "metadata": {},
   "outputs": [
    {
     "name": "stdout",
     "output_type": "stream",
     "text": [
      "3.040160021068095e-06 -4.150509459758794\n"
     ]
    }
   ],
   "source": [
    "slope, intercept, r_value, p_value, std_err = stats.linregress(range(lb,ub),loglyap[lb:ub])\n",
    "print(slope, intercept)"
   ]
  },
  {
   "cell_type": "code",
   "execution_count": 75,
   "metadata": {},
   "outputs": [],
   "source": [
    "line=slope*range(lb,ub)+intercept"
   ]
  },
  {
   "cell_type": "code",
   "execution_count": null,
   "metadata": {},
   "outputs": [],
   "source": []
  },
  {
   "cell_type": "code",
   "execution_count": null,
   "metadata": {},
   "outputs": [],
   "source": []
  }
 ],
 "metadata": {
  "kernelspec": {
   "display_name": "Python 3",
   "language": "python",
   "name": "python3"
  },
  "language_info": {
   "codemirror_mode": {
    "name": "ipython",
    "version": 3
   },
   "file_extension": ".py",
   "mimetype": "text/x-python",
   "name": "python",
   "nbconvert_exporter": "python",
   "pygments_lexer": "ipython3",
   "version": "3.6.4"
  }
 },
 "nbformat": 4,
 "nbformat_minor": 2
}
