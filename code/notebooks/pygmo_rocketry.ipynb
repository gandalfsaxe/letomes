{
 "cells": [
  {
   "cell_type": "code",
   "execution_count": 1,
   "metadata": {},
   "outputs": [],
   "source": [
    "import matplotlib.pyplot as plt\n",
    "import matplotlib.gridspec as gridspec\n",
    "from IPython import display\n",
    "import numpy as np\n",
    "%matplotlib inline\n",
    "import pygmo as pg\n",
    "from pygmo import algorithm\n",
    "import os\n",
    "import sys\n",
    "import json\n",
    "from orbsim.r3b_2d import UNIT_TIME\n",
    "from orbsim.r3b_2d.analyticals import *\n",
    "from orbsim.r3b_2d.simulators import launch_sim\n",
    "from orbsim.plotting import orbitplot2d, orbitplot_non_inertial\n",
    "import time\n",
    "from random import shuffle\n",
    "from numba import jit\n",
    "import math\n",
    "from math import pi\n",
    "\n",
    "pi8=pi/8\n",
    "pi4=pi/4\n",
    "pi2=pi/2"
   ]
  },
  {
   "cell_type": "code",
   "execution_count": 2,
   "metadata": {},
   "outputs": [],
   "source": [
    "class saddle_space:\n",
    "    def __init__(self):\n",
    "        self.dim = 3\n",
    "    \n",
    "    @jit\n",
    "    def fitness(self,psi):\n",
    "        res,_ = launch_sim(psi, duration= 3/UNIT_TIME, max_iter=1e7)\n",
    "        return [-res]\n",
    "    \n",
    "    @jit\n",
    "    def get_bounds(self):\n",
    "        return ([-pi,-pi8,2],[pi2,pi4,4])\n",
    "    \n",
    "    def get_name(self):\n",
    "        return f\"saddlespace\"\n",
    "    \n",
    "    def plot(self, w, idx):\n",
    "        pass"
   ]
  },
  {
   "cell_type": "code",
   "execution_count": 3,
   "metadata": {},
   "outputs": [],
   "source": [
    "class salimans_nes:\n",
    "    def __init__(self, iter=10):\n",
    "        super(salimans_nes, self).__init__()\n",
    "\n",
    "        self.iter = iter  # number of steps towards estimated gradient\n",
    "\n",
    "    def evolve(self, pop):\n",
    "        if len(pop) == 0:\n",
    "            return pop\n",
    "        sigma = 0.00001\n",
    "        alpha = 0.00003  # learningrate\n",
    "\n",
    "        # for each iteration, jitter around starting points, and move in the\n",
    "        # best direction (weighted average jitter coordinates according to\n",
    "        # fitness score)\n",
    "        for i in range(self.iter):\n",
    "\n",
    "            # get the population\n",
    "            wl = pop.get_x()\n",
    "\n",
    "            # do the jittering and selection\n",
    "            j = 0\n",
    "            for w in wl:\n",
    "                print(f\"mutating {str(w)}\")\n",
    "                noise = np.random.randn(10, 3)\n",
    "                wp = [[x, y, z] for [x, y, z] in np.expand_dims(w, 0) + sigma * noise]\n",
    "                print(np.expand_dims(w, 0) + sigma * noise)\n",
    "\n",
    "                R = np.array([-launch_sim(wi,max_iter=1e7)[0] for wi in wp])\n",
    "                R -= R.mean()\n",
    "                R /= R.std()\n",
    "                g = np.dot(R, noise)\n",
    "                print(f\"R = {R}, g = {g}\")\n",
    "                u = alpha * g\n",
    "                print(f\"new individual = {str(u)}\")\n",
    "                w += u  # mutate the population\n",
    "\n",
    "                pop.set_x(j, w)  # make the move previously selected\n",
    "                j += 1\n",
    "        return pop\n",
    "\n",
    "    def get_name(self):\n",
    "        return f\"Oisin's big-dick omegafantastic algorithm\""
   ]
  },
  {
   "cell_type": "code",
   "execution_count": 7,
   "metadata": {
    "scrolled": false
   },
   "outputs": [],
   "source": [
    "def pygmo_es():\n",
    "    uda = salimans_nes(iter=1)  # user defined algorithm\n",
    "    udp = saddle_space()  # user defined problem\n",
    "    prob = pg.problem(udp) # Beautiful white snow\n",
    "\n",
    "#     archi = pg.archipelago(algo=uda, prob=udp, n=4, pop_size=2)\n",
    "#     archi.evolve()\n",
    "    \n",
    "    pop = pg.population(prob=udp, size=1)\n",
    "    pop.set_x(0,[-2.277654673852600, 0.047996554429844, 3.810000000000000])\n",
    "    uda.evolve(pop)\n",
    "#     udi=pg.island(algo=uda, pop=pop)\n",
    "#     udi.evolve()\n",
    "#     sol = udi.get_population()\n",
    "#     sols = archi.get_champions_f()\n",
    "#     idx = sols.index(min(sols))\n",
    "    sol = (pop.champion_f, pop.champion_x)\n",
    "    print(\"Done! \")\n",
    "    print(sol)\n",
    "    return sol"
   ]
  },
  {
   "cell_type": "code",
   "execution_count": 9,
   "metadata": {
    "scrolled": false
   },
   "outputs": [
    {
     "name": "stdout",
     "output_type": "stream",
     "text": [
      "score =  200.6075831334651\n",
      "score =  1242.440572075558\n",
      "mutating [-2.27765467  0.04799655  3.81      ]\n",
      "[[-2.27764732  0.04797799  3.81000223]\n",
      " [-2.27764823  0.04801288  3.81000573]\n",
      " [-2.27766625  0.0479997   3.80999051]\n",
      " [-2.27763726  0.04800059  3.81000397]\n",
      " [-2.27764949  0.04799442  3.80999962]\n",
      " [-2.27766003  0.0479951   3.81001277]\n",
      " [-2.2776614   0.04800742  3.81000213]\n",
      " [-2.27766387  0.04799795  3.81000984]\n",
      " [-2.27766241  0.04800986  3.80998604]\n",
      " [-2.27764402  0.0479963   3.81000535]]\n",
      "score =  1241.426863553564\n",
      "score =  1249.0295950049142\n",
      "score =  1240.112061800678\n",
      "score =  1248.9693655696337\n",
      "score =  1245.314350095706\n",
      "score =  1238.496304595524\n",
      "score =  1242.6261830068502\n",
      "score =  1238.684312354977\n",
      "score =  1244.0059983614724\n",
      "score =  1245.3262360570532\n",
      "R = [ 0.54276737 -1.54950608  0.90460111 -1.53293093 -0.52706983  1.34925787\n",
      "  0.21271438  1.29751809 -0.16701113 -0.53034084], g = [-7.08442633 -3.74958177  0.77928538]\n",
      "new individual = [-2.12532790e-04 -1.12487453e-04  2.33785613e-05]\n",
      "score =  100.99653693640248\n",
      "Done! \n",
      "(array([-1242.44057208]), array([-2.27765467,  0.04799655,  3.81      ]))\n",
      "score =  1242.440572075558\n"
     ]
    },
    {
     "data": {
      "image/png": "[encoded data removed]",
      "text/plain": [
       "<matplotlib.figure.Figure at 0x1e7c439b780>"
      ]
     },
     "metadata": {},
     "output_type": "display_data"
    },
    {
     "data": {
      "image/png": "[encoded data removed]",
      "text/plain": [
       "<matplotlib.figure.Figure at 0x1e7c5700a20>"
      ]
     },
     "metadata": {},
     "output_type": "display_data"
    }
   ],
   "source": [
    "if __name__ == '__main__':\n",
    "    Dv, psi = pygmo_es()\n",
    "    path = launch_sim(psi)\n",
    "    orbitplot2d(path, psi)\n",
    "    orbitplot_non_inertial(path, psi)\n",
    "    "
   ]
  },
  {
   "cell_type": "code",
   "execution_count": null,
   "metadata": {},
   "outputs": [],
   "source": [
    "saddle_space().get_bounds()"
   ]
  },
  {
   "cell_type": "code",
   "execution_count": null,
   "metadata": {},
   "outputs": [],
   "source": []
  },
  {
   "cell_type": "code",
   "execution_count": null,
   "metadata": {},
   "outputs": [],
   "source": []
  }
 ],
 "metadata": {
  "kernelspec": {
   "display_name": "Python 3",
   "language": "python",
   "name": "python3"
  },
  "language_info": {
   "codemirror_mode": {
    "name": "ipython",
    "version": 3
   },
   "file_extension": ".py",
   "mimetype": "text/x-python",
   "name": "python",
   "nbconvert_exporter": "python",
   "pygments_lexer": "ipython3",
   "version": "3.6.4"
  }
 },
 "nbformat": 4,
 "nbformat_minor": 2
}
