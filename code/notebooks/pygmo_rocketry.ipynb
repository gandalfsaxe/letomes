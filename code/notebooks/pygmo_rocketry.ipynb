{
 "cells": [
  {
   "cell_type": "code",
   "execution_count": 1,
   "metadata": {},
   "outputs": [],
   "source": [
    "import matplotlib.pyplot as plt\n",
    "import matplotlib.gridspec as gridspec\n",
    "from IPython import display\n",
    "import numpy as np\n",
    "plt.rcParams['image.cmap'] = 'gray'\n",
    "plt.rcParams['image.interpolation'] = 'nearest'\n",
    "%matplotlib inline\n",
    "import pygmo as pg\n",
    "from pygmo import algorithm\n",
    "import os\n",
    "import sys\n",
    "import json\n",
    "from orbsim.constants import *\n",
    "from orbsim.analyticals import *\n",
    "from orbsim.simulators import launch_sim\n",
    "import time\n",
    "from random import shuffle"
   ]
  },
  {
   "cell_type": "code",
   "execution_count": 2,
   "metadata": {},
   "outputs": [],
   "source": [
    "import inspect\n",
    "import math"
   ]
  },
  {
   "cell_type": "code",
   "execution_count": 3,
   "metadata": {},
   "outputs": [],
   "source": [
    "class saddle_space:\n",
    "    def __init__(self):\n",
    "        self.dim = 3\n",
    "    \n",
    "    def fitness(self,psi):\n",
    "        res,_ = launch_sim(psi,max_iter=1e5)\n",
    "        return [res]\n",
    "    \n",
    "    def get_bounds(self):\n",
    "        return ([-pi,-pi,-4],[pi,pi,4])\n",
    "    \n",
    "    def get_name(self):\n",
    "        return f\"saddlespace\"\n",
    "    \n",
    "    def plot(self, w, idx):\n",
    "        pass"
   ]
  },
  {
   "cell_type": "code",
   "execution_count": 4,
   "metadata": {},
   "outputs": [],
   "source": [
    "class salimans_nes:\n",
    "    def __init__(self,iter=12):\n",
    "        super(salimans_nes,self).__init__()\n",
    "        self.prevx,self.prevy = [],[]\n",
    "        \n",
    "        self.iter=iter # number of steps towards estimated gradient\n",
    "    \n",
    "    def evolve(self,pop):\n",
    "        if len(pop) == 0:\n",
    "            return pop\n",
    "        sigma = 3\n",
    "        alpha = 0.03 # learningrate\n",
    "        \n",
    "        #for each iteration, jitter around starting points, and move in the\n",
    "        #best direction (weighted average jitter coordinates according to \n",
    "        #fitness score)\n",
    "        for i in range(self.iter):\n",
    "            \n",
    "            #get the population    \n",
    "            wl = pop.get_x()\n",
    "            \n",
    "            #do the jittering and selection\n",
    "            j=0\n",
    "            for w in wl:\n",
    "                print(f\"mutating {str(w)}\")\n",
    "                noise = np.random.randn(5,3)\n",
    "                wp = [[x,y,z] for [x,y,z] in np.expand_dims(w, 0) + sigma*noise]\n",
    "                \n",
    "                R = np.array([prob.fitness(wi)[0] for wi in wp])\n",
    "                R -= R.mean()\n",
    "                R /= R.std()\n",
    "                g = np.dot(R, noise)\n",
    "                u = alpha * g\n",
    "                w += u # mutate the population\n",
    "                \n",
    "                pop.set_x(j,w)# make the move previously selected\n",
    "                j+=1\n",
    "        return pop\n",
    "\n",
    "    def get_name(self):\n",
    "        return f\"Oisin's big-dick omegafantastic algorithm\""
   ]
  },
  {
   "cell_type": "code",
   "execution_count": 5,
   "metadata": {
    "scrolled": false
   },
   "outputs": [],
   "source": [
    "def pygmo_es():\n",
    "    uda = salimans_nes(iter=25)  # user defined algorithm\n",
    "    udp = saddle_space()  # user defined problem\n",
    "    prob = pg.problem(udp) # Beautiful white snow\n",
    "\n",
    "    archi = pg.archipelago(algo=uda, prob=udp, n=4, pop_size=2)\n",
    "    archi.evolve()\n",
    "    sols = archi.get_champions_f()\n",
    "    idx = sols.index(min(sols))\n",
    "    print(\"Done!! Solutions found are: \")\n",
    "    print(archi.get_champions_f())\n",
    "    #udp.plot(archi.get_champions_x(),idx)\n",
    "\n",
    "    #pop = pg.population(prob,10,3)\n",
    "    #algo.evolve(pop)"
   ]
  },
  {
   "cell_type": "code",
   "execution_count": 6,
   "metadata": {
    "scrolled": true
   },
   "outputs": [
    {
     "name": "stdout",
     "output_type": "stream",
     "text": [
      "Done!! Solutions found are: \n",
      "[array([9691.62311475]), array([9671.36990078]), array([9713.38169881]), array([9343.2101773])]\n"
     ]
    }
   ],
   "source": [
    "if __name__ == '__main__':\n",
    "    pygmo_es()"
   ]
  },
  {
   "cell_type": "code",
   "execution_count": null,
   "metadata": {},
   "outputs": [],
   "source": []
  },
  {
   "cell_type": "code",
   "execution_count": null,
   "metadata": {},
   "outputs": [],
   "source": []
  }
 ],
 "metadata": {
  "kernelspec": {
   "display_name": "Python 3",
   "language": "python",
   "name": "python3"
  },
  "language_info": {
   "codemirror_mode": {
    "name": "ipython",
    "version": 3
   },
   "file_extension": ".py",
   "mimetype": "text/x-python",
   "name": "python",
   "nbconvert_exporter": "python",
   "pygments_lexer": "ipython3",
   "version": "3.6.4"
  }
 },
 "nbformat": 4,
 "nbformat_minor": 2
}
