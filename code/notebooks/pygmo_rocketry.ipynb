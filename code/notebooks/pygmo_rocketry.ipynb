{
 "cells": [
  {
   "cell_type": "code",
   "execution_count": 3,
   "metadata": {},
   "outputs": [
    {
     "name": "stdout",
     "output_type": "stream",
     "text": [
      "6\n"
     ]
    }
   ],
   "source": [
    "import matplotlib.pyplot as plt\n",
    "import matplotlib.gridspec as gridspec\n",
    "from IPython import display\n",
    "import numpy as np\n",
    "# %matplotlib inline\n",
    "import pygmo as pg\n",
    "from pygmo import algorithm\n",
    "import os\n",
    "import sys\n",
    "import json\n",
    "from orbsim.r3b_2d import UNIT_TIME\n",
    "from orbsim.r3b_2d.analyticals import *\n",
    "from orbsim.r3b_2d.simulators import launch_sim\n",
    "from orbsim.plotting import orbitplot2d, orbitplot_non_inertial\n",
    "import time\n",
    "from random import shuffle\n",
    "from numba import jit\n",
    "import math\n",
    "from math import pi\n",
    "import multiprocessing as mp\n",
    "print(mp.cpu_count())\n",
    "\n",
    "pi8=pi/8\n",
    "pi4=pi/4\n",
    "pi2=pi/2"
   ]
  },
  {
   "cell_type": "code",
   "execution_count": 4,
   "metadata": {},
   "outputs": [],
   "source": [
    "class saddle_space:\n",
    "    def __init__(self):\n",
    "        self.dim = 3\n",
    "    \n",
    "    def fitness(self,psi):\n",
    "        res,_ = launch_sim(psi, duration= 50/UNIT_TIME, max_iter=1e7)\n",
    "        return [-res]\n",
    "    \n",
    "    @jit\n",
    "    def get_bounds(self):\n",
    "        return ([-pi,-pi8,2],[pi2,pi4,4])\n",
    "    \n",
    "    def get_name(self):\n",
    "        return f\"saddlespace\"\n",
    "    \n",
    "    def plot(self, w, idx):\n",
    "        pass"
   ]
  },
  {
   "cell_type": "code",
   "execution_count": 5,
   "metadata": {},
   "outputs": [],
   "source": [
    "class salimans_nes:\n",
    "    def __init__(self, iter=10):\n",
    "        super(salimans_nes, self).__init__()\n",
    "\n",
    "        self.iter = iter  # number of steps towards estimated gradient\n",
    "    \n",
    "    def evolve(self, pop):\n",
    "        if len(pop) == 0:\n",
    "            return pop\n",
    "        sigma = 0.001\n",
    "        alpha = 0.003  # learningrate\n",
    "\n",
    "        # for each iteration, jitter around starting points, and move in the\n",
    "        # best direction (weighted average jitter coordinates according to\n",
    "        # fitness score)\n",
    "        for i in range(self.iter):\n",
    "\n",
    "            # get the population\n",
    "            wl = pop.get_x()\n",
    "\n",
    "            # do the jittering and selection\n",
    "            j = 0\n",
    "            for w in wl:\n",
    "#                 print(f\"mutating {str(w)}\")\n",
    "                noise = np.random.randn(10, 3)\n",
    "                wp = [[x, y, z] for [x, y, z] in np.expand_dims(w, 0) + sigma * noise]\n",
    "#                 print(np.expand_dims(w, 0) + sigma * noise)\n",
    "\n",
    "                R = np.array([-launch_sim(wi,max_iter=1e7)[0] for wi in wp])\n",
    "                R -= R.mean()\n",
    "                R /= R.std()\n",
    "                g = np.dot(R, noise)\n",
    "#                 print(f\"R = {R}, g = {g}\")\n",
    "                u = alpha * g\n",
    "#                 print(f\"new individual = {str(u)}\")\n",
    "                w += u  # mutate the population\n",
    "\n",
    "                pop.set_x(j, w)  # make the move previously selected\n",
    "                j += 1\n",
    "        return pop\n",
    "\n",
    "    def get_name(self):\n",
    "        return f\"Oisin's big-dick omegafantastic algorithm\""
   ]
  },
  {
   "cell_type": "code",
   "execution_count": 8,
   "metadata": {
    "scrolled": false
   },
   "outputs": [],
   "source": [
    "def pygmo_es():\n",
    "    uda = salimans_nes(iter=100)  # user defined algorithm\n",
    "    udp = saddle_space()  # user defined problem\n",
    "    prob = pg.problem(udp) # Beautiful white snow\n",
    "\n",
    "    archi = pg.archipelago(algo=pg.cmaes(), prob=udp, n=6, pop_size=20)\n",
    "    archi.evolve()\n",
    "    print(archi)\n",
    "    archi.wait()\n",
    "\n",
    "    #     pop = pg.population(prob=udp, size=4)\n",
    "    #     pop.set_x(0,[-2.277654673852600, 0.047996554429844, 3.810000000000000])\n",
    "    #     pop.set_x(1,[-0.138042744751570, -0.144259374836607, 3.127288444444444])\n",
    "    #     pop.set_x(2,[-2.086814820119193, -0.000122173047640, 3.111181716545691])\n",
    "    #     uda.evolve(pop)\n",
    "    #     udi=pg.island(algo=uda, pop=pop)\n",
    "    #     udi.evolve()\n",
    "    #     sol = udi.get_population()\n",
    "    sols = archi.get_champions_f()\n",
    "    idx = sols.index(min(sols))\n",
    "    sols_x = archi.get_champions_x()\n",
    "    sol=sols[idx],sols_x[idx]\n",
    "    #     sol = (pop.champion_f, pop.champion_x)\n",
    "    print(sols,sols_x)\n",
    "    print(\"Done! best solution is:\")\n",
    "    print(sol)\n",
    "    return sol"
   ]
  },
  {
   "cell_type": "code",
   "execution_count": null,
   "metadata": {
    "scrolled": false
   },
   "outputs": [],
   "source": [
    "if __name__ == '__main__':\n",
    "    Dv, psi = pygmo_es()\n",
    "    path = launch_sim(psi)\n",
    "    orbitplot2d(path, psi)\n",
    "    orbitplot_non_inertial(path, psi)\n"
   ]
  },
  {
   "cell_type": "code",
   "execution_count": null,
   "metadata": {},
   "outputs": [],
   "source": []
  },
  {
   "cell_type": "code",
   "execution_count": null,
   "metadata": {},
   "outputs": [],
   "source": []
  },
  {
   "cell_type": "code",
   "execution_count": null,
   "metadata": {},
   "outputs": [],
   "source": []
  }
 ],
 "metadata": {
  "kernelspec": {
   "display_name": "Python 3",
   "language": "python",
   "name": "python3"
  },
  "language_info": {
   "codemirror_mode": {
    "name": "ipython",
    "version": 3
   },
   "file_extension": ".py",
   "mimetype": "text/x-python",
   "name": "python",
   "nbconvert_exporter": "python",
   "pygments_lexer": "ipython3",
   "version": "3.6.6"
  }
 },
 "nbformat": 4,
 "nbformat_minor": 2
}
