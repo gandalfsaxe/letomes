{
 "cells": [
  {
   "cell_type": "code",
   "execution_count": 1,
   "metadata": {},
   "outputs": [],
   "source": [
    "import matplotlib.pyplot as plt\n",
    "import matplotlib.gridspec as gridspec\n",
    "from IPython import display\n",
    "import numpy as np\n",
    "plt.rcParams['image.cmap'] = 'gray'\n",
    "plt.rcParams['image.interpolation'] = 'nearest'\n",
    "%matplotlib inline\n",
    "import pygmo as pg\n",
    "from pygmo import algorithm\n",
    "import os\n",
    "import sys\n",
    "import json\n",
    "\n",
    "import time\n",
    "import numpy as np\n",
    "from random import shuffle"
   ]
  },
  {
   "cell_type": "code",
   "execution_count": 26,
   "metadata": {},
   "outputs": [],
   "source": [
    "from math import pi,sqrt,pow\n",
    "\n",
    "# Table constants\n",
    "earth_moon_distance = 384400.0 # km\n",
    "moon_orbit_duration = 27.322 # days\n",
    "earth_radius = 6367.4447 # km\n",
    "earth_mass = 5.9721986e24\n",
    "moon_mass = 7.34767309e22\n",
    "G = 6.67384e-11 # m^3 kg^-1 s^-2\n",
    "moon_radius = 1737.1 # km\n",
    "leo_radius = 160.0+earth_radius # km\n",
    "llo_radius = 100.0+moon_radius # km\n",
    "orbit_range = 10.0 # km\n",
    "day = 24.0*3600.0 # s\n",
    "\n",
    "# Units\n",
    "unit_len = earth_moon_distance # km\n",
    "unit_time = moon_orbit_duration/(2.0*pi) # days\n",
    "unit_vel = unit_len/(unit_time*day) # km/s\n",
    "\n",
    "# Gravitational constants\n",
    "k = moon_mass/(earth_mass+moon_mass) # 1\n",
    "\n",
    "# Calculation constants\n",
    "leo_vel = sqrt(G*earth_mass/(leo_orbit*1000.0))/1000.0 # km/s\n",
    "lunar_orbit_vel = sqrt(G*moon_mass/(lunar_orbit*1000.0))/1000.0 # km/s\n",
    "moon_pos_x = 1-mu\n",
    "earth_pos_x = -mu\n",
    "L1_pos_x = (1-pow(mu/3.0,1.0/3.0))\n"
   ]
  },
  {
   "cell_type": "code",
   "execution_count": 17,
   "metadata": {},
   "outputs": [],
   "source": [
    "import inspect\n",
    "import math"
   ]
  },
  {
   "cell_type": "code",
   "execution_count": 13,
   "metadata": {},
   "outputs": [
    {
     "data": {
      "image/png": "[encoded data removed]",
      "text/plain": [
       "<matplotlib.figure.Figure at 0x235c8c97128>"
      ]
     },
     "metadata": {},
     "output_type": "display_data"
    }
   ],
   "source": [
    "# generate a toy 2D regression dataset\n",
    "sz = 100\n",
    "X,Y = np.meshgrid(np.linspace(-1,1,sz),np.linspace(-1,1,sz))\n",
    "mux,muy,sigma=0.3,-0.3,4\n",
    "G1 = np.exp(-((X-mux)**2+(Y-muy)**2)/2.0*sigma**2)\n",
    "mux,muy,sigma=-0.3,0.3,2\n",
    "G2 = np.exp(-((X-mux)**2+(Y-muy)**2)/2.0*sigma**2)\n",
    "mux,muy,sigma=0.6,0.6,2\n",
    "G3 = np.exp(-((X-mux)**2+(Y-muy)**2)/2.0*sigma**2)\n",
    "mux,muy,sigma=-0.4,-0.2,3\n",
    "G4 = np.exp(-((X-mux)**2+(Y-muy)**2)/2.0*sigma**2)\n",
    "G = G1 + G2 - G3 - G4\n",
    "fig,ax = plt.subplots()\n",
    "im = ax.imshow(G, vmin=-1, vmax=1, cmap='jet')\n",
    "#plt.axis('off')"
   ]
  },
  {
   "cell_type": "code",
   "execution_count": 40,
   "metadata": {},
   "outputs": [
    {
     "name": "stdout",
     "output_type": "stream",
     "text": [
      "2663.7209379470455 5959.199638252225 -5923.754279393595 2757.395466262806\n"
     ]
    },
    {
     "data": {
      "text/plain": [
       "[-2757.395466272384, -5923.754279415022]"
      ]
     },
     "execution_count": 40,
     "metadata": {},
     "output_type": "execute_result"
    }
   ],
   "source": [
    "\"\"\"\n",
    "Pdot = generalized momentum, nondimensionalized\n",
    "\"\"\"\n",
    "def Pdot(x, y, p_x, p_y):\n",
    "    Pdot_x = - p_y - ((1-k)*(x+k))/((x+k)**2+y**2)**(3/2) + (k*(1+k-x))/((1+k-x)**2+y**2)**(3/2)\n",
    "    Pdot_y = p_x - ((1-k)*y)/((x+k)**2+y**2)**(3/2) - (k*y)/((1+k-x)**2+y**2)**(3/2)\n",
    "    return [Pdot_x,Pdot_y]\n",
    "\n",
    "\"\"\" symplectic euler \"\"\" \n",
    "def euler_step(h, x, y, p_x, p_y):\n",
    "    v_x = p_x + y\n",
    "    x = (x + h*(v_x+p_y*h)) / (1.0 + h**2)\n",
    "    v_y = p_y - x\n",
    "    y += v_y*h\n",
    "    \n",
    "    Pdot_x, Pdot_y = Pdot(x, y, p_x, p_y)\n",
    "    p_x+=Pdot_x*h\n",
    "    p_y+=Pdot_y*h\n",
    "    return x,y,p_x,p_y\n",
    "\n",
    "def verlet_step(h,x,y,p_x,p_y):\n",
    "    half_h = h/2\n",
    "    denominator=1.0/(1+half_h**2)\n",
    "    \n",
    "    v_x = p_x-x\n",
    "    x = (x + half_h*(v_x+p_y*half_h)) * denominator\n",
    "    v_y = p_y - x\n",
    "    y+= v_y*half_h\n",
    "    \n",
    "    Pdot_x, Pdot_y = Pdot(x, y, p_x, p_y)\n",
    "    p_x = (p_x+(2.0*Pdot_x+(Pdot_y+Fy)*half_h)*half_h) * denominator\n",
    "    p_y += (Pdot_y*2)*half_h\n",
    "    \n",
    "    v_x = \n",
    "    \n",
    "    \n",
    "\n",
    "def launch_sim(psi):\n",
    "    pos_ang, burn_ang, burnDv = psi\n",
    "    x0 = np.cos(pos_ang) * leo_radius\n",
    "    y0 = np.sin(pos_ang) * leo_radius\n",
    "    x0 += earth_pos_x\n",
    "    \n",
    "    vhat_x = - np.sin(pos_ang)\n",
    "    vhat_y = np.cos(pos_ang)\n",
    "    \n",
    "    v_x = (leo_vel/unit_vel) * vhat_x\n",
    "    v_y = (leo_vel/unit_vel) * vhat_y\n",
    "    \n",
    "    burnDv_x = np.cos(burn_ang)*vhat_x - np.sin(burn_ang)*vhat_y\n",
    "    burnDv_y = np.sin(burn_ang)*vhat_x + np.cos(burn_ang)*vhat_y\n",
    "    \n",
    "    p0_x = v_x + burnDv*burn_y - y0\n",
    "    p0_y = v_y + burnDv*burn_x + x0\n",
    "    \n",
    "    print(x0,y0,p0_x,p0_y)\n",
    "    result = Pdot(x0,y0,p0_x,p0_y)\n",
    "    return result\n",
    "    #return [G[int(psi[0]),int(psi[1])]]\n",
    "\n",
    "derp = launch_sim([20,4,100])\n",
    "derp"
   ]
  },
  {
   "cell_type": "code",
   "execution_count": 39,
   "metadata": {},
   "outputs": [],
   "source": [
    "class saddle_space:\n",
    "    def __init__(self):\n",
    "        self.dim = 2\n",
    "    \n",
    "    def fitness(self,psi):\n",
    "        res = launch_sim(psi)\n",
    "        return res\n",
    "    \n",
    "    def get_bounds(self):\n",
    "        return ([0,0],[999,999])\n",
    "    \n",
    "    def get_name(self):\n",
    "        return f\"saddlespace\"\n",
    "    \n",
    "    def plot(self, w, idx):\n",
    "        plt.imshow(G,vmin=-1, vmax=1, cmap='jet')\n",
    "        x,y = zip(*w)\n",
    "        plt.scatter(x,y,4,'k',edgecolors='face')\n",
    "        plt.scatter(w[idx][0],w[idx][1],15,'y',edgecolors='k')"
   ]
  },
  {
   "cell_type": "code",
   "execution_count": null,
   "metadata": {},
   "outputs": [],
   "source": [
    "class salimans_nes:\n",
    "    def __init__(self,iter=12):\n",
    "        super(salimans_nes,self).__init__()\n",
    "        self.prevx,self.prevy = [],[]\n",
    "        \n",
    "        self.iter=iter # number of steps towards estimated gradient\n",
    "    \n",
    "    def evolve(self,pop):\n",
    "        if len(pop) == 0:\n",
    "            return pop\n",
    "        sigma = 3\n",
    "        alpha = 0.03 # learningrate\n",
    "        \n",
    "        # plotting\n",
    "        plotting = False\n",
    "        if plotting:\n",
    "            plt.figure(figsize=(self.iter,self.iter))\n",
    "            no_rows = int(self.iter/4+1)\n",
    "            gs = gridspec.GridSpec(no_rows,4)\n",
    "            plot_index = 0\n",
    "        \n",
    "        #for each iteration, jitter around starting points, and move in the\n",
    "        #best direction (weighted average jitter coordinates according to \n",
    "        #fitness score)\n",
    "        for i in range(self.iter):\n",
    "            \n",
    "            if plotting:\n",
    "                ax1=plt.subplot(gs[int(i/4),plot_index])\n",
    "                plot_index += 1\n",
    "                if plot_index == 4:\n",
    "                    plot_index = 0\n",
    "                plt.imshow(G,vmin=-1, vmax=1, cmap='jet')\n",
    "            \n",
    "            #get the population    \n",
    "            wl = pop.get_x()\n",
    "            \n",
    "            #do the jittering and selection\n",
    "            j=0\n",
    "            for w in wl:\n",
    "                noise = np.random.randn(200,2)\n",
    "                wp = [[min(99,max(0,x)),min(99,max(0,y))] for [x,y] in np.expand_dims(w, 0) + sigma*noise]\n",
    "                \n",
    "                \n",
    "                \n",
    "                if plotting:\n",
    "                    x,y = zip(*wp)\n",
    "                    plt.scatter(x,y,4,'k',edgecolors='face')\n",
    "                R = np.array([prob.fitness(wi)[0] for wi in wp])\n",
    "                R -= R.mean()\n",
    "                R /= R.std()\n",
    "                g = np.dot(R, noise)\n",
    "                u = alpha * g\n",
    "                w += u # mutate the population\n",
    "                w = [min(99,max(0,w[0])),min(99,max(0,w[1]))] # bounds\n",
    "                pop.set_x(j,w)# make the move previously selected\n",
    "                j+=1\n",
    "        return pop\n",
    "\n",
    "    def get_name(self):\n",
    "        return f\"Oisin's big-dick omegafantastic algorithm\""
   ]
  },
  {
   "cell_type": "code",
   "execution_count": null,
   "metadata": {
    "scrolled": false
   },
   "outputs": [],
   "source": [
    "def pygmo_es():\n",
    "    uda = salimans_nes(iter=25)  # user defined algorithm\n",
    "    udp = saddle_space()  # user defined problem\n",
    "    prob = pg.problem(udp) # Beautiful white snow\n",
    "\n",
    "    archi = pg.archipelago(algo=uda, prob=udp, n=50, pop_size=30)\n",
    "    archi.evolve()\n",
    "    sols = archi.get_champions_f()\n",
    "    idx = sols.index(min(sols))\n",
    "    #print(\"Done!! Solutions found are: \")\n",
    "    #print(archi.get_champions_f())\n",
    "    udp.plot(archi.get_champions_x(),idx)\n",
    "\n",
    "    #pop = pg.population(prob,10,3)\n",
    "    #algo.evolve(pop)"
   ]
  },
  {
   "cell_type": "code",
   "execution_count": 5,
   "metadata": {},
   "outputs": [
    {
     "data": {
      "text/plain": [
       "['',\n",
       " 'C:\\\\Users\\\\oisin\\\\Anaconda3\\\\python36.zip',\n",
       " 'C:\\\\Users\\\\oisin\\\\Anaconda3\\\\DLLs',\n",
       " 'C:\\\\Users\\\\oisin\\\\Anaconda3\\\\lib',\n",
       " 'C:\\\\Users\\\\oisin\\\\Anaconda3',\n",
       " 'C:\\\\Users\\\\oisin\\\\Anaconda3\\\\lib\\\\site-packages',\n",
       " 'C:\\\\Users\\\\oisin\\\\Anaconda3\\\\lib\\\\site-packages\\\\win32',\n",
       " 'C:\\\\Users\\\\oisin\\\\Anaconda3\\\\lib\\\\site-packages\\\\win32\\\\lib',\n",
       " 'C:\\\\Users\\\\oisin\\\\Anaconda3\\\\lib\\\\site-packages\\\\Pythonwin',\n",
       " 'C:\\\\Users\\\\oisin\\\\Anaconda3\\\\lib\\\\site-packages\\\\IPython\\\\extensions',\n",
       " 'C:\\\\Users\\\\oisin\\\\.ipython']"
      ]
     },
     "execution_count": 5,
     "metadata": {},
     "output_type": "execute_result"
    }
   ],
   "source": [
    "sys.path"
   ]
  },
  {
   "cell_type": "code",
   "execution_count": null,
   "metadata": {},
   "outputs": [],
   "source": []
  },
  {
   "cell_type": "code",
   "execution_count": null,
   "metadata": {
    "scrolled": true
   },
   "outputs": [],
   "source": [
    "if __name__ == '__main__':\n",
    "    pygmo_es()"
   ]
  },
  {
   "cell_type": "code",
   "execution_count": 34,
   "metadata": {},
   "outputs": [
    {
     "ename": "TypeError",
     "evalue": "'NoneType' object is not callable",
     "output_type": "error",
     "traceback": [
      "\u001b[1;31m---------------------------------------------------------------------------\u001b[0m",
      "\u001b[1;31mTypeError\u001b[0m                                 Traceback (most recent call last)",
      "\u001b[1;32m<ipython-input-34-67372b8cb027>\u001b[0m in \u001b[0;36m<module>\u001b[1;34m()\u001b[0m\n\u001b[1;32m----> 1\u001b[1;33m \u001b[0mderp\u001b[0m\u001b[1;33m(\u001b[0m\u001b[1;33m)\u001b[0m\u001b[1;33m\u001b[0m\u001b[0m\n\u001b[0m",
      "\u001b[1;31mTypeError\u001b[0m: 'NoneType' object is not callable"
     ]
    }
   ],
   "source": []
  },
  {
   "cell_type": "code",
   "execution_count": null,
   "metadata": {},
   "outputs": [],
   "source": []
  },
  {
   "cell_type": "code",
   "execution_count": null,
   "metadata": {},
   "outputs": [],
   "source": []
  }
 ],
 "metadata": {
  "kernelspec": {
   "display_name": "Python 3",
   "language": "python",
   "name": "python3"
  },
  "language_info": {
   "codemirror_mode": {
    "name": "ipython",
    "version": 3
   },
   "file_extension": ".py",
   "mimetype": "text/x-python",
   "name": "python",
   "nbconvert_exporter": "python",
   "pygments_lexer": "ipython3",
   "version": "3.6.4"
  }
 },
 "nbformat": 4,
 "nbformat_minor": 2
}
