{
 "cells": [
  {
   "cell_type": "code",
   "execution_count": 10,
   "metadata": {},
   "outputs": [
    {
     "name": "stdout",
     "output_type": "stream",
     "text": [
      "The autoreload extension is already loaded. To reload it, use:\n",
      "  %reload_ext autoreload\n"
     ]
    }
   ],
   "source": [
    "import matplotlib.pyplot as plt\n",
    "import matplotlib.gridspec as gridspec\n",
    "from IPython import display\n",
    "import numpy as np\n",
    "plt.rcParams['image.cmap'] = 'gray'\n",
    "plt.rcParams['image.interpolation'] = 'nearest'\n",
    "%matplotlib inline\n",
    "import pygmo as pg\n",
    "from pygmo import algorithm\n",
    "import os\n",
    "import sys\n",
    "import json\n",
    "from orbsim.constants import *\n",
    "from orbsim.derivations import *\n",
    "from orbsim.simulators import symplectic\n",
    "%load_ext autoreload\n",
    "%autoreload 2\n",
    "import time\n",
    "from random import shuffle"
   ]
  },
  {
   "cell_type": "code",
   "execution_count": 11,
   "metadata": {},
   "outputs": [],
   "source": [
    "import inspect\n",
    "import math"
   ]
  },
  {
   "cell_type": "code",
   "execution_count": 12,
   "metadata": {},
   "outputs": [
    {
     "name": "stdout",
     "output_type": "stream",
     "text": [
      "2663.7209379470455 5959.199638252225 -5923.754279393595 2757.395466262806\n"
     ]
    },
    {
     "data": {
      "text/plain": [
       "(2663.720973392498,\n",
       " 5959.1997319267175,\n",
       " -5923.757036789062,\n",
       " 2757.3895425085266,\n",
       " 2663.716661930784,\n",
       " 5959.1997319280845,\n",
       " -5923.757036792023,\n",
       " 2757.3895425085266)"
      ]
     },
     "execution_count": 12,
     "metadata": {},
     "output_type": "execute_result"
    }
   ],
   "source": [
    "def launch_sim(psi):\n",
    "    \"\"\"\n",
    "    launch (not really a launch since we start from LEO) a \n",
    "    single rocket with a given set of hyperparameters, return the resulting path\n",
    "    \"\"\"\n",
    "    pos_ang, burn_ang, burnDv = psi # extract parameters from decision vector\n",
    "    \n",
    "    \"\"\"define init params\"\"\"\n",
    "    #position (where on earth do we start our burn)\n",
    "    x0 = np.cos(pos_ang) * leo_radius\n",
    "    y0 = np.sin(pos_ang) * leo_radius\n",
    "    x0 += earth_position_X\n",
    "    \n",
    "    # how fast are we going when we start?\n",
    "    vhat_x = - np.sin(pos_ang)\n",
    "    vhat_y = np.cos(pos_ang)\n",
    "    v_x = (leo_velocity/unit_velocity) * vhat_x\n",
    "    v_y = (leo_velocity/unit_velocity) * vhat_y\n",
    "    \n",
    "    # burn vector: At what angle do we launch outward, and how hard do we push?\n",
    "    burnDv_x = np.cos(burn_ang)*vhat_x - np.sin(burn_ang)*vhat_y\n",
    "    burnDv_y = np.sin(burn_ang)*vhat_x + np.cos(burn_ang)*vhat_y\n",
    "    \n",
    "    # resultant momentum vector\n",
    "    p0_x = v_x + burnDv*burnDv_y - y0\n",
    "    p0_y = v_y + burnDv*burnDv_x + x0\n",
    "    \n",
    "    \"\"\"SIMULATE\"\"\"\n",
    "    print(x0,y0,p0_x,p0_y)\n",
    "    result = symplectic(x0,y0,p0_x,p0_y)\n",
    "    \n",
    "    return result\n",
    "\n",
    "launch_sim([20,4,100])\n"
   ]
  },
  {
   "cell_type": "code",
   "execution_count": 9,
   "metadata": {},
   "outputs": [],
   "source": [
    "class saddle_space:\n",
    "    def __init__(self):\n",
    "        self.dim = 2\n",
    "    \n",
    "    def fitness(self,psi):\n",
    "        res = launch_sim(psi)\n",
    "        return res\n",
    "    \n",
    "    def get_bounds(self):\n",
    "        return ([0,0],[99,99])\n",
    "    \n",
    "    def get_name(self):\n",
    "        return f\"saddlespace\"\n",
    "    \n",
    "    def plot(self, w, idx):\n",
    "        plt.imshow(G,vmin=-1, vmax=1, cmap='jet')\n",
    "        x,y = zip(*w)\n",
    "        plt.scatter(x,y,4,'k',edgecolors='face')\n",
    "        plt.scatter(w[idx][0],w[idx][1],15,'y',edgecolors='k')"
   ]
  },
  {
   "cell_type": "code",
   "execution_count": null,
   "metadata": {},
   "outputs": [],
   "source": [
    "class salimans_nes:\n",
    "    def __init__(self,iter=12):\n",
    "        super(salimans_nes,self).__init__()\n",
    "        self.prevx,self.prevy = [],[]\n",
    "        \n",
    "        self.iter=iter # number of steps towards estimated gradient\n",
    "    \n",
    "    def evolve(self,pop):\n",
    "        if len(pop) == 0:\n",
    "            return pop\n",
    "        sigma = 3\n",
    "        alpha = 0.03 # learningrate\n",
    "        \n",
    "        # plotting\n",
    "        plotting = False\n",
    "        if plotting:\n",
    "            plt.figure(figsize=(self.iter,self.iter))\n",
    "            no_rows = int(self.iter/4+1)\n",
    "            gs = gridspec.GridSpec(no_rows,4)\n",
    "            plot_index = 0\n",
    "        \n",
    "        #for each iteration, jitter around starting points, and move in the\n",
    "        #best direction (weighted average jitter coordinates according to \n",
    "        #fitness score)\n",
    "        for i in range(self.iter):\n",
    "            \n",
    "            if plotting:\n",
    "                ax1=plt.subplot(gs[int(i/4),plot_index])\n",
    "                plot_index += 1\n",
    "                if plot_index == 4:\n",
    "                    plot_index = 0\n",
    "                plt.imshow(G,vmin=-1, vmax=1, cmap='jet')\n",
    "            \n",
    "            #get the population    \n",
    "            wl = pop.get_x()\n",
    "            \n",
    "            #do the jittering and selection\n",
    "            j=0\n",
    "            for w in wl:\n",
    "                noise = np.random.randn(200,2)\n",
    "                wp = [[min(99,max(0,x)),min(99,max(0,y))] for [x,y] in np.expand_dims(w, 0) + sigma*noise]\n",
    "                \n",
    "                \n",
    "                \n",
    "                if plotting:\n",
    "                    x,y = zip(*wp)\n",
    "                    plt.scatter(x,y,4,'k',edgecolors='face')\n",
    "                R = np.array([prob.fitness(wi)[0] for wi in wp])\n",
    "                R -= R.mean()\n",
    "                R /= R.std()\n",
    "                g = np.dot(R, noise)\n",
    "                u = alpha * g\n",
    "                w += u # mutate the population\n",
    "                w = [min(99,max(0,w[0])),min(99,max(0,w[1]))] # bounds\n",
    "                pop.set_x(j,w)# make the move previously selected\n",
    "                j+=1\n",
    "        return pop\n",
    "\n",
    "    def get_name(self):\n",
    "        return f\"Oisin's big-dick omegafantastic algorithm\""
   ]
  },
  {
   "cell_type": "code",
   "execution_count": null,
   "metadata": {
    "scrolled": false
   },
   "outputs": [],
   "source": [
    "def pygmo_es():\n",
    "    uda = salimans_nes(iter=25)  # user defined algorithm\n",
    "    udp = saddle_space()  # user defined problem\n",
    "    prob = pg.problem(udp) # Beautiful white snow\n",
    "\n",
    "    archi = pg.archipelago(algo=uda, prob=udp, n=50, pop_size=30)\n",
    "    archi.evolve()\n",
    "    sols = archi.get_champions_f()\n",
    "    idx = sols.index(min(sols))\n",
    "    #print(\"Done!! Solutions found are: \")\n",
    "    #print(archi.get_champions_f())\n",
    "    udp.plot(archi.get_champions_x(),idx)\n",
    "\n",
    "    #pop = pg.population(prob,10,3)\n",
    "    #algo.evolve(pop)"
   ]
  },
  {
   "cell_type": "code",
   "execution_count": 7,
   "metadata": {},
   "outputs": [],
   "source": []
  },
  {
   "cell_type": "code",
   "execution_count": null,
   "metadata": {
    "scrolled": true
   },
   "outputs": [],
   "source": [
    "if __name__ == '__main__':\n",
    "    pygmo_es()"
   ]
  },
  {
   "cell_type": "code",
   "execution_count": 5,
   "metadata": {},
   "outputs": [
    {
     "name": "stdout",
     "output_type": "stream",
     "text": [
      "-3575.284610287674 5461.223413487295 -5487.360085474069 -3576.295392653341\n"
     ]
    }
   ],
   "source": [
    "x,y = launch_sim([21,20,20])"
   ]
  },
  {
   "cell_type": "code",
   "execution_count": 8,
   "metadata": {},
   "outputs": [
    {
     "data": {
      "text/plain": [
       "<module 'orbsim.derivations' from 'C:\\\\Users\\\\oisin\\\\Work\\\\letomes\\\\code\\\\orbsim\\\\derivations.py'>"
      ]
     },
     "execution_count": 8,
     "metadata": {},
     "output_type": "execute_result"
    }
   ],
   "source": []
  },
  {
   "cell_type": "code",
   "execution_count": null,
   "metadata": {},
   "outputs": [],
   "source": []
  }
 ],
 "metadata": {
  "kernelspec": {
   "display_name": "Python 3",
   "language": "python",
   "name": "python3"
  },
  "language_info": {
   "codemirror_mode": {
    "name": "ipython",
    "version": 3
   },
   "file_extension": ".py",
   "mimetype": "text/x-python",
   "name": "python",
   "nbconvert_exporter": "python",
   "pygments_lexer": "ipython3",
   "version": "3.6.4"
  }
 },
 "nbformat": 4,
 "nbformat_minor": 2
}
