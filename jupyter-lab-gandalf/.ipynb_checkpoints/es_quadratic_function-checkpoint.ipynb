{
 "cells": [
  {
   "cell_type": "markdown",
   "metadata": {},
   "source": [
    "A bare bones examples of optimizing a black-box function (f) using\n",
    "Natural Evolution Strategies (NES), where the parameter distribution is a \n",
    "gaussian of fixed standard deviation.\n",
    "\n",
    "Adapted from: https://gist.github.com/karpathy/77fbb6a8dac5395f1b73e7a89300318d"
   ]
  },
  {
   "cell_type": "code",
   "execution_count": 2,
   "metadata": {},
   "outputs": [],
   "source": [
    "import numpy as np\n",
    "np.random.seed(0)"
   ]
  },
  {
   "cell_type": "code",
   "execution_count": 3,
   "metadata": {},
   "outputs": [],
   "source": [
    "# the function we want to optimize\n",
    "def f(w):\n",
    "  # here we would normally:\n",
    "  # ... 1) create a neural network with weights w\n",
    "  # ... 2) run the neural network on the environment for some time\n",
    "  # ... 3) sum up and return the total reward\n",
    "\n",
    "  # but for the purposes of an example, lets try to minimize\n",
    "  # the L2 distance to a specific solution vector. So the highest reward\n",
    "  # we can achieve is 0, when the vector w is exactly equal to solution\n",
    "  reward = -np.sum(np.square(solution - w))\n",
    "  return reward"
   ]
  },
  {
   "cell_type": "code",
   "execution_count": 4,
   "metadata": {},
   "outputs": [],
   "source": [
    "# hyperparameters\n",
    "npop = 50 # population size\n",
    "sigma = 0.1 # noise standard deviation\n",
    "alpha = 0.001 # learning rate"
   ]
  },
  {
   "cell_type": "code",
   "execution_count": null,
   "metadata": {},
   "outputs": [],
   "source": [
    "# start the optimization\n",
    "solution = np.array([0.5, 0.1, -0.3])\n",
    "w = np.random.randn(3) # our initial guess is random\n",
    "for i in range(300):\n",
    "\n",
    "  # print current fitness of the most likely parameter setting\n",
    "  if i % 20 == 0:\n",
    "    print('iter %d. w: %s, solution: %s, reward: %f' % \n",
    "          (i, str(w), str(solution), f(w)))\n",
    "\n",
    "  # initialize memory for a population of w's, and their rewards\n",
    "  N = np.random.randn(npop, 3) # samples from a normal distribution N(0,1)\n",
    "  R = np.zeros(npop)\n",
    "  for j in range(npop):\n",
    "    w_try = w + sigma*N[j] # jitter w using gaussian of sigma 0.1\n",
    "    R[j] = f(w_try) # evaluate the jittered version\n",
    "\n",
    "  # standardize the rewards to have a gaussian distribution\n",
    "  A = (R - np.mean(R)) / np.std(R)\n",
    "  # perform the parameter update. The matrix multiply below\n",
    "  # is just an efficient way to sum up all the rows of the noise matrix N,\n",
    "  # where each row N[j] is weighted by A[j]\n",
    "  w = w + alpha/(npop*sigma) * np.dot(N.T, A)"
   ]
  }
 ],
 "metadata": {
  "kernelspec": {
   "display_name": "Python 3",
   "language": "python",
   "name": "python3"
  },
  "language_info": {
   "codemirror_mode": {
    "name": "ipython",
    "version": 3
   },
   "file_extension": ".py",
   "mimetype": "text/x-python",
   "name": "python",
   "nbconvert_exporter": "python",
   "pygments_lexer": "ipython3",
   "version": "3.6.5"
  }
 },
 "nbformat": 4,
 "nbformat_minor": 2
}
