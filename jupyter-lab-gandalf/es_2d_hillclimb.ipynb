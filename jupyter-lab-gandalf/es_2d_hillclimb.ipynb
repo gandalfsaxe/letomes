{
 "cells": [
  {
   "cell_type": "markdown",
   "metadata": {},
   "source": [
    "# Natural Evolution Strategies (NES) toy example that climbs a hill in 2D\n",
    "\n",
    "A bare bones example of optimizing finding the local minima of an example\n",
    "2D function using Natural Evolution Strategies (NES), where gradient is estimated\n",
    "as the average of the jittered points around current location, weighted by how\n",
    "much the function increases for each direction.\n",
    "\n",
    "Adapted from: https://gist.github.com/karpathy/77fbb6a8dac5395f1b73e7a89300318d\n",
    "Originally linked from https://blog.openai.com/evolution-strategies/"
   ]
  },
  {
   "cell_type": "code",
   "execution_count": null,
   "metadata": {},
   "outputs": [],
   "source": []
  }
 ],
 "metadata": {
  "kernelspec": {
   "display_name": "Python 3",
   "language": "python",
   "name": "python3"
  },
  "language_info": {
   "codemirror_mode": {
    "name": "ipython",
    "version": 3
   },
   "file_extension": ".py",
   "mimetype": "text/x-python",
   "name": "python",
   "nbconvert_exporter": "python",
   "pygments_lexer": "ipython3",
   "version": "3.6.5"
  }
 },
 "nbformat": 4,
 "nbformat_minor": 2
}
